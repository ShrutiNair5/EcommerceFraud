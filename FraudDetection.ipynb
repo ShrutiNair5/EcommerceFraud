{
 "cells": [
  {
   "cell_type": "code",
   "execution_count": 2,
   "metadata": {},
   "outputs": [],
   "source": [
    "import pandas as pd\n",
    "import numpy as np\n",
    "import matplotlib.pyplot as plt\n",
    "import seaborn as sns\n"
   ]
  },
  {
   "cell_type": "code",
   "execution_count": 2,
   "metadata": {},
   "outputs": [],
   "source": [
    "ip=pd.read_csv('ip_mappings.csv')\n",
    "fraud=pd.read_csv('ecom_txns.csv')"
   ]
  },
  {
   "cell_type": "code",
   "execution_count": 2,
   "metadata": {},
   "outputs": [],
   "source": [
    "ip=pd.read_csv('ip_mappings.csv')\n",
    "fraud=pd.read_csv('fraud_w_country.csv',index_col=0)"
   ]
  },
  {
   "cell_type": "code",
   "execution_count": 79,
   "metadata": {},
   "outputs": [
    {
     "data": {
      "text/html": [
       "<div>\n",
       "<style scoped>\n",
       "    .dataframe tbody tr th:only-of-type {\n",
       "        vertical-align: middle;\n",
       "    }\n",
       "\n",
       "    .dataframe tbody tr th {\n",
       "        vertical-align: top;\n",
       "    }\n",
       "\n",
       "    .dataframe thead th {\n",
       "        text-align: right;\n",
       "    }\n",
       "</style>\n",
       "<table border=\"1\" class=\"dataframe\">\n",
       "  <thead>\n",
       "    <tr style=\"text-align: right;\">\n",
       "      <th></th>\n",
       "      <th>range_start</th>\n",
       "      <th>range_end</th>\n",
       "      <th>country</th>\n",
       "    </tr>\n",
       "  </thead>\n",
       "  <tbody>\n",
       "    <tr>\n",
       "      <th>0</th>\n",
       "      <td>0.0.0.0</td>\n",
       "      <td>0.255.255.255</td>\n",
       "      <td>ZZ</td>\n",
       "    </tr>\n",
       "    <tr>\n",
       "      <th>1</th>\n",
       "      <td>1.0.0.0</td>\n",
       "      <td>1.0.0.255</td>\n",
       "      <td>AU</td>\n",
       "    </tr>\n",
       "    <tr>\n",
       "      <th>2</th>\n",
       "      <td>1.0.1.0</td>\n",
       "      <td>1.0.3.255</td>\n",
       "      <td>CN</td>\n",
       "    </tr>\n",
       "    <tr>\n",
       "      <th>3</th>\n",
       "      <td>1.0.4.0</td>\n",
       "      <td>1.0.7.255</td>\n",
       "      <td>AU</td>\n",
       "    </tr>\n",
       "    <tr>\n",
       "      <th>4</th>\n",
       "      <td>1.0.8.0</td>\n",
       "      <td>1.0.15.255</td>\n",
       "      <td>CN</td>\n",
       "    </tr>\n",
       "  </tbody>\n",
       "</table>\n",
       "</div>"
      ],
      "text/plain": [
       "  range_start      range_end country\n",
       "0     0.0.0.0  0.255.255.255      ZZ\n",
       "1     1.0.0.0      1.0.0.255      AU\n",
       "2     1.0.1.0      1.0.3.255      CN\n",
       "3     1.0.4.0      1.0.7.255      AU\n",
       "4     1.0.8.0     1.0.15.255      CN"
      ]
     },
     "execution_count": 79,
     "metadata": {},
     "output_type": "execute_result"
    }
   ],
   "source": [
    "ip.head()"
   ]
  },
  {
   "cell_type": "code",
   "execution_count": 118,
   "metadata": {},
   "outputs": [
    {
     "data": {
      "text/html": [
       "<div>\n",
       "<style scoped>\n",
       "    .dataframe tbody tr th:only-of-type {\n",
       "        vertical-align: middle;\n",
       "    }\n",
       "\n",
       "    .dataframe tbody tr th {\n",
       "        vertical-align: top;\n",
       "    }\n",
       "\n",
       "    .dataframe thead th {\n",
       "        text-align: right;\n",
       "    }\n",
       "</style>\n",
       "<table border=\"1\" class=\"dataframe\">\n",
       "  <thead>\n",
       "    <tr style=\"text-align: right;\">\n",
       "      <th></th>\n",
       "      <th>user_id</th>\n",
       "      <th>signup_datetime</th>\n",
       "      <th>datetime</th>\n",
       "      <th>amount</th>\n",
       "      <th>device_id</th>\n",
       "      <th>store</th>\n",
       "      <th>browser</th>\n",
       "      <th>sex</th>\n",
       "      <th>age</th>\n",
       "      <th>ip_address</th>\n",
       "      <th>fraud</th>\n",
       "      <th>country</th>\n",
       "    </tr>\n",
       "  </thead>\n",
       "  <tbody>\n",
       "    <tr>\n",
       "      <th>0</th>\n",
       "      <td>40630765</td>\n",
       "      <td>2016-03-22 09:11:01</td>\n",
       "      <td>2016-06-01 01:58:07</td>\n",
       "      <td>12.05</td>\n",
       "      <td>41974320</td>\n",
       "      <td>toys</td>\n",
       "      <td>IE</td>\n",
       "      <td>F</td>\n",
       "      <td>27</td>\n",
       "      <td>3924506326</td>\n",
       "      <td>0</td>\n",
       "      <td>ZZ</td>\n",
       "    </tr>\n",
       "    <tr>\n",
       "      <th>1</th>\n",
       "      <td>90517585</td>\n",
       "      <td>2016-05-17 14:45:10</td>\n",
       "      <td>2016-06-03 13:49:55</td>\n",
       "      <td>55.68</td>\n",
       "      <td>70879186</td>\n",
       "      <td>babies</td>\n",
       "      <td>IE</td>\n",
       "      <td>F</td>\n",
       "      <td>31</td>\n",
       "      <td>2432689644</td>\n",
       "      <td>0</td>\n",
       "      <td>CN</td>\n",
       "    </tr>\n",
       "    <tr>\n",
       "      <th>2</th>\n",
       "      <td>63383012</td>\n",
       "      <td>2016-09-02 14:15:02</td>\n",
       "      <td>2016-12-03 13:38:24</td>\n",
       "      <td>33.45</td>\n",
       "      <td>40697637</td>\n",
       "      <td>pets</td>\n",
       "      <td>Chrome</td>\n",
       "      <td>F</td>\n",
       "      <td>49</td>\n",
       "      <td>2093944038</td>\n",
       "      <td>0</td>\n",
       "      <td>CN</td>\n",
       "    </tr>\n",
       "    <tr>\n",
       "      <th>3</th>\n",
       "      <td>34695055</td>\n",
       "      <td>2016-08-03 01:51:47</td>\n",
       "      <td>2016-11-11 12:49:45</td>\n",
       "      <td>40.32</td>\n",
       "      <td>29544115</td>\n",
       "      <td>toys</td>\n",
       "      <td>FireFox</td>\n",
       "      <td>M</td>\n",
       "      <td>41</td>\n",
       "      <td>77751156</td>\n",
       "      <td>0</td>\n",
       "      <td>US</td>\n",
       "    </tr>\n",
       "    <tr>\n",
       "      <th>4</th>\n",
       "      <td>92152176</td>\n",
       "      <td>2016-07-17 04:58:30</td>\n",
       "      <td>2016-08-24 19:12:41</td>\n",
       "      <td>49.16</td>\n",
       "      <td>80967980</td>\n",
       "      <td>babies</td>\n",
       "      <td>Chrome</td>\n",
       "      <td>Not Provided</td>\n",
       "      <td>44</td>\n",
       "      <td>1520970714</td>\n",
       "      <td>0</td>\n",
       "      <td>ES</td>\n",
       "    </tr>\n",
       "  </tbody>\n",
       "</table>\n",
       "</div>"
      ],
      "text/plain": [
       "    user_id      signup_datetime             datetime  amount  device_id  \\\n",
       "0  40630765  2016-03-22 09:11:01  2016-06-01 01:58:07   12.05   41974320   \n",
       "1  90517585  2016-05-17 14:45:10  2016-06-03 13:49:55   55.68   70879186   \n",
       "2  63383012  2016-09-02 14:15:02  2016-12-03 13:38:24   33.45   40697637   \n",
       "3  34695055  2016-08-03 01:51:47  2016-11-11 12:49:45   40.32   29544115   \n",
       "4  92152176  2016-07-17 04:58:30  2016-08-24 19:12:41   49.16   80967980   \n",
       "\n",
       "    store  browser           sex  age  ip_address  fraud country  \n",
       "0    toys       IE             F   27  3924506326      0      ZZ  \n",
       "1  babies       IE             F   31  2432689644      0      CN  \n",
       "2    pets   Chrome             F   49  2093944038      0      CN  \n",
       "3    toys  FireFox             M   41    77751156      0      US  \n",
       "4  babies   Chrome  Not Provided   44  1520970714      0      ES  "
      ]
     },
     "execution_count": 118,
     "metadata": {},
     "output_type": "execute_result"
    }
   ],
   "source": [
    "fraud.head()"
   ]
  },
  {
   "cell_type": "code",
   "execution_count": 5,
   "metadata": {},
   "outputs": [
    {
     "data": {
      "text/plain": [
       "249"
      ]
     },
     "execution_count": 5,
     "metadata": {},
     "output_type": "execute_result"
    }
   ],
   "source": [
    "len(ip['country'].unique())"
   ]
  },
  {
   "cell_type": "code",
   "execution_count": 6,
   "metadata": {},
   "outputs": [
    {
     "data": {
      "text/plain": [
       "(632596, 3)"
      ]
     },
     "execution_count": 6,
     "metadata": {},
     "output_type": "execute_result"
    }
   ],
   "source": [
    "ip.shape"
   ]
  },
  {
   "cell_type": "code",
   "execution_count": 7,
   "metadata": {},
   "outputs": [
    {
     "data": {
      "text/plain": [
       "(150000, 11)"
      ]
     },
     "execution_count": 7,
     "metadata": {},
     "output_type": "execute_result"
    }
   ],
   "source": [
    "fraud.shape"
   ]
  },
  {
   "cell_type": "code",
   "execution_count": 51,
   "metadata": {},
   "outputs": [
    {
     "data": {
      "text/plain": [
       "4043309189"
      ]
     },
     "execution_count": 51,
     "metadata": {},
     "output_type": "execute_result"
    }
   ],
   "source": [
    "ip2int('241.0.0.133')"
   ]
  },
  {
   "cell_type": "code",
   "execution_count": 82,
   "metadata": {},
   "outputs": [],
   "source": [
    "import ipaddress\n",
    "def ip2int(ip):\n",
    "    return int(ipaddress.ip_address(ip))\n",
    "    "
   ]
  },
  {
   "cell_type": "code",
   "execution_count": 83,
   "metadata": {},
   "outputs": [],
   "source": [
    "ip['upper_bound']=ip.range_end.apply(ip2int)"
   ]
  },
  {
   "cell_type": "code",
   "execution_count": 86,
   "metadata": {},
   "outputs": [
    {
     "data": {
      "text/html": [
       "<div>\n",
       "<style scoped>\n",
       "    .dataframe tbody tr th:only-of-type {\n",
       "        vertical-align: middle;\n",
       "    }\n",
       "\n",
       "    .dataframe tbody tr th {\n",
       "        vertical-align: top;\n",
       "    }\n",
       "\n",
       "    .dataframe thead th {\n",
       "        text-align: right;\n",
       "    }\n",
       "</style>\n",
       "<table border=\"1\" class=\"dataframe\">\n",
       "  <thead>\n",
       "    <tr style=\"text-align: right;\">\n",
       "      <th></th>\n",
       "      <th>range_start</th>\n",
       "      <th>range_end</th>\n",
       "      <th>country</th>\n",
       "      <th>upper_bound</th>\n",
       "      <th>lower_bound</th>\n",
       "    </tr>\n",
       "  </thead>\n",
       "  <tbody>\n",
       "    <tr>\n",
       "      <th>0</th>\n",
       "      <td>0.0.0.0</td>\n",
       "      <td>0.255.255.255</td>\n",
       "      <td>ZZ</td>\n",
       "      <td>16777215</td>\n",
       "      <td>0</td>\n",
       "    </tr>\n",
       "    <tr>\n",
       "      <th>1</th>\n",
       "      <td>1.0.0.0</td>\n",
       "      <td>1.0.0.255</td>\n",
       "      <td>AU</td>\n",
       "      <td>16777471</td>\n",
       "      <td>16777216</td>\n",
       "    </tr>\n",
       "    <tr>\n",
       "      <th>2</th>\n",
       "      <td>1.0.1.0</td>\n",
       "      <td>1.0.3.255</td>\n",
       "      <td>CN</td>\n",
       "      <td>16778239</td>\n",
       "      <td>16777472</td>\n",
       "    </tr>\n",
       "    <tr>\n",
       "      <th>3</th>\n",
       "      <td>1.0.4.0</td>\n",
       "      <td>1.0.7.255</td>\n",
       "      <td>AU</td>\n",
       "      <td>16779263</td>\n",
       "      <td>16778240</td>\n",
       "    </tr>\n",
       "    <tr>\n",
       "      <th>4</th>\n",
       "      <td>1.0.8.0</td>\n",
       "      <td>1.0.15.255</td>\n",
       "      <td>CN</td>\n",
       "      <td>16781311</td>\n",
       "      <td>16779264</td>\n",
       "    </tr>\n",
       "  </tbody>\n",
       "</table>\n",
       "</div>"
      ],
      "text/plain": [
       "  range_start      range_end country upper_bound lower_bound\n",
       "0     0.0.0.0  0.255.255.255      ZZ    16777215           0\n",
       "1     1.0.0.0      1.0.0.255      AU    16777471    16777216\n",
       "2     1.0.1.0      1.0.3.255      CN    16778239    16777472\n",
       "3     1.0.4.0      1.0.7.255      AU    16779263    16778240\n",
       "4     1.0.8.0     1.0.15.255      CN    16781311    16779264"
      ]
     },
     "execution_count": 86,
     "metadata": {},
     "output_type": "execute_result"
    }
   ],
   "source": [
    "ip.head()"
   ]
  },
  {
   "cell_type": "code",
   "execution_count": 85,
   "metadata": {},
   "outputs": [],
   "source": [
    "ip['lower_bound']=ip.range_start.apply(ip2int)"
   ]
  },
  {
   "cell_type": "code",
   "execution_count": 89,
   "metadata": {},
   "outputs": [
    {
     "data": {
      "text/html": [
       "<div>\n",
       "<style scoped>\n",
       "    .dataframe tbody tr th:only-of-type {\n",
       "        vertical-align: middle;\n",
       "    }\n",
       "\n",
       "    .dataframe tbody tr th {\n",
       "        vertical-align: top;\n",
       "    }\n",
       "\n",
       "    .dataframe thead th {\n",
       "        text-align: right;\n",
       "    }\n",
       "</style>\n",
       "<table border=\"1\" class=\"dataframe\">\n",
       "  <thead>\n",
       "    <tr style=\"text-align: right;\">\n",
       "      <th></th>\n",
       "      <th>user_id</th>\n",
       "      <th>signup_datetime</th>\n",
       "      <th>datetime</th>\n",
       "      <th>amount</th>\n",
       "      <th>device_id</th>\n",
       "      <th>store</th>\n",
       "      <th>browser</th>\n",
       "      <th>sex</th>\n",
       "      <th>age</th>\n",
       "      <th>ip_address</th>\n",
       "      <th>fraud</th>\n",
       "    </tr>\n",
       "  </thead>\n",
       "  <tbody>\n",
       "    <tr>\n",
       "      <th>0</th>\n",
       "      <td>40630765</td>\n",
       "      <td>2016-03-22 09:11:01</td>\n",
       "      <td>2016-06-01 01:58:07</td>\n",
       "      <td>12.05</td>\n",
       "      <td>41974320</td>\n",
       "      <td>toys</td>\n",
       "      <td>IE</td>\n",
       "      <td>F</td>\n",
       "      <td>27</td>\n",
       "      <td>3924506326</td>\n",
       "      <td>0</td>\n",
       "    </tr>\n",
       "    <tr>\n",
       "      <th>1</th>\n",
       "      <td>90517585</td>\n",
       "      <td>2016-05-17 14:45:10</td>\n",
       "      <td>2016-06-03 13:49:55</td>\n",
       "      <td>55.68</td>\n",
       "      <td>70879186</td>\n",
       "      <td>babies</td>\n",
       "      <td>IE</td>\n",
       "      <td>F</td>\n",
       "      <td>31</td>\n",
       "      <td>2432689644</td>\n",
       "      <td>0</td>\n",
       "    </tr>\n",
       "    <tr>\n",
       "      <th>2</th>\n",
       "      <td>63383012</td>\n",
       "      <td>2016-09-02 14:15:02</td>\n",
       "      <td>2016-12-03 13:38:24</td>\n",
       "      <td>33.45</td>\n",
       "      <td>40697637</td>\n",
       "      <td>pets</td>\n",
       "      <td>Chrome</td>\n",
       "      <td>F</td>\n",
       "      <td>49</td>\n",
       "      <td>2093944038</td>\n",
       "      <td>0</td>\n",
       "    </tr>\n",
       "    <tr>\n",
       "      <th>3</th>\n",
       "      <td>34695055</td>\n",
       "      <td>2016-08-03 01:51:47</td>\n",
       "      <td>2016-11-11 12:49:45</td>\n",
       "      <td>40.32</td>\n",
       "      <td>29544115</td>\n",
       "      <td>toys</td>\n",
       "      <td>FireFox</td>\n",
       "      <td>M</td>\n",
       "      <td>41</td>\n",
       "      <td>77751156</td>\n",
       "      <td>0</td>\n",
       "    </tr>\n",
       "    <tr>\n",
       "      <th>4</th>\n",
       "      <td>92152176</td>\n",
       "      <td>2016-07-17 04:58:30</td>\n",
       "      <td>2016-08-24 19:12:41</td>\n",
       "      <td>49.16</td>\n",
       "      <td>80967980</td>\n",
       "      <td>babies</td>\n",
       "      <td>Chrome</td>\n",
       "      <td>Not Provided</td>\n",
       "      <td>44</td>\n",
       "      <td>1520970714</td>\n",
       "      <td>0</td>\n",
       "    </tr>\n",
       "  </tbody>\n",
       "</table>\n",
       "</div>"
      ],
      "text/plain": [
       "    user_id      signup_datetime             datetime  amount  device_id  \\\n",
       "0  40630765  2016-03-22 09:11:01  2016-06-01 01:58:07   12.05   41974320   \n",
       "1  90517585  2016-05-17 14:45:10  2016-06-03 13:49:55   55.68   70879186   \n",
       "2  63383012  2016-09-02 14:15:02  2016-12-03 13:38:24   33.45   40697637   \n",
       "3  34695055  2016-08-03 01:51:47  2016-11-11 12:49:45   40.32   29544115   \n",
       "4  92152176  2016-07-17 04:58:30  2016-08-24 19:12:41   49.16   80967980   \n",
       "\n",
       "    store  browser           sex  age  ip_address  fraud  \n",
       "0    toys       IE             F   27  3924506326      0  \n",
       "1  babies       IE             F   31  2432689644      0  \n",
       "2    pets   Chrome             F   49  2093944038      0  \n",
       "3    toys  FireFox             M   41    77751156      0  \n",
       "4  babies   Chrome  Not Provided   44  1520970714      0  "
      ]
     },
     "execution_count": 89,
     "metadata": {},
     "output_type": "execute_result"
    }
   ],
   "source": [
    "fraud.head()"
   ]
  },
  {
   "cell_type": "code",
   "execution_count": 88,
   "metadata": {},
   "outputs": [],
   "source": [
    "fraud['ip_address']=fraud.ip_address.apply(ip2int)"
   ]
  },
  {
   "cell_type": "code",
   "execution_count": 96,
   "metadata": {},
   "outputs": [
    {
     "ename": "TypeError",
     "evalue": "cannot convert the series to <class 'int'>",
     "output_type": "error",
     "traceback": [
      "\u001b[1;31m---------------------------------------------------------------------------\u001b[0m",
      "\u001b[1;31mTypeError\u001b[0m                                 Traceback (most recent call last)",
      "\u001b[1;32m<ipython-input-96-fbe7c28ed743>\u001b[0m in \u001b[0;36m<module>\u001b[1;34m\u001b[0m\n\u001b[1;32m----> 1\u001b[1;33m \u001b[0mip\u001b[0m\u001b[1;33m[\u001b[0m\u001b[1;34m'upper_bound'\u001b[0m\u001b[1;33m]\u001b[0m\u001b[1;33m=\u001b[0m\u001b[0mint\u001b[0m\u001b[1;33m(\u001b[0m\u001b[0mip\u001b[0m\u001b[1;33m[\u001b[0m\u001b[1;34m'upper_bound'\u001b[0m\u001b[1;33m]\u001b[0m\u001b[1;33m)\u001b[0m\u001b[1;33m\u001b[0m\u001b[1;33m\u001b[0m\u001b[0m\n\u001b[0m",
      "\u001b[1;32mC:\\ProgramData\\Anaconda3\\lib\\site-packages\\pandas\\core\\series.py\u001b[0m in \u001b[0;36mwrapper\u001b[1;34m(self)\u001b[0m\n\u001b[0;32m    127\u001b[0m         \u001b[1;32mif\u001b[0m \u001b[0mlen\u001b[0m\u001b[1;33m(\u001b[0m\u001b[0mself\u001b[0m\u001b[1;33m)\u001b[0m \u001b[1;33m==\u001b[0m \u001b[1;36m1\u001b[0m\u001b[1;33m:\u001b[0m\u001b[1;33m\u001b[0m\u001b[1;33m\u001b[0m\u001b[0m\n\u001b[0;32m    128\u001b[0m             \u001b[1;32mreturn\u001b[0m \u001b[0mconverter\u001b[0m\u001b[1;33m(\u001b[0m\u001b[0mself\u001b[0m\u001b[1;33m.\u001b[0m\u001b[0miloc\u001b[0m\u001b[1;33m[\u001b[0m\u001b[1;36m0\u001b[0m\u001b[1;33m]\u001b[0m\u001b[1;33m)\u001b[0m\u001b[1;33m\u001b[0m\u001b[1;33m\u001b[0m\u001b[0m\n\u001b[1;32m--> 129\u001b[1;33m         \u001b[1;32mraise\u001b[0m \u001b[0mTypeError\u001b[0m\u001b[1;33m(\u001b[0m\u001b[1;34mf\"cannot convert the series to {converter}\"\u001b[0m\u001b[1;33m)\u001b[0m\u001b[1;33m\u001b[0m\u001b[1;33m\u001b[0m\u001b[0m\n\u001b[0m\u001b[0;32m    130\u001b[0m \u001b[1;33m\u001b[0m\u001b[0m\n\u001b[0;32m    131\u001b[0m     \u001b[0mwrapper\u001b[0m\u001b[1;33m.\u001b[0m\u001b[0m__name__\u001b[0m \u001b[1;33m=\u001b[0m \u001b[1;34mf\"__{converter.__name__}__\"\u001b[0m\u001b[1;33m\u001b[0m\u001b[1;33m\u001b[0m\u001b[0m\n",
      "\u001b[1;31mTypeError\u001b[0m: cannot convert the series to <class 'int'>"
     ]
    }
   ],
   "source": [
    "\n",
    "\n",
    "ip['upper_bound']=int(ip['upper_bound'])"
   ]
  },
  {
   "cell_type": "code",
   "execution_count": 98,
   "metadata": {},
   "outputs": [],
   "source": [
    "fraud['country'] = fraud['ip_address'].apply(lambda row: country_map(row))"
   ]
  },
  {
   "cell_type": "code",
   "execution_count": 97,
   "metadata": {},
   "outputs": [],
   "source": [
    "def country_map(ip_ad):\n",
    "    countries=ip.loc[(ip['upper_bound'] >= ip_ad) & (ip['lower_bound'] <= ip_ad),'country'].values\n",
    "    #Account for nulls\n",
    "    if len(countries)==0:\n",
    "        return np.nan\n",
    "    return countries[0]"
   ]
  },
  {
   "cell_type": "code",
   "execution_count": 100,
   "metadata": {},
   "outputs": [
    {
     "data": {
      "text/html": [
       "<div>\n",
       "<style scoped>\n",
       "    .dataframe tbody tr th:only-of-type {\n",
       "        vertical-align: middle;\n",
       "    }\n",
       "\n",
       "    .dataframe tbody tr th {\n",
       "        vertical-align: top;\n",
       "    }\n",
       "\n",
       "    .dataframe thead th {\n",
       "        text-align: right;\n",
       "    }\n",
       "</style>\n",
       "<table border=\"1\" class=\"dataframe\">\n",
       "  <thead>\n",
       "    <tr style=\"text-align: right;\">\n",
       "      <th></th>\n",
       "      <th>user_id</th>\n",
       "      <th>signup_datetime</th>\n",
       "      <th>datetime</th>\n",
       "      <th>amount</th>\n",
       "      <th>device_id</th>\n",
       "      <th>store</th>\n",
       "      <th>browser</th>\n",
       "      <th>sex</th>\n",
       "      <th>age</th>\n",
       "      <th>ip_address</th>\n",
       "      <th>fraud</th>\n",
       "      <th>country</th>\n",
       "    </tr>\n",
       "  </thead>\n",
       "  <tbody>\n",
       "    <tr>\n",
       "      <th>0</th>\n",
       "      <td>40630765</td>\n",
       "      <td>2016-03-22 09:11:01</td>\n",
       "      <td>2016-06-01 01:58:07</td>\n",
       "      <td>12.05</td>\n",
       "      <td>41974320</td>\n",
       "      <td>toys</td>\n",
       "      <td>IE</td>\n",
       "      <td>F</td>\n",
       "      <td>27</td>\n",
       "      <td>3924506326</td>\n",
       "      <td>0</td>\n",
       "      <td>ZZ</td>\n",
       "    </tr>\n",
       "    <tr>\n",
       "      <th>1</th>\n",
       "      <td>90517585</td>\n",
       "      <td>2016-05-17 14:45:10</td>\n",
       "      <td>2016-06-03 13:49:55</td>\n",
       "      <td>55.68</td>\n",
       "      <td>70879186</td>\n",
       "      <td>babies</td>\n",
       "      <td>IE</td>\n",
       "      <td>F</td>\n",
       "      <td>31</td>\n",
       "      <td>2432689644</td>\n",
       "      <td>0</td>\n",
       "      <td>CN</td>\n",
       "    </tr>\n",
       "    <tr>\n",
       "      <th>2</th>\n",
       "      <td>63383012</td>\n",
       "      <td>2016-09-02 14:15:02</td>\n",
       "      <td>2016-12-03 13:38:24</td>\n",
       "      <td>33.45</td>\n",
       "      <td>40697637</td>\n",
       "      <td>pets</td>\n",
       "      <td>Chrome</td>\n",
       "      <td>F</td>\n",
       "      <td>49</td>\n",
       "      <td>2093944038</td>\n",
       "      <td>0</td>\n",
       "      <td>CN</td>\n",
       "    </tr>\n",
       "    <tr>\n",
       "      <th>3</th>\n",
       "      <td>34695055</td>\n",
       "      <td>2016-08-03 01:51:47</td>\n",
       "      <td>2016-11-11 12:49:45</td>\n",
       "      <td>40.32</td>\n",
       "      <td>29544115</td>\n",
       "      <td>toys</td>\n",
       "      <td>FireFox</td>\n",
       "      <td>M</td>\n",
       "      <td>41</td>\n",
       "      <td>77751156</td>\n",
       "      <td>0</td>\n",
       "      <td>US</td>\n",
       "    </tr>\n",
       "    <tr>\n",
       "      <th>4</th>\n",
       "      <td>92152176</td>\n",
       "      <td>2016-07-17 04:58:30</td>\n",
       "      <td>2016-08-24 19:12:41</td>\n",
       "      <td>49.16</td>\n",
       "      <td>80967980</td>\n",
       "      <td>babies</td>\n",
       "      <td>Chrome</td>\n",
       "      <td>Not Provided</td>\n",
       "      <td>44</td>\n",
       "      <td>1520970714</td>\n",
       "      <td>0</td>\n",
       "      <td>ES</td>\n",
       "    </tr>\n",
       "  </tbody>\n",
       "</table>\n",
       "</div>"
      ],
      "text/plain": [
       "    user_id      signup_datetime             datetime  amount  device_id  \\\n",
       "0  40630765  2016-03-22 09:11:01  2016-06-01 01:58:07   12.05   41974320   \n",
       "1  90517585  2016-05-17 14:45:10  2016-06-03 13:49:55   55.68   70879186   \n",
       "2  63383012  2016-09-02 14:15:02  2016-12-03 13:38:24   33.45   40697637   \n",
       "3  34695055  2016-08-03 01:51:47  2016-11-11 12:49:45   40.32   29544115   \n",
       "4  92152176  2016-07-17 04:58:30  2016-08-24 19:12:41   49.16   80967980   \n",
       "\n",
       "    store  browser           sex  age  ip_address  fraud country  \n",
       "0    toys       IE             F   27  3924506326      0      ZZ  \n",
       "1  babies       IE             F   31  2432689644      0      CN  \n",
       "2    pets   Chrome             F   49  2093944038      0      CN  \n",
       "3    toys  FireFox             M   41    77751156      0      US  \n",
       "4  babies   Chrome  Not Provided   44  1520970714      0      ES  "
      ]
     },
     "execution_count": 100,
     "metadata": {},
     "output_type": "execute_result"
    }
   ],
   "source": [
    "fraud.head()"
   ]
  },
  {
   "cell_type": "code",
   "execution_count": 102,
   "metadata": {},
   "outputs": [],
   "source": [
    "fraud_with_country = fraud.to_csv('fraud_w_country.csv')"
   ]
  },
  {
   "cell_type": "markdown",
   "metadata": {},
   "source": [
    "## DATA EXPLORATION"
   ]
  },
  {
   "cell_type": "code",
   "execution_count": 89,
   "metadata": {},
   "outputs": [
    {
     "data": {
      "text/plain": [
       "Index(['Unnamed: 0', 'user_id', 'signup_datetime', 'datetime', 'amount',\n",
       "       'device_id', 'store', 'browser', 'sex', 'age', 'ip_address', 'fraud',\n",
       "       'country'],\n",
       "      dtype='object')"
      ]
     },
     "execution_count": 89,
     "metadata": {},
     "output_type": "execute_result"
    }
   ],
   "source": [
    "fraud.columns"
   ]
  },
  {
   "cell_type": "code",
   "execution_count": 90,
   "metadata": {},
   "outputs": [
    {
     "data": {
      "text/plain": [
       "Unnamed: 0          0\n",
       "user_id             0\n",
       "signup_datetime     0\n",
       "datetime            0\n",
       "amount              0\n",
       "device_id           0\n",
       "store               0\n",
       "browser             0\n",
       "sex                 0\n",
       "age                 0\n",
       "ip_address          0\n",
       "fraud               0\n",
       "country            24\n",
       "dtype: int64"
      ]
     },
     "execution_count": 90,
     "metadata": {},
     "output_type": "execute_result"
    }
   ],
   "source": [
    "fraud.isnull().sum()"
   ]
  },
  {
   "cell_type": "code",
   "execution_count": 91,
   "metadata": {},
   "outputs": [
    {
     "data": {
      "text/html": [
       "<div>\n",
       "<style scoped>\n",
       "    .dataframe tbody tr th:only-of-type {\n",
       "        vertical-align: middle;\n",
       "    }\n",
       "\n",
       "    .dataframe tbody tr th {\n",
       "        vertical-align: top;\n",
       "    }\n",
       "\n",
       "    .dataframe thead th {\n",
       "        text-align: right;\n",
       "    }\n",
       "</style>\n",
       "<table border=\"1\" class=\"dataframe\">\n",
       "  <thead>\n",
       "    <tr style=\"text-align: right;\">\n",
       "      <th></th>\n",
       "      <th>Unnamed: 0</th>\n",
       "      <th>user_id</th>\n",
       "      <th>signup_datetime</th>\n",
       "      <th>datetime</th>\n",
       "      <th>amount</th>\n",
       "      <th>device_id</th>\n",
       "      <th>store</th>\n",
       "      <th>browser</th>\n",
       "      <th>sex</th>\n",
       "      <th>age</th>\n",
       "      <th>ip_address</th>\n",
       "      <th>fraud</th>\n",
       "      <th>country</th>\n",
       "    </tr>\n",
       "  </thead>\n",
       "  <tbody>\n",
       "    <tr>\n",
       "      <th>1406</th>\n",
       "      <td>1406</td>\n",
       "      <td>75641889</td>\n",
       "      <td>2016-03-28 02:49:06</td>\n",
       "      <td>2016-06-14 07:21:26</td>\n",
       "      <td>55.41</td>\n",
       "      <td>89305392</td>\n",
       "      <td>pets</td>\n",
       "      <td>Chrome</td>\n",
       "      <td>F</td>\n",
       "      <td>30</td>\n",
       "      <td>1776838214</td>\n",
       "      <td>0</td>\n",
       "      <td>NaN</td>\n",
       "    </tr>\n",
       "    <tr>\n",
       "      <th>8686</th>\n",
       "      <td>8686</td>\n",
       "      <td>62671569</td>\n",
       "      <td>2016-02-11 20:57:25</td>\n",
       "      <td>2016-02-11 20:57:26</td>\n",
       "      <td>68.79</td>\n",
       "      <td>57616910</td>\n",
       "      <td>toys</td>\n",
       "      <td>IE</td>\n",
       "      <td>Not Provided</td>\n",
       "      <td>30</td>\n",
       "      <td>3317471393</td>\n",
       "      <td>1</td>\n",
       "      <td>NaN</td>\n",
       "    </tr>\n",
       "    <tr>\n",
       "      <th>16320</th>\n",
       "      <td>16320</td>\n",
       "      <td>27684724</td>\n",
       "      <td>2016-02-10 20:57:33</td>\n",
       "      <td>2016-02-10 20:57:34</td>\n",
       "      <td>68.71</td>\n",
       "      <td>57616910</td>\n",
       "      <td>toys</td>\n",
       "      <td>IE</td>\n",
       "      <td>Not Provided</td>\n",
       "      <td>30</td>\n",
       "      <td>3317471393</td>\n",
       "      <td>1</td>\n",
       "      <td>NaN</td>\n",
       "    </tr>\n",
       "    <tr>\n",
       "      <th>17813</th>\n",
       "      <td>17813</td>\n",
       "      <td>38136683</td>\n",
       "      <td>2016-02-12 20:57:31</td>\n",
       "      <td>2016-02-12 20:57:32</td>\n",
       "      <td>68.60</td>\n",
       "      <td>57616910</td>\n",
       "      <td>toys</td>\n",
       "      <td>IE</td>\n",
       "      <td>Not Provided</td>\n",
       "      <td>29</td>\n",
       "      <td>3317471393</td>\n",
       "      <td>1</td>\n",
       "      <td>NaN</td>\n",
       "    </tr>\n",
       "    <tr>\n",
       "      <th>23692</th>\n",
       "      <td>23692</td>\n",
       "      <td>67016282</td>\n",
       "      <td>2016-09-07 17:01:38</td>\n",
       "      <td>2016-12-16 02:51:00</td>\n",
       "      <td>27.50</td>\n",
       "      <td>41226289</td>\n",
       "      <td>toys</td>\n",
       "      <td>Safari</td>\n",
       "      <td>M</td>\n",
       "      <td>36</td>\n",
       "      <td>692052915</td>\n",
       "      <td>0</td>\n",
       "      <td>NaN</td>\n",
       "    </tr>\n",
       "    <tr>\n",
       "      <th>28152</th>\n",
       "      <td>28152</td>\n",
       "      <td>82867406</td>\n",
       "      <td>2016-03-02 00:07:14</td>\n",
       "      <td>2016-03-09 04:20:42</td>\n",
       "      <td>9.39</td>\n",
       "      <td>92844152</td>\n",
       "      <td>pets</td>\n",
       "      <td>FireFox</td>\n",
       "      <td>Not Provided</td>\n",
       "      <td>35</td>\n",
       "      <td>692054621</td>\n",
       "      <td>0</td>\n",
       "      <td>NaN</td>\n",
       "    </tr>\n",
       "    <tr>\n",
       "      <th>33142</th>\n",
       "      <td>33142</td>\n",
       "      <td>83435768</td>\n",
       "      <td>2016-05-23 22:19:38</td>\n",
       "      <td>2016-05-24 14:45:10</td>\n",
       "      <td>24.75</td>\n",
       "      <td>97512524</td>\n",
       "      <td>babies</td>\n",
       "      <td>IE</td>\n",
       "      <td>Not Provided</td>\n",
       "      <td>31</td>\n",
       "      <td>3320464816</td>\n",
       "      <td>0</td>\n",
       "      <td>NaN</td>\n",
       "    </tr>\n",
       "    <tr>\n",
       "      <th>48461</th>\n",
       "      <td>48461</td>\n",
       "      <td>4568586</td>\n",
       "      <td>2016-02-11 20:57:28</td>\n",
       "      <td>2016-02-11 20:57:29</td>\n",
       "      <td>68.80</td>\n",
       "      <td>57616910</td>\n",
       "      <td>toys</td>\n",
       "      <td>IE</td>\n",
       "      <td>M</td>\n",
       "      <td>29</td>\n",
       "      <td>3317471393</td>\n",
       "      <td>1</td>\n",
       "      <td>NaN</td>\n",
       "    </tr>\n",
       "    <tr>\n",
       "      <th>49661</th>\n",
       "      <td>49661</td>\n",
       "      <td>59270889</td>\n",
       "      <td>2016-08-19 09:15:15</td>\n",
       "      <td>2016-11-23 07:07:40</td>\n",
       "      <td>57.06</td>\n",
       "      <td>59208331</td>\n",
       "      <td>pets</td>\n",
       "      <td>Chrome</td>\n",
       "      <td>Not Provided</td>\n",
       "      <td>20</td>\n",
       "      <td>3317435963</td>\n",
       "      <td>0</td>\n",
       "      <td>NaN</td>\n",
       "    </tr>\n",
       "    <tr>\n",
       "      <th>65249</th>\n",
       "      <td>65249</td>\n",
       "      <td>33803690</td>\n",
       "      <td>2016-07-29 04:16:52</td>\n",
       "      <td>2016-08-29 11:15:26</td>\n",
       "      <td>39.12</td>\n",
       "      <td>96998548</td>\n",
       "      <td>pets</td>\n",
       "      <td>IE</td>\n",
       "      <td>Not Provided</td>\n",
       "      <td>43</td>\n",
       "      <td>702236738</td>\n",
       "      <td>0</td>\n",
       "      <td>NaN</td>\n",
       "    </tr>\n",
       "    <tr>\n",
       "      <th>68216</th>\n",
       "      <td>68216</td>\n",
       "      <td>67320950</td>\n",
       "      <td>2016-04-12 18:14:10</td>\n",
       "      <td>2016-07-07 12:21:20</td>\n",
       "      <td>47.43</td>\n",
       "      <td>60635465</td>\n",
       "      <td>pets</td>\n",
       "      <td>Chrome</td>\n",
       "      <td>F</td>\n",
       "      <td>24</td>\n",
       "      <td>3317446959</td>\n",
       "      <td>0</td>\n",
       "      <td>NaN</td>\n",
       "    </tr>\n",
       "    <tr>\n",
       "      <th>69517</th>\n",
       "      <td>69517</td>\n",
       "      <td>24341597</td>\n",
       "      <td>2016-02-13 20:57:30</td>\n",
       "      <td>2016-02-13 20:57:31</td>\n",
       "      <td>69.30</td>\n",
       "      <td>57616910</td>\n",
       "      <td>toys</td>\n",
       "      <td>IE</td>\n",
       "      <td>Not Provided</td>\n",
       "      <td>29</td>\n",
       "      <td>3317471393</td>\n",
       "      <td>1</td>\n",
       "      <td>NaN</td>\n",
       "    </tr>\n",
       "    <tr>\n",
       "      <th>71489</th>\n",
       "      <td>71489</td>\n",
       "      <td>22921920</td>\n",
       "      <td>2016-02-10 20:57:26</td>\n",
       "      <td>2016-02-10 20:57:27</td>\n",
       "      <td>69.02</td>\n",
       "      <td>57616910</td>\n",
       "      <td>toys</td>\n",
       "      <td>IE</td>\n",
       "      <td>M</td>\n",
       "      <td>29</td>\n",
       "      <td>3317471393</td>\n",
       "      <td>1</td>\n",
       "      <td>NaN</td>\n",
       "    </tr>\n",
       "    <tr>\n",
       "      <th>80330</th>\n",
       "      <td>80330</td>\n",
       "      <td>83639171</td>\n",
       "      <td>2016-02-10 20:57:32</td>\n",
       "      <td>2016-02-10 20:57:33</td>\n",
       "      <td>69.06</td>\n",
       "      <td>57616910</td>\n",
       "      <td>toys</td>\n",
       "      <td>IE</td>\n",
       "      <td>Not Provided</td>\n",
       "      <td>29</td>\n",
       "      <td>3317471393</td>\n",
       "      <td>1</td>\n",
       "      <td>NaN</td>\n",
       "    </tr>\n",
       "    <tr>\n",
       "      <th>81281</th>\n",
       "      <td>81281</td>\n",
       "      <td>79920525</td>\n",
       "      <td>2016-02-11 20:57:24</td>\n",
       "      <td>2016-02-11 20:57:25</td>\n",
       "      <td>69.21</td>\n",
       "      <td>57616910</td>\n",
       "      <td>toys</td>\n",
       "      <td>IE</td>\n",
       "      <td>Not Provided</td>\n",
       "      <td>29</td>\n",
       "      <td>3317471393</td>\n",
       "      <td>1</td>\n",
       "      <td>NaN</td>\n",
       "    </tr>\n",
       "    <tr>\n",
       "      <th>82615</th>\n",
       "      <td>82615</td>\n",
       "      <td>15037414</td>\n",
       "      <td>2016-03-07 07:23:41</td>\n",
       "      <td>2016-04-17 02:47:06</td>\n",
       "      <td>12.72</td>\n",
       "      <td>87158632</td>\n",
       "      <td>pets</td>\n",
       "      <td>Chrome</td>\n",
       "      <td>Not Provided</td>\n",
       "      <td>22</td>\n",
       "      <td>3289645826</td>\n",
       "      <td>0</td>\n",
       "      <td>NaN</td>\n",
       "    </tr>\n",
       "    <tr>\n",
       "      <th>89686</th>\n",
       "      <td>89686</td>\n",
       "      <td>69491419</td>\n",
       "      <td>2016-08-28 13:11:45</td>\n",
       "      <td>2016-11-22 18:40:29</td>\n",
       "      <td>8.87</td>\n",
       "      <td>43483146</td>\n",
       "      <td>toys</td>\n",
       "      <td>Chrome</td>\n",
       "      <td>Not Provided</td>\n",
       "      <td>26</td>\n",
       "      <td>3321083388</td>\n",
       "      <td>0</td>\n",
       "      <td>NaN</td>\n",
       "    </tr>\n",
       "    <tr>\n",
       "      <th>92999</th>\n",
       "      <td>92999</td>\n",
       "      <td>2714564</td>\n",
       "      <td>2016-08-31 20:17:27</td>\n",
       "      <td>2016-10-25 09:56:34</td>\n",
       "      <td>40.49</td>\n",
       "      <td>95939470</td>\n",
       "      <td>babies</td>\n",
       "      <td>Safari</td>\n",
       "      <td>Not Provided</td>\n",
       "      <td>27</td>\n",
       "      <td>1776843841</td>\n",
       "      <td>0</td>\n",
       "      <td>NaN</td>\n",
       "    </tr>\n",
       "    <tr>\n",
       "      <th>109739</th>\n",
       "      <td>109739</td>\n",
       "      <td>17328453</td>\n",
       "      <td>2016-08-15 04:58:54</td>\n",
       "      <td>2016-08-27 19:47:03</td>\n",
       "      <td>42.93</td>\n",
       "      <td>99687056</td>\n",
       "      <td>pets</td>\n",
       "      <td>IE</td>\n",
       "      <td>Not Provided</td>\n",
       "      <td>26</td>\n",
       "      <td>1776854608</td>\n",
       "      <td>0</td>\n",
       "      <td>NaN</td>\n",
       "    </tr>\n",
       "    <tr>\n",
       "      <th>116670</th>\n",
       "      <td>116670</td>\n",
       "      <td>63654526</td>\n",
       "      <td>2016-02-12 20:57:23</td>\n",
       "      <td>2016-03-13 03:55:06</td>\n",
       "      <td>68.53</td>\n",
       "      <td>57616910</td>\n",
       "      <td>toys</td>\n",
       "      <td>IE</td>\n",
       "      <td>M</td>\n",
       "      <td>30</td>\n",
       "      <td>3317471393</td>\n",
       "      <td>0</td>\n",
       "      <td>NaN</td>\n",
       "    </tr>\n",
       "    <tr>\n",
       "      <th>118518</th>\n",
       "      <td>118518</td>\n",
       "      <td>46896135</td>\n",
       "      <td>2016-02-12 20:57:29</td>\n",
       "      <td>2016-02-12 20:57:30</td>\n",
       "      <td>69.15</td>\n",
       "      <td>57616910</td>\n",
       "      <td>toys</td>\n",
       "      <td>IE</td>\n",
       "      <td>M</td>\n",
       "      <td>30</td>\n",
       "      <td>3317471393</td>\n",
       "      <td>1</td>\n",
       "      <td>NaN</td>\n",
       "    </tr>\n",
       "    <tr>\n",
       "      <th>118775</th>\n",
       "      <td>118775</td>\n",
       "      <td>86905040</td>\n",
       "      <td>2016-02-10 20:57:27</td>\n",
       "      <td>2016-02-10 20:57:28</td>\n",
       "      <td>68.68</td>\n",
       "      <td>57616910</td>\n",
       "      <td>toys</td>\n",
       "      <td>IE</td>\n",
       "      <td>Not Provided</td>\n",
       "      <td>29</td>\n",
       "      <td>3317471393</td>\n",
       "      <td>1</td>\n",
       "      <td>NaN</td>\n",
       "    </tr>\n",
       "    <tr>\n",
       "      <th>143387</th>\n",
       "      <td>143387</td>\n",
       "      <td>21154292</td>\n",
       "      <td>2016-09-15 00:17:47</td>\n",
       "      <td>2017-01-04 20:21:52</td>\n",
       "      <td>46.06</td>\n",
       "      <td>56307384</td>\n",
       "      <td>babies</td>\n",
       "      <td>Chrome</td>\n",
       "      <td>Not Provided</td>\n",
       "      <td>27</td>\n",
       "      <td>3321074155</td>\n",
       "      <td>0</td>\n",
       "      <td>NaN</td>\n",
       "    </tr>\n",
       "    <tr>\n",
       "      <th>144192</th>\n",
       "      <td>144192</td>\n",
       "      <td>82118983</td>\n",
       "      <td>2016-08-24 06:03:58</td>\n",
       "      <td>2016-11-06 23:50:24</td>\n",
       "      <td>41.50</td>\n",
       "      <td>7061389</td>\n",
       "      <td>toys</td>\n",
       "      <td>FireFox</td>\n",
       "      <td>M</td>\n",
       "      <td>32</td>\n",
       "      <td>3291433380</td>\n",
       "      <td>0</td>\n",
       "      <td>NaN</td>\n",
       "    </tr>\n",
       "  </tbody>\n",
       "</table>\n",
       "</div>"
      ],
      "text/plain": [
       "        Unnamed: 0   user_id      signup_datetime             datetime  \\\n",
       "1406          1406  75641889  2016-03-28 02:49:06  2016-06-14 07:21:26   \n",
       "8686          8686  62671569  2016-02-11 20:57:25  2016-02-11 20:57:26   \n",
       "16320        16320  27684724  2016-02-10 20:57:33  2016-02-10 20:57:34   \n",
       "17813        17813  38136683  2016-02-12 20:57:31  2016-02-12 20:57:32   \n",
       "23692        23692  67016282  2016-09-07 17:01:38  2016-12-16 02:51:00   \n",
       "28152        28152  82867406  2016-03-02 00:07:14  2016-03-09 04:20:42   \n",
       "33142        33142  83435768  2016-05-23 22:19:38  2016-05-24 14:45:10   \n",
       "48461        48461   4568586  2016-02-11 20:57:28  2016-02-11 20:57:29   \n",
       "49661        49661  59270889  2016-08-19 09:15:15  2016-11-23 07:07:40   \n",
       "65249        65249  33803690  2016-07-29 04:16:52  2016-08-29 11:15:26   \n",
       "68216        68216  67320950  2016-04-12 18:14:10  2016-07-07 12:21:20   \n",
       "69517        69517  24341597  2016-02-13 20:57:30  2016-02-13 20:57:31   \n",
       "71489        71489  22921920  2016-02-10 20:57:26  2016-02-10 20:57:27   \n",
       "80330        80330  83639171  2016-02-10 20:57:32  2016-02-10 20:57:33   \n",
       "81281        81281  79920525  2016-02-11 20:57:24  2016-02-11 20:57:25   \n",
       "82615        82615  15037414  2016-03-07 07:23:41  2016-04-17 02:47:06   \n",
       "89686        89686  69491419  2016-08-28 13:11:45  2016-11-22 18:40:29   \n",
       "92999        92999   2714564  2016-08-31 20:17:27  2016-10-25 09:56:34   \n",
       "109739      109739  17328453  2016-08-15 04:58:54  2016-08-27 19:47:03   \n",
       "116670      116670  63654526  2016-02-12 20:57:23  2016-03-13 03:55:06   \n",
       "118518      118518  46896135  2016-02-12 20:57:29  2016-02-12 20:57:30   \n",
       "118775      118775  86905040  2016-02-10 20:57:27  2016-02-10 20:57:28   \n",
       "143387      143387  21154292  2016-09-15 00:17:47  2017-01-04 20:21:52   \n",
       "144192      144192  82118983  2016-08-24 06:03:58  2016-11-06 23:50:24   \n",
       "\n",
       "        amount  device_id   store  browser           sex  age  ip_address  \\\n",
       "1406     55.41   89305392    pets   Chrome             F   30  1776838214   \n",
       "8686     68.79   57616910    toys       IE  Not Provided   30  3317471393   \n",
       "16320    68.71   57616910    toys       IE  Not Provided   30  3317471393   \n",
       "17813    68.60   57616910    toys       IE  Not Provided   29  3317471393   \n",
       "23692    27.50   41226289    toys   Safari             M   36   692052915   \n",
       "28152     9.39   92844152    pets  FireFox  Not Provided   35   692054621   \n",
       "33142    24.75   97512524  babies       IE  Not Provided   31  3320464816   \n",
       "48461    68.80   57616910    toys       IE             M   29  3317471393   \n",
       "49661    57.06   59208331    pets   Chrome  Not Provided   20  3317435963   \n",
       "65249    39.12   96998548    pets       IE  Not Provided   43   702236738   \n",
       "68216    47.43   60635465    pets   Chrome             F   24  3317446959   \n",
       "69517    69.30   57616910    toys       IE  Not Provided   29  3317471393   \n",
       "71489    69.02   57616910    toys       IE             M   29  3317471393   \n",
       "80330    69.06   57616910    toys       IE  Not Provided   29  3317471393   \n",
       "81281    69.21   57616910    toys       IE  Not Provided   29  3317471393   \n",
       "82615    12.72   87158632    pets   Chrome  Not Provided   22  3289645826   \n",
       "89686     8.87   43483146    toys   Chrome  Not Provided   26  3321083388   \n",
       "92999    40.49   95939470  babies   Safari  Not Provided   27  1776843841   \n",
       "109739   42.93   99687056    pets       IE  Not Provided   26  1776854608   \n",
       "116670   68.53   57616910    toys       IE             M   30  3317471393   \n",
       "118518   69.15   57616910    toys       IE             M   30  3317471393   \n",
       "118775   68.68   57616910    toys       IE  Not Provided   29  3317471393   \n",
       "143387   46.06   56307384  babies   Chrome  Not Provided   27  3321074155   \n",
       "144192   41.50    7061389    toys  FireFox             M   32  3291433380   \n",
       "\n",
       "        fraud country  \n",
       "1406        0     NaN  \n",
       "8686        1     NaN  \n",
       "16320       1     NaN  \n",
       "17813       1     NaN  \n",
       "23692       0     NaN  \n",
       "28152       0     NaN  \n",
       "33142       0     NaN  \n",
       "48461       1     NaN  \n",
       "49661       0     NaN  \n",
       "65249       0     NaN  \n",
       "68216       0     NaN  \n",
       "69517       1     NaN  \n",
       "71489       1     NaN  \n",
       "80330       1     NaN  \n",
       "81281       1     NaN  \n",
       "82615       0     NaN  \n",
       "89686       0     NaN  \n",
       "92999       0     NaN  \n",
       "109739      0     NaN  \n",
       "116670      0     NaN  \n",
       "118518      1     NaN  \n",
       "118775      1     NaN  \n",
       "143387      0     NaN  \n",
       "144192      0     NaN  "
      ]
     },
     "execution_count": 91,
     "metadata": {},
     "output_type": "execute_result"
    }
   ],
   "source": [
    "fraud[fraud.isnull().any(axis=1)]"
   ]
  },
  {
   "cell_type": "code",
   "execution_count": 92,
   "metadata": {},
   "outputs": [
    {
     "data": {
      "text/plain": [
       "14043"
      ]
     },
     "execution_count": 92,
     "metadata": {},
     "output_type": "execute_result"
    }
   ],
   "source": [
    "len(fraud.loc[fraud['fraud']==1])"
   ]
  },
  {
   "cell_type": "code",
   "execution_count": 93,
   "metadata": {},
   "outputs": [
    {
     "data": {
      "text/html": [
       "<div>\n",
       "<style scoped>\n",
       "    .dataframe tbody tr th:only-of-type {\n",
       "        vertical-align: middle;\n",
       "    }\n",
       "\n",
       "    .dataframe tbody tr th {\n",
       "        vertical-align: top;\n",
       "    }\n",
       "\n",
       "    .dataframe thead th {\n",
       "        text-align: right;\n",
       "    }\n",
       "</style>\n",
       "<table border=\"1\" class=\"dataframe\">\n",
       "  <thead>\n",
       "    <tr style=\"text-align: right;\">\n",
       "      <th></th>\n",
       "      <th>Unnamed: 0</th>\n",
       "      <th>user_id</th>\n",
       "      <th>amount</th>\n",
       "      <th>device_id</th>\n",
       "      <th>age</th>\n",
       "      <th>ip_address</th>\n",
       "      <th>fraud</th>\n",
       "    </tr>\n",
       "  </thead>\n",
       "  <tbody>\n",
       "    <tr>\n",
       "      <th>count</th>\n",
       "      <td>150000.000000</td>\n",
       "      <td>1.500000e+05</td>\n",
       "      <td>150000.000000</td>\n",
       "      <td>1.500000e+05</td>\n",
       "      <td>150000.000000</td>\n",
       "      <td>1.500000e+05</td>\n",
       "      <td>150000.00000</td>\n",
       "    </tr>\n",
       "    <tr>\n",
       "      <th>mean</th>\n",
       "      <td>74999.500000</td>\n",
       "      <td>4.997374e+07</td>\n",
       "      <td>36.939101</td>\n",
       "      <td>4.998719e+07</td>\n",
       "      <td>33.646373</td>\n",
       "      <td>2.151865e+09</td>\n",
       "      <td>0.09362</td>\n",
       "    </tr>\n",
       "    <tr>\n",
       "      <th>std</th>\n",
       "      <td>43301.414527</td>\n",
       "      <td>2.887136e+07</td>\n",
       "      <td>18.328713</td>\n",
       "      <td>2.884795e+07</td>\n",
       "      <td>8.631547</td>\n",
       "      <td>1.248426e+09</td>\n",
       "      <td>0.29130</td>\n",
       "    </tr>\n",
       "    <tr>\n",
       "      <th>min</th>\n",
       "      <td>0.000000</td>\n",
       "      <td>6.290000e+02</td>\n",
       "      <td>8.500000</td>\n",
       "      <td>1.223000e+03</td>\n",
       "      <td>18.000000</td>\n",
       "      <td>5.209300e+04</td>\n",
       "      <td>0.00000</td>\n",
       "    </tr>\n",
       "    <tr>\n",
       "      <th>25%</th>\n",
       "      <td>37499.750000</td>\n",
       "      <td>2.503215e+07</td>\n",
       "      <td>22.430000</td>\n",
       "      <td>2.505564e+07</td>\n",
       "      <td>27.000000</td>\n",
       "      <td>1.085607e+09</td>\n",
       "      <td>0.00000</td>\n",
       "    </tr>\n",
       "    <tr>\n",
       "      <th>50%</th>\n",
       "      <td>74999.500000</td>\n",
       "      <td>4.986729e+07</td>\n",
       "      <td>34.570000</td>\n",
       "      <td>5.002070e+07</td>\n",
       "      <td>33.000000</td>\n",
       "      <td>2.154340e+09</td>\n",
       "      <td>0.00000</td>\n",
       "    </tr>\n",
       "    <tr>\n",
       "      <th>75%</th>\n",
       "      <td>112499.250000</td>\n",
       "      <td>7.490949e+07</td>\n",
       "      <td>48.740000</td>\n",
       "      <td>7.500266e+07</td>\n",
       "      <td>39.000000</td>\n",
       "      <td>3.243070e+09</td>\n",
       "      <td>0.00000</td>\n",
       "    </tr>\n",
       "    <tr>\n",
       "      <th>max</th>\n",
       "      <td>149999.000000</td>\n",
       "      <td>9.999964e+07</td>\n",
       "      <td>153.860000</td>\n",
       "      <td>9.999955e+07</td>\n",
       "      <td>76.000000</td>\n",
       "      <td>4.294850e+09</td>\n",
       "      <td>1.00000</td>\n",
       "    </tr>\n",
       "  </tbody>\n",
       "</table>\n",
       "</div>"
      ],
      "text/plain": [
       "          Unnamed: 0       user_id         amount     device_id  \\\n",
       "count  150000.000000  1.500000e+05  150000.000000  1.500000e+05   \n",
       "mean    74999.500000  4.997374e+07      36.939101  4.998719e+07   \n",
       "std     43301.414527  2.887136e+07      18.328713  2.884795e+07   \n",
       "min         0.000000  6.290000e+02       8.500000  1.223000e+03   \n",
       "25%     37499.750000  2.503215e+07      22.430000  2.505564e+07   \n",
       "50%     74999.500000  4.986729e+07      34.570000  5.002070e+07   \n",
       "75%    112499.250000  7.490949e+07      48.740000  7.500266e+07   \n",
       "max    149999.000000  9.999964e+07     153.860000  9.999955e+07   \n",
       "\n",
       "                 age    ip_address         fraud  \n",
       "count  150000.000000  1.500000e+05  150000.00000  \n",
       "mean       33.646373  2.151865e+09       0.09362  \n",
       "std         8.631547  1.248426e+09       0.29130  \n",
       "min        18.000000  5.209300e+04       0.00000  \n",
       "25%        27.000000  1.085607e+09       0.00000  \n",
       "50%        33.000000  2.154340e+09       0.00000  \n",
       "75%        39.000000  3.243070e+09       0.00000  \n",
       "max        76.000000  4.294850e+09       1.00000  "
      ]
     },
     "execution_count": 93,
     "metadata": {},
     "output_type": "execute_result"
    }
   ],
   "source": [
    "fraud.describe()"
   ]
  },
  {
   "cell_type": "code",
   "execution_count": 94,
   "metadata": {},
   "outputs": [
    {
     "data": {
      "text/plain": [
       "150000"
      ]
     },
     "execution_count": 94,
     "metadata": {},
     "output_type": "execute_result"
    }
   ],
   "source": [
    "len(fraud.index.unique())"
   ]
  },
  {
   "cell_type": "code",
   "execution_count": 95,
   "metadata": {},
   "outputs": [
    {
     "data": {
      "text/html": [
       "<div>\n",
       "<style scoped>\n",
       "    .dataframe tbody tr th:only-of-type {\n",
       "        vertical-align: middle;\n",
       "    }\n",
       "\n",
       "    .dataframe tbody tr th {\n",
       "        vertical-align: top;\n",
       "    }\n",
       "\n",
       "    .dataframe thead th {\n",
       "        text-align: right;\n",
       "    }\n",
       "</style>\n",
       "<table border=\"1\" class=\"dataframe\">\n",
       "  <thead>\n",
       "    <tr style=\"text-align: right;\">\n",
       "      <th></th>\n",
       "      <th>device_id</th>\n",
       "    </tr>\n",
       "  </thead>\n",
       "  <tbody>\n",
       "    <tr>\n",
       "      <th>0</th>\n",
       "      <td>41974320</td>\n",
       "    </tr>\n",
       "    <tr>\n",
       "      <th>1</th>\n",
       "      <td>70879186</td>\n",
       "    </tr>\n",
       "    <tr>\n",
       "      <th>2</th>\n",
       "      <td>40697637</td>\n",
       "    </tr>\n",
       "    <tr>\n",
       "      <th>3</th>\n",
       "      <td>29544115</td>\n",
       "    </tr>\n",
       "    <tr>\n",
       "      <th>4</th>\n",
       "      <td>80967980</td>\n",
       "    </tr>\n",
       "    <tr>\n",
       "      <th>...</th>\n",
       "      <td>...</td>\n",
       "    </tr>\n",
       "    <tr>\n",
       "      <th>149995</th>\n",
       "      <td>21257076</td>\n",
       "    </tr>\n",
       "    <tr>\n",
       "      <th>149996</th>\n",
       "      <td>88664098</td>\n",
       "    </tr>\n",
       "    <tr>\n",
       "      <th>149997</th>\n",
       "      <td>60741655</td>\n",
       "    </tr>\n",
       "    <tr>\n",
       "      <th>149998</th>\n",
       "      <td>12522243</td>\n",
       "    </tr>\n",
       "    <tr>\n",
       "      <th>149999</th>\n",
       "      <td>20782289</td>\n",
       "    </tr>\n",
       "  </tbody>\n",
       "</table>\n",
       "<p>150000 rows × 1 columns</p>\n",
       "</div>"
      ],
      "text/plain": [
       "        device_id\n",
       "0        41974320\n",
       "1        70879186\n",
       "2        40697637\n",
       "3        29544115\n",
       "4        80967980\n",
       "...           ...\n",
       "149995   21257076\n",
       "149996   88664098\n",
       "149997   60741655\n",
       "149998   12522243\n",
       "149999   20782289\n",
       "\n",
       "[150000 rows x 1 columns]"
      ]
     },
     "execution_count": 95,
     "metadata": {},
     "output_type": "execute_result"
    }
   ],
   "source": [
    "fraud[['device_id']]"
   ]
  },
  {
   "cell_type": "code",
   "execution_count": 96,
   "metadata": {},
   "outputs": [],
   "source": [
    "device_pv=pd.DataFrame(fraud[['device_id','amount']].groupby('device_id').sum().sort_values(by='amount',ascending=False))\n"
   ]
  },
  {
   "cell_type": "code",
   "execution_count": 97,
   "metadata": {},
   "outputs": [],
   "source": [
    "device_pv.reset_index(inplace=True)"
   ]
  },
  {
   "cell_type": "code",
   "execution_count": 98,
   "metadata": {},
   "outputs": [
    {
     "data": {
      "text/html": [
       "<div>\n",
       "<style scoped>\n",
       "    .dataframe tbody tr th:only-of-type {\n",
       "        vertical-align: middle;\n",
       "    }\n",
       "\n",
       "    .dataframe tbody tr th {\n",
       "        vertical-align: top;\n",
       "    }\n",
       "\n",
       "    .dataframe thead th {\n",
       "        text-align: right;\n",
       "    }\n",
       "</style>\n",
       "<table border=\"1\" class=\"dataframe\">\n",
       "  <thead>\n",
       "    <tr style=\"text-align: right;\">\n",
       "      <th></th>\n",
       "      <th>device_id</th>\n",
       "      <th>amount</th>\n",
       "    </tr>\n",
       "  </thead>\n",
       "  <tbody>\n",
       "    <tr>\n",
       "      <th>0</th>\n",
       "      <td>13571638</td>\n",
       "      <td>1378.17</td>\n",
       "    </tr>\n",
       "    <tr>\n",
       "      <th>1</th>\n",
       "      <td>17860247</td>\n",
       "      <td>1374.62</td>\n",
       "    </tr>\n",
       "    <tr>\n",
       "      <th>2</th>\n",
       "      <td>62170687</td>\n",
       "      <td>1368.85</td>\n",
       "    </tr>\n",
       "    <tr>\n",
       "      <th>3</th>\n",
       "      <td>38876376</td>\n",
       "      <td>1319.28</td>\n",
       "    </tr>\n",
       "    <tr>\n",
       "      <th>4</th>\n",
       "      <td>57429139</td>\n",
       "      <td>1288.14</td>\n",
       "    </tr>\n",
       "  </tbody>\n",
       "</table>\n",
       "</div>"
      ],
      "text/plain": [
       "   device_id   amount\n",
       "0   13571638  1378.17\n",
       "1   17860247  1374.62\n",
       "2   62170687  1368.85\n",
       "3   38876376  1319.28\n",
       "4   57429139  1288.14"
      ]
     },
     "execution_count": 98,
     "metadata": {},
     "output_type": "execute_result"
    }
   ],
   "source": [
    "device_pv.head()"
   ]
  },
  {
   "cell_type": "code",
   "execution_count": 99,
   "metadata": {},
   "outputs": [
    {
     "data": {
      "text/html": [
       "<div>\n",
       "<style scoped>\n",
       "    .dataframe tbody tr th:only-of-type {\n",
       "        vertical-align: middle;\n",
       "    }\n",
       "\n",
       "    .dataframe tbody tr th {\n",
       "        vertical-align: top;\n",
       "    }\n",
       "\n",
       "    .dataframe thead th {\n",
       "        text-align: right;\n",
       "    }\n",
       "</style>\n",
       "<table border=\"1\" class=\"dataframe\">\n",
       "  <thead>\n",
       "    <tr style=\"text-align: right;\">\n",
       "      <th></th>\n",
       "      <th>device_id</th>\n",
       "      <th>amount</th>\n",
       "    </tr>\n",
       "  </thead>\n",
       "  <tbody>\n",
       "    <tr>\n",
       "      <th>136898</th>\n",
       "      <td>24739081</td>\n",
       "      <td>8.5</td>\n",
       "    </tr>\n",
       "    <tr>\n",
       "      <th>136899</th>\n",
       "      <td>63767552</td>\n",
       "      <td>8.5</td>\n",
       "    </tr>\n",
       "    <tr>\n",
       "      <th>136900</th>\n",
       "      <td>19913392</td>\n",
       "      <td>8.5</td>\n",
       "    </tr>\n",
       "    <tr>\n",
       "      <th>136901</th>\n",
       "      <td>74417406</td>\n",
       "      <td>8.5</td>\n",
       "    </tr>\n",
       "    <tr>\n",
       "      <th>136902</th>\n",
       "      <td>83842057</td>\n",
       "      <td>8.5</td>\n",
       "    </tr>\n",
       "  </tbody>\n",
       "</table>\n",
       "</div>"
      ],
      "text/plain": [
       "        device_id  amount\n",
       "136898   24739081     8.5\n",
       "136899   63767552     8.5\n",
       "136900   19913392     8.5\n",
       "136901   74417406     8.5\n",
       "136902   83842057     8.5"
      ]
     },
     "execution_count": 99,
     "metadata": {},
     "output_type": "execute_result"
    }
   ],
   "source": [
    "device_pv.tail()"
   ]
  },
  {
   "cell_type": "code",
   "execution_count": 100,
   "metadata": {},
   "outputs": [
    {
     "data": {
      "text/plain": [
       "<AxesSubplot:xlabel='amount'>"
      ]
     },
     "execution_count": 100,
     "metadata": {},
     "output_type": "execute_result"
    },
    {
     "data": {
      "image/png": "[encoded data removed]",
      "text/plain": [
       "<Figure size 432x288 with 1 Axes>"
      ]
     },
     "metadata": {
      "needs_background": "light"
     },
     "output_type": "display_data"
    }
   ],
   "source": [
    "sns.distplot(device_pv['amount'])"
   ]
  },
  {
   "cell_type": "code",
   "execution_count": 101,
   "metadata": {},
   "outputs": [
    {
     "data": {
      "text/plain": [
       "<AxesSubplot:xlabel='amount'>"
      ]
     },
     "execution_count": 101,
     "metadata": {},
     "output_type": "execute_result"
    },
    {
     "data": {
      "image/png": "[encoded data removed]",
      "text/plain": [
       "<Figure size 432x288 with 1 Axes>"
      ]
     },
     "metadata": {
      "needs_background": "light"
     },
     "output_type": "display_data"
    }
   ],
   "source": [
    "sns.distplot(device_pv['amount'],kde=False)"
   ]
  },
  {
   "cell_type": "code",
   "execution_count": 102,
   "metadata": {},
   "outputs": [
    {
     "data": {
      "text/plain": [
       "<AxesSubplot:ylabel='fraud'>"
      ]
     },
     "execution_count": 102,
     "metadata": {},
     "output_type": "execute_result"
    },
    {
     "data": {
      "image/png": "[encoded data removed]",
      "text/plain": [
       "<Figure size 432x288 with 1 Axes>"
      ]
     },
     "metadata": {
      "needs_background": "light"
     },
     "output_type": "display_data"
    }
   ],
   "source": [
    "sns.barplot(fraud['fraud'].unique(),fraud['fraud'].value_counts())"
   ]
  },
  {
   "cell_type": "code",
   "execution_count": 103,
   "metadata": {},
   "outputs": [
    {
     "data": {
      "text/plain": [
       "<AxesSubplot:ylabel='store'>"
      ]
     },
     "execution_count": 103,
     "metadata": {},
     "output_type": "execute_result"
    },
    {
     "data": {
      "image/png": "[encoded data removed]",
      "text/plain": [
       "<Figure size 432x288 with 1 Axes>"
      ]
     },
     "metadata": {
      "needs_background": "light"
     },
     "output_type": "display_data"
    }
   ],
   "source": [
    "sns.barplot(fraud['store'].unique(),fraud['store'].value_counts())"
   ]
  },
  {
   "cell_type": "code",
   "execution_count": 104,
   "metadata": {},
   "outputs": [
    {
     "data": {
      "text/plain": [
       "<AxesSubplot:ylabel='browser'>"
      ]
     },
     "execution_count": 104,
     "metadata": {},
     "output_type": "execute_result"
    },
    {
     "data": {
      "image/png": "[encoded data removed]",
      "text/plain": [
       "<Figure size 432x288 with 1 Axes>"
      ]
     },
     "metadata": {
      "needs_background": "light"
     },
     "output_type": "display_data"
    }
   ],
   "source": [
    "sns.barplot(fraud['browser'].unique(),fraud['browser'].value_counts())"
   ]
  },
  {
   "cell_type": "code",
   "execution_count": 105,
   "metadata": {},
   "outputs": [],
   "source": [
    "fbrowser=pd.DataFrame(fraud.loc[fraud['fraud']==1])"
   ]
  },
  {
   "cell_type": "code",
   "execution_count": 106,
   "metadata": {},
   "outputs": [
    {
     "data": {
      "text/plain": [
       "<AxesSubplot:ylabel='browser'>"
      ]
     },
     "execution_count": 106,
     "metadata": {},
     "output_type": "execute_result"
    },
    {
     "data": {
      "image/png": "[encoded data removed]",
      "text/plain": [
       "<Figure size 432x288 with 1 Axes>"
      ]
     },
     "metadata": {
      "needs_background": "light"
     },
     "output_type": "display_data"
    }
   ],
   "source": [
    "sns.barplot(fbrowser['browser'].unique(),fbrowser['browser'].value_counts())"
   ]
  },
  {
   "cell_type": "markdown",
   "metadata": {},
   "source": [
    "Most of the frauds are done in chrome"
   ]
  },
  {
   "cell_type": "code",
   "execution_count": 107,
   "metadata": {},
   "outputs": [
    {
     "data": {
      "text/plain": [
       "<AxesSubplot:ylabel='sex'>"
      ]
     },
     "execution_count": 107,
     "metadata": {},
     "output_type": "execute_result"
    },
    {
     "data": {
      "image/png": "[encoded data removed]",
      "text/plain": [
       "<Figure size 432x288 with 1 Axes>"
      ]
     },
     "metadata": {
      "needs_background": "light"
     },
     "output_type": "display_data"
    }
   ],
   "source": [
    "sns.barplot(fraud['sex'].unique(),fraud['sex'].value_counts())\n"
   ]
  },
  {
   "cell_type": "markdown",
   "metadata": {},
   "source": [
    "Most women are involved in shopping items from stores like baby,pet and toys"
   ]
  },
  {
   "cell_type": "code",
   "execution_count": 142,
   "metadata": {},
   "outputs": [
    {
     "data": {
      "text/plain": [
       "<AxesSubplot:ylabel='sex'>"
      ]
     },
     "execution_count": 142,
     "metadata": {},
     "output_type": "execute_result"
    },
    {
     "data": {
      "image/png": "[encoded data removed]",
      "text/plain": [
       "<Figure size 432x288 with 1 Axes>"
      ]
     },
     "metadata": {
      "needs_background": "light"
     },
     "output_type": "display_data"
    }
   ],
   "source": [
    "sns.barplot(fbrowser['sex'].unique(),fbrowser['sex'].value_counts())"
   ]
  },
  {
   "cell_type": "markdown",
   "metadata": {},
   "source": [
    "Most fraud is done by male "
   ]
  },
  {
   "cell_type": "code",
   "execution_count": 24,
   "metadata": {},
   "outputs": [
    {
     "data": {
      "text/plain": [
       "<AxesSubplot:ylabel='store'>"
      ]
     },
     "execution_count": 24,
     "metadata": {},
     "output_type": "execute_result"
    },
    {
     "data": {
      "image/png": "[encoded data removed]",
      "text/plain": [
       "<Figure size 432x288 with 1 Axes>"
      ]
     },
     "metadata": {
      "needs_background": "light"
     },
     "output_type": "display_data"
    }
   ],
   "source": [
    "sns.barplot(fraud['store'].unique(),fraud['store'].value_counts())"
   ]
  },
  {
   "cell_type": "code",
   "execution_count": 144,
   "metadata": {},
   "outputs": [
    {
     "data": {
      "text/plain": [
       "<AxesSubplot:ylabel='store'>"
      ]
     },
     "execution_count": 144,
     "metadata": {},
     "output_type": "execute_result"
    },
    {
     "data": {
      "image/png": "[encoded data removed]",
      "text/plain": [
       "<Figure size 432x288 with 1 Axes>"
      ]
     },
     "metadata": {
      "needs_background": "light"
     },
     "output_type": "display_data"
    }
   ],
   "source": [
    "sns.barplot(fbrowser['store'].unique(),fbrowser['store'].value_counts())"
   ]
  },
  {
   "cell_type": "markdown",
   "metadata": {},
   "source": [
    "In previous graph it is observed that most bought item are from store toys and babies. If we see in to what fraud tramsaction have bought is from store pet"
   ]
  },
  {
   "cell_type": "code",
   "execution_count": 25,
   "metadata": {},
   "outputs": [
    {
     "data": {
      "text/plain": [
       "US    56563\n",
       "ZZ    21286\n",
       "CN    12046\n",
       "JP     7326\n",
       "GB     4534\n",
       "KR     4089\n",
       "DE     3734\n",
       "CA     3655\n",
       "FR     3127\n",
       "BR     2964\n",
       "Name: country, dtype: int64"
      ]
     },
     "execution_count": 25,
     "metadata": {},
     "output_type": "execute_result"
    }
   ],
   "source": [
    "fraud['country'].value_counts().head(10)"
   ]
  },
  {
   "cell_type": "code",
   "execution_count": 26,
   "metadata": {},
   "outputs": [
    {
     "data": {
      "text/plain": [
       "US    5390\n",
       "ZZ    1822\n",
       "CN    1044\n",
       "JP     706\n",
       "GB     474\n",
       "CA     408\n",
       "KR     376\n",
       "FR     325\n",
       "BR     279\n",
       "DE     268\n",
       "Name: country, dtype: int64"
      ]
     },
     "execution_count": 26,
     "metadata": {},
     "output_type": "execute_result"
    }
   ],
   "source": [
    "fbrowser['country'].value_counts().head(10)"
   ]
  },
  {
   "cell_type": "markdown",
   "metadata": {},
   "source": [
    "It is observed most of the purchase has been done UN,ZZ and CN . Most of the fraud is from UN,ZZ and CN. ZZ is unknown or unspecified country.24 userid don't have countries."
   ]
  },
  {
   "cell_type": "code",
   "execution_count": 27,
   "metadata": {},
   "outputs": [
    {
     "data": {
      "text/plain": [
       "0    0.90638\n",
       "1    0.09362\n",
       "Name: fraud, dtype: float64"
      ]
     },
     "execution_count": 27,
     "metadata": {},
     "output_type": "execute_result"
    }
   ],
   "source": [
    "fraud['fraud'].value_counts(normalize=True)"
   ]
  },
  {
   "cell_type": "code",
   "execution_count": 28,
   "metadata": {},
   "outputs": [
    {
     "data": {
      "text/plain": [
       "<AxesSubplot:ylabel='age'>"
      ]
     },
     "execution_count": 28,
     "metadata": {},
     "output_type": "execute_result"
    },
    {
     "data": {
      "image/png": "[encoded data removed]",
      "text/plain": [
       "<Figure size 1080x432 with 1 Axes>"
      ]
     },
     "metadata": {
      "needs_background": "light"
     },
     "output_type": "display_data"
    }
   ],
   "source": [
    "plt.figure(figsize=(15,6))\n",
    "sns.barplot(fraud['age'].unique(),fraud['age'].value_counts())"
   ]
  },
  {
   "cell_type": "code",
   "execution_count": 29,
   "metadata": {},
   "outputs": [
    {
     "data": {
      "text/plain": [
       "<AxesSubplot:ylabel='age'>"
      ]
     },
     "execution_count": 29,
     "metadata": {},
     "output_type": "execute_result"
    },
    {
     "data": {
      "image/png": "[encoded data removed]",
      "text/plain": [
       "<Figure size 1080x432 with 1 Axes>"
      ]
     },
     "metadata": {
      "needs_background": "light"
     },
     "output_type": "display_data"
    }
   ],
   "source": [
    "plt.figure(figsize=(15,6))\n",
    "sns.barplot(fbrowser['age'].unique(),fbrowser['age'].value_counts())"
   ]
  },
  {
   "cell_type": "code",
   "execution_count": 30,
   "metadata": {},
   "outputs": [
    {
     "data": {
      "text/html": [
       "<div>\n",
       "<style scoped>\n",
       "    .dataframe tbody tr th:only-of-type {\n",
       "        vertical-align: middle;\n",
       "    }\n",
       "\n",
       "    .dataframe tbody tr th {\n",
       "        vertical-align: top;\n",
       "    }\n",
       "\n",
       "    .dataframe thead th {\n",
       "        text-align: right;\n",
       "    }\n",
       "</style>\n",
       "<table border=\"1\" class=\"dataframe\">\n",
       "  <thead>\n",
       "    <tr style=\"text-align: right;\">\n",
       "      <th></th>\n",
       "      <th>amount</th>\n",
       "    </tr>\n",
       "    <tr>\n",
       "      <th>fraud</th>\n",
       "      <th></th>\n",
       "    </tr>\n",
       "  </thead>\n",
       "  <tbody>\n",
       "    <tr>\n",
       "      <th>0</th>\n",
       "      <td>36.931285</td>\n",
       "    </tr>\n",
       "    <tr>\n",
       "      <th>1</th>\n",
       "      <td>37.014770</td>\n",
       "    </tr>\n",
       "  </tbody>\n",
       "</table>\n",
       "</div>"
      ],
      "text/plain": [
       "          amount\n",
       "fraud           \n",
       "0      36.931285\n",
       "1      37.014770"
      ]
     },
     "execution_count": 30,
     "metadata": {},
     "output_type": "execute_result"
    }
   ],
   "source": [
    "fp=fraud[['amount','fraud']].groupby('fraud').mean()\n",
    "fp"
   ]
  },
  {
   "cell_type": "code",
   "execution_count": 31,
   "metadata": {},
   "outputs": [],
   "source": [
    "fraud['signup_datetime']=pd.to_datetime(fraud['signup_datetime'])\n",
    "fraud['datetime']=pd.to_datetime(fraud['datetime'])"
   ]
  },
  {
   "cell_type": "code",
   "execution_count": 32,
   "metadata": {},
   "outputs": [
    {
     "data": {
      "text/plain": [
       "(Timestamp('2016-02-05 00:00:42'), Timestamp('2016-09-25 04:37:34'))"
      ]
     },
     "execution_count": 32,
     "metadata": {},
     "output_type": "execute_result"
    }
   ],
   "source": [
    "fraud['signup_datetime'].min(),fraud['signup_datetime'].max()"
   ]
  },
  {
   "cell_type": "code",
   "execution_count": 33,
   "metadata": {},
   "outputs": [
    {
     "data": {
      "text/plain": [
       "(Timestamp('2016-02-05 00:00:44'), Timestamp('2017-01-22 10:27:53'))"
      ]
     },
     "execution_count": 33,
     "metadata": {},
     "output_type": "execute_result"
    }
   ],
   "source": [
    "fraud['datetime'].min(),fraud['datetime'].max()"
   ]
  },
  {
   "cell_type": "code",
   "execution_count": 34,
   "metadata": {},
   "outputs": [
    {
     "data": {
      "text/plain": [
       "Index(['Unnamed: 0', 'user_id', 'signup_datetime', 'datetime', 'amount',\n",
       "       'device_id', 'store', 'browser', 'sex', 'age', 'ip_address', 'fraud',\n",
       "       'country'],\n",
       "      dtype='object')"
      ]
     },
     "execution_count": 34,
     "metadata": {},
     "output_type": "execute_result"
    }
   ],
   "source": [
    "fraud.columns"
   ]
  },
  {
   "cell_type": "code",
   "execution_count": 35,
   "metadata": {},
   "outputs": [
    {
     "data": {
      "text/plain": [
       "<matplotlib.legend.Legend at 0x1b6d4264248>"
      ]
     },
     "execution_count": 35,
     "metadata": {},
     "output_type": "execute_result"
    },
    {
     "data": {
      "image/png": "[encoded data removed]",
      "text/plain": [
       "<Figure size 720x288 with 1 Axes>"
      ]
     },
     "metadata": {
      "needs_background": "light"
     },
     "output_type": "display_data"
    }
   ],
   "source": [
    "plt.figure(figsize=(10,4))\n",
    "plt.hist(fraud['signup_datetime'][fraud['fraud']==1],bins=30,alpha=0.7,label=\"Sign Up time\")\n",
    "plt.hist(fraud['datetime'][fraud['fraud']==1],bins=30,alpha=0.7,label=\"Purchase date time\")\n",
    "plt.title('Fraud transaction')\n",
    "plt.legend()"
   ]
  },
  {
   "cell_type": "code",
   "execution_count": 36,
   "metadata": {},
   "outputs": [
    {
     "data": {
      "text/plain": [
       "<matplotlib.legend.Legend at 0x1b6d4264a88>"
      ]
     },
     "execution_count": 36,
     "metadata": {},
     "output_type": "execute_result"
    },
    {
     "data": {
      "image/png": "[encoded data removed]",
      "text/plain": [
       "<Figure size 720x288 with 1 Axes>"
      ]
     },
     "metadata": {
      "needs_background": "light"
     },
     "output_type": "display_data"
    }
   ],
   "source": [
    "plt.figure(figsize=(10,4))\n",
    "plt.hist(fraud['signup_datetime'][fraud['fraud']==0],bins=30,alpha=0.7,label=\"Sign Up time\")\n",
    "plt.hist(fraud['datetime'][fraud['fraud']==0],bins=30,alpha=0.7,label=\"Purchase date time\")\n",
    "plt.title('Fraud transaction')\n",
    "plt.legend()"
   ]
  },
  {
   "cell_type": "markdown",
   "metadata": {},
   "source": [
    "It is observed that sign up time and purchase time of non fraud user is more. Whereas for faud they have created just before the purchase time."
   ]
  },
  {
   "cell_type": "code",
   "execution_count": 48,
   "metadata": {},
   "outputs": [],
   "source": [
    "def fraud_no_fraud_chart(col):\n",
    "    df1 = pd.DataFrame(fraud[fraud['fraud']==1].groupby(col).count())\n",
    "    df0 = pd.DataFrame(fraud[fraud['fraud']==0].groupby(col).count())\n",
    "    \n",
    "    fig, ax = plt.subplots(1,2,figsize=(14,5),sharey=True)\n",
    "    \n",
    "    sns.barplot(df1.index.unique(),df1['fraud'],ax=ax[0])\n",
    "    sns.barplot(df0.index.unique(),df0['fraud'],ax=ax[1])\n",
    "    ax[0].set_title(col[0].upper() + col[1:] + \" for Fraudulent Transactions\",fontsize=14)\n",
    "    ax[1].set_title(col[0].upper() + col[1:] + \" for Legitimate Transactions\",fontsize=14);"
   ]
  },
  {
   "cell_type": "code",
   "execution_count": 49,
   "metadata": {},
   "outputs": [
    {
     "data": {
      "image/png": "[encoded data removed]",
      "text/plain": [
       "<Figure size 1008x360 with 2 Axes>"
      ]
     },
     "metadata": {
      "needs_background": "light"
     },
     "output_type": "display_data"
    }
   ],
   "source": [
    "fraud_no_fraud_chart('browser')"
   ]
  },
  {
   "cell_type": "code",
   "execution_count": 50,
   "metadata": {},
   "outputs": [
    {
     "data": {
      "image/png": "[encoded data removed]",
      "text/plain": [
       "<Figure size 1008x360 with 2 Axes>"
      ]
     },
     "metadata": {
      "needs_background": "light"
     },
     "output_type": "display_data"
    }
   ],
   "source": [
    "fraud_no_fraud_chart('sex')"
   ]
  },
  {
   "cell_type": "markdown",
   "metadata": {},
   "source": [
    "Most of the fraud transaction have not provided gender detail."
   ]
  },
  {
   "cell_type": "code",
   "execution_count": 53,
   "metadata": {},
   "outputs": [
    {
     "data": {
      "image/png": "[encoded data removed]",
      "text/plain": [
       "<Figure size 1008x360 with 2 Axes>"
      ]
     },
     "metadata": {
      "needs_background": "light"
     },
     "output_type": "display_data"
    }
   ],
   "source": [
    "fig, ax = plt.subplots(1,2, figsize = (14,5),sharey=True)\n",
    "ax[0].hist(fraud['signup_datetime'][fraud['fraud']==1],bins=15)\n",
    "ax[0].set_title(\"Frequency of Signup Times for Fraudulent purchases\",fontsize=14)\n",
    "ax[1].hist(fraud['signup_datetime'][fraud['fraud']==0],bins=15)\n",
    "ax[1].set_title(\"Frequency of Signup Times for Legimate purchases\",fontsize=14);"
   ]
  },
  {
   "cell_type": "code",
   "execution_count": 55,
   "metadata": {},
   "outputs": [
    {
     "data": {
      "image/png": "[encoded data removed]",
      "text/plain": [
       "<Figure size 1008x360 with 2 Axes>"
      ]
     },
     "metadata": {
      "needs_background": "light"
     },
     "output_type": "display_data"
    }
   ],
   "source": [
    "fig, ax = plt.subplots(1,2, figsize = (14,5),sharey=True)\n",
    "ax[0].hist(fraud['datetime'][fraud['fraud']==1],bins=15)\n",
    "ax[0].set_title(\"Frequency of Purchase times for fraudulent purchases\",fontsize=14)\n",
    "ax[1].hist(fraud['datetime'][fraud['fraud']==0],bins=15)\n",
    "ax[1].set_title(\"Frequency of Purchase times for legimate purchases\",fontsize=14);"
   ]
  },
  {
   "cell_type": "code",
   "execution_count": 56,
   "metadata": {},
   "outputs": [
    {
     "data": {
      "text/plain": [
       "24"
      ]
     },
     "execution_count": 56,
     "metadata": {},
     "output_type": "execute_result"
    }
   ],
   "source": [
    "fraud['country'].isnull().sum()"
   ]
  },
  {
   "cell_type": "code",
   "execution_count": 57,
   "metadata": {},
   "outputs": [
    {
     "data": {
      "text/plain": [
       "195"
      ]
     },
     "execution_count": 57,
     "metadata": {},
     "output_type": "execute_result"
    }
   ],
   "source": [
    "len(fraud['country'].sort_values().unique())"
   ]
  },
  {
   "cell_type": "code",
   "execution_count": 58,
   "metadata": {},
   "outputs": [],
   "source": [
    "total_country=fraud[['country','fraud']].groupby('country').count().sort_values('fraud',ascending=True)"
   ]
  },
  {
   "cell_type": "code",
   "execution_count": 60,
   "metadata": {},
   "outputs": [],
   "source": [
    "fraud_country=fraud[['country','fraud']][fraud['fraud']==1].groupby('country').count().sort_values('fraud',ascending=True)"
   ]
  },
  {
   "cell_type": "code",
   "execution_count": 72,
   "metadata": {},
   "outputs": [],
   "source": [
    "ratedf=pd.DataFrame(total_country)\n",
    "\n",
    "ratedf=ratedf.merge(fraud_country,on='country')\n",
    "ratedf['ratio']=ratedf['fraud_y']/ratedf['fraud_x']\n",
    "ratedf.rename(columns={'fraud_x':'Total_Transaction','fraud_y':'fraud_Transaction'},inplace=True)\n",
    "ratedf.reset_index(inplace=True)"
   ]
  },
  {
   "cell_type": "code",
   "execution_count": 75,
   "metadata": {},
   "outputs": [
    {
     "data": {
      "text/html": [
       "<div>\n",
       "<style scoped>\n",
       "    .dataframe tbody tr th:only-of-type {\n",
       "        vertical-align: middle;\n",
       "    }\n",
       "\n",
       "    .dataframe tbody tr th {\n",
       "        vertical-align: top;\n",
       "    }\n",
       "\n",
       "    .dataframe thead th {\n",
       "        text-align: right;\n",
       "    }\n",
       "</style>\n",
       "<table border=\"1\" class=\"dataframe\">\n",
       "  <thead>\n",
       "    <tr style=\"text-align: right;\">\n",
       "      <th></th>\n",
       "      <th>country</th>\n",
       "      <th>Total_Transaction</th>\n",
       "      <th>fraud_Transaction</th>\n",
       "      <th>ratio</th>\n",
       "    </tr>\n",
       "  </thead>\n",
       "  <tbody>\n",
       "    <tr>\n",
       "      <th>0</th>\n",
       "      <td>TM</td>\n",
       "      <td>1</td>\n",
       "      <td>1</td>\n",
       "      <td>1.000000</td>\n",
       "    </tr>\n",
       "    <tr>\n",
       "      <th>1</th>\n",
       "      <td>YE</td>\n",
       "      <td>4</td>\n",
       "      <td>1</td>\n",
       "      <td>0.250000</td>\n",
       "    </tr>\n",
       "    <tr>\n",
       "      <th>2</th>\n",
       "      <td>IM</td>\n",
       "      <td>5</td>\n",
       "      <td>1</td>\n",
       "      <td>0.200000</td>\n",
       "    </tr>\n",
       "    <tr>\n",
       "      <th>3</th>\n",
       "      <td>ME</td>\n",
       "      <td>5</td>\n",
       "      <td>1</td>\n",
       "      <td>0.200000</td>\n",
       "    </tr>\n",
       "    <tr>\n",
       "      <th>4</th>\n",
       "      <td>CM</td>\n",
       "      <td>6</td>\n",
       "      <td>1</td>\n",
       "      <td>0.166667</td>\n",
       "    </tr>\n",
       "    <tr>\n",
       "      <th>5</th>\n",
       "      <td>CI</td>\n",
       "      <td>6</td>\n",
       "      <td>1</td>\n",
       "      <td>0.166667</td>\n",
       "    </tr>\n",
       "    <tr>\n",
       "      <th>6</th>\n",
       "      <td>MW</td>\n",
       "      <td>7</td>\n",
       "      <td>1</td>\n",
       "      <td>0.142857</td>\n",
       "    </tr>\n",
       "    <tr>\n",
       "      <th>7</th>\n",
       "      <td>GI</td>\n",
       "      <td>8</td>\n",
       "      <td>1</td>\n",
       "      <td>0.125000</td>\n",
       "    </tr>\n",
       "    <tr>\n",
       "      <th>8</th>\n",
       "      <td>HN</td>\n",
       "      <td>9</td>\n",
       "      <td>1</td>\n",
       "      <td>0.111111</td>\n",
       "    </tr>\n",
       "    <tr>\n",
       "      <th>9</th>\n",
       "      <td>SN</td>\n",
       "      <td>9</td>\n",
       "      <td>1</td>\n",
       "      <td>0.111111</td>\n",
       "    </tr>\n",
       "    <tr>\n",
       "      <th>10</th>\n",
       "      <td>UZ</td>\n",
       "      <td>11</td>\n",
       "      <td>2</td>\n",
       "      <td>0.181818</td>\n",
       "    </tr>\n",
       "    <tr>\n",
       "      <th>15</th>\n",
       "      <td>MT</td>\n",
       "      <td>21</td>\n",
       "      <td>4</td>\n",
       "      <td>0.190476</td>\n",
       "    </tr>\n",
       "    <tr>\n",
       "      <th>23</th>\n",
       "      <td>LB</td>\n",
       "      <td>27</td>\n",
       "      <td>3</td>\n",
       "      <td>0.111111</td>\n",
       "    </tr>\n",
       "    <tr>\n",
       "      <th>25</th>\n",
       "      <td>LK</td>\n",
       "      <td>29</td>\n",
       "      <td>13</td>\n",
       "      <td>0.448276</td>\n",
       "    </tr>\n",
       "    <tr>\n",
       "      <th>35</th>\n",
       "      <td>BO</td>\n",
       "      <td>54</td>\n",
       "      <td>13</td>\n",
       "      <td>0.240741</td>\n",
       "    </tr>\n",
       "    <tr>\n",
       "      <th>38</th>\n",
       "      <td>LU</td>\n",
       "      <td>63</td>\n",
       "      <td>13</td>\n",
       "      <td>0.206349</td>\n",
       "    </tr>\n",
       "    <tr>\n",
       "      <th>42</th>\n",
       "      <td>LV</td>\n",
       "      <td>77</td>\n",
       "      <td>8</td>\n",
       "      <td>0.103896</td>\n",
       "    </tr>\n",
       "    <tr>\n",
       "      <th>46</th>\n",
       "      <td>KW</td>\n",
       "      <td>89</td>\n",
       "      <td>21</td>\n",
       "      <td>0.235955</td>\n",
       "    </tr>\n",
       "    <tr>\n",
       "      <th>47</th>\n",
       "      <td>CR</td>\n",
       "      <td>91</td>\n",
       "      <td>12</td>\n",
       "      <td>0.131868</td>\n",
       "    </tr>\n",
       "    <tr>\n",
       "      <th>49</th>\n",
       "      <td>EC</td>\n",
       "      <td>108</td>\n",
       "      <td>28</td>\n",
       "      <td>0.259259</td>\n",
       "    </tr>\n",
       "    <tr>\n",
       "      <th>51</th>\n",
       "      <td>LT</td>\n",
       "      <td>115</td>\n",
       "      <td>20</td>\n",
       "      <td>0.173913</td>\n",
       "    </tr>\n",
       "    <tr>\n",
       "      <th>52</th>\n",
       "      <td>HR</td>\n",
       "      <td>115</td>\n",
       "      <td>19</td>\n",
       "      <td>0.165217</td>\n",
       "    </tr>\n",
       "    <tr>\n",
       "      <th>53</th>\n",
       "      <td>TN</td>\n",
       "      <td>117</td>\n",
       "      <td>30</td>\n",
       "      <td>0.256410</td>\n",
       "    </tr>\n",
       "    <tr>\n",
       "      <th>54</th>\n",
       "      <td>PE</td>\n",
       "      <td>120</td>\n",
       "      <td>31</td>\n",
       "      <td>0.258333</td>\n",
       "    </tr>\n",
       "    <tr>\n",
       "      <th>55</th>\n",
       "      <td>DZ</td>\n",
       "      <td>123</td>\n",
       "      <td>13</td>\n",
       "      <td>0.105691</td>\n",
       "    </tr>\n",
       "    <tr>\n",
       "      <th>56</th>\n",
       "      <td>AE</td>\n",
       "      <td>138</td>\n",
       "      <td>16</td>\n",
       "      <td>0.115942</td>\n",
       "    </tr>\n",
       "    <tr>\n",
       "      <th>63</th>\n",
       "      <td>GR</td>\n",
       "      <td>235</td>\n",
       "      <td>31</td>\n",
       "      <td>0.131915</td>\n",
       "    </tr>\n",
       "    <tr>\n",
       "      <th>64</th>\n",
       "      <td>VE</td>\n",
       "      <td>247</td>\n",
       "      <td>33</td>\n",
       "      <td>0.133603</td>\n",
       "    </tr>\n",
       "    <tr>\n",
       "      <th>67</th>\n",
       "      <td>NZ</td>\n",
       "      <td>279</td>\n",
       "      <td>61</td>\n",
       "      <td>0.218638</td>\n",
       "    </tr>\n",
       "    <tr>\n",
       "      <th>68</th>\n",
       "      <td>SG</td>\n",
       "      <td>284</td>\n",
       "      <td>31</td>\n",
       "      <td>0.109155</td>\n",
       "    </tr>\n",
       "    <tr>\n",
       "      <th>72</th>\n",
       "      <td>SA</td>\n",
       "      <td>345</td>\n",
       "      <td>53</td>\n",
       "      <td>0.153623</td>\n",
       "    </tr>\n",
       "    <tr>\n",
       "      <th>73</th>\n",
       "      <td>EG</td>\n",
       "      <td>353</td>\n",
       "      <td>48</td>\n",
       "      <td>0.135977</td>\n",
       "    </tr>\n",
       "    <tr>\n",
       "      <th>74</th>\n",
       "      <td>IE</td>\n",
       "      <td>401</td>\n",
       "      <td>61</td>\n",
       "      <td>0.152120</td>\n",
       "    </tr>\n",
       "    <tr>\n",
       "      <th>75</th>\n",
       "      <td>BE</td>\n",
       "      <td>412</td>\n",
       "      <td>54</td>\n",
       "      <td>0.131068</td>\n",
       "    </tr>\n",
       "    <tr>\n",
       "      <th>77</th>\n",
       "      <td>UA</td>\n",
       "      <td>416</td>\n",
       "      <td>61</td>\n",
       "      <td>0.146635</td>\n",
       "    </tr>\n",
       "    <tr>\n",
       "      <th>78</th>\n",
       "      <td>CL</td>\n",
       "      <td>417</td>\n",
       "      <td>65</td>\n",
       "      <td>0.155875</td>\n",
       "    </tr>\n",
       "    <tr>\n",
       "      <th>81</th>\n",
       "      <td>HK</td>\n",
       "      <td>485</td>\n",
       "      <td>81</td>\n",
       "      <td>0.167010</td>\n",
       "    </tr>\n",
       "    <tr>\n",
       "      <th>82</th>\n",
       "      <td>DK</td>\n",
       "      <td>502</td>\n",
       "      <td>78</td>\n",
       "      <td>0.155378</td>\n",
       "    </tr>\n",
       "    <tr>\n",
       "      <th>86</th>\n",
       "      <td>NO</td>\n",
       "      <td>602</td>\n",
       "      <td>65</td>\n",
       "      <td>0.107973</td>\n",
       "    </tr>\n",
       "    <tr>\n",
       "      <th>92</th>\n",
       "      <td>SE</td>\n",
       "      <td>977</td>\n",
       "      <td>126</td>\n",
       "      <td>0.128966</td>\n",
       "    </tr>\n",
       "    <tr>\n",
       "      <th>94</th>\n",
       "      <td>MX</td>\n",
       "      <td>1115</td>\n",
       "      <td>142</td>\n",
       "      <td>0.127354</td>\n",
       "    </tr>\n",
       "    <tr>\n",
       "      <th>96</th>\n",
       "      <td>IN</td>\n",
       "      <td>1394</td>\n",
       "      <td>156</td>\n",
       "      <td>0.111908</td>\n",
       "    </tr>\n",
       "    <tr>\n",
       "      <th>102</th>\n",
       "      <td>FR</td>\n",
       "      <td>3127</td>\n",
       "      <td>325</td>\n",
       "      <td>0.103933</td>\n",
       "    </tr>\n",
       "    <tr>\n",
       "      <th>103</th>\n",
       "      <td>CA</td>\n",
       "      <td>3655</td>\n",
       "      <td>408</td>\n",
       "      <td>0.111628</td>\n",
       "    </tr>\n",
       "    <tr>\n",
       "      <th>106</th>\n",
       "      <td>GB</td>\n",
       "      <td>4534</td>\n",
       "      <td>474</td>\n",
       "      <td>0.104543</td>\n",
       "    </tr>\n",
       "  </tbody>\n",
       "</table>\n",
       "</div>"
      ],
      "text/plain": [
       "    country  Total_Transaction  fraud_Transaction     ratio\n",
       "0        TM                  1                  1  1.000000\n",
       "1        YE                  4                  1  0.250000\n",
       "2        IM                  5                  1  0.200000\n",
       "3        ME                  5                  1  0.200000\n",
       "4        CM                  6                  1  0.166667\n",
       "5        CI                  6                  1  0.166667\n",
       "6        MW                  7                  1  0.142857\n",
       "7        GI                  8                  1  0.125000\n",
       "8        HN                  9                  1  0.111111\n",
       "9        SN                  9                  1  0.111111\n",
       "10       UZ                 11                  2  0.181818\n",
       "15       MT                 21                  4  0.190476\n",
       "23       LB                 27                  3  0.111111\n",
       "25       LK                 29                 13  0.448276\n",
       "35       BO                 54                 13  0.240741\n",
       "38       LU                 63                 13  0.206349\n",
       "42       LV                 77                  8  0.103896\n",
       "46       KW                 89                 21  0.235955\n",
       "47       CR                 91                 12  0.131868\n",
       "49       EC                108                 28  0.259259\n",
       "51       LT                115                 20  0.173913\n",
       "52       HR                115                 19  0.165217\n",
       "53       TN                117                 30  0.256410\n",
       "54       PE                120                 31  0.258333\n",
       "55       DZ                123                 13  0.105691\n",
       "56       AE                138                 16  0.115942\n",
       "63       GR                235                 31  0.131915\n",
       "64       VE                247                 33  0.133603\n",
       "67       NZ                279                 61  0.218638\n",
       "68       SG                284                 31  0.109155\n",
       "72       SA                345                 53  0.153623\n",
       "73       EG                353                 48  0.135977\n",
       "74       IE                401                 61  0.152120\n",
       "75       BE                412                 54  0.131068\n",
       "77       UA                416                 61  0.146635\n",
       "78       CL                417                 65  0.155875\n",
       "81       HK                485                 81  0.167010\n",
       "82       DK                502                 78  0.155378\n",
       "86       NO                602                 65  0.107973\n",
       "92       SE                977                126  0.128966\n",
       "94       MX               1115                142  0.127354\n",
       "96       IN               1394                156  0.111908\n",
       "102      FR               3127                325  0.103933\n",
       "103      CA               3655                408  0.111628\n",
       "106      GB               4534                474  0.104543"
      ]
     },
     "execution_count": 75,
     "metadata": {},
     "output_type": "execute_result"
    }
   ],
   "source": [
    "ratedf.loc[ratedf['ratio']>0.10]"
   ]
  },
  {
   "cell_type": "markdown",
   "metadata": {},
   "source": [
    "Countries showing high ratio indicate the user has they have done only fraud trasaction"
   ]
  },
  {
   "cell_type": "code",
   "execution_count": 76,
   "metadata": {},
   "outputs": [
    {
     "data": {
      "image/png": "[encoded data removed]",
      "text/plain": [
       "<Figure size 1224x360 with 1 Axes>"
      ]
     },
     "metadata": {
      "needs_background": "light"
     },
     "output_type": "display_data"
    }
   ],
   "source": [
    "plt.figure(figsize=(17,5))\n",
    "ax = sns.barplot(ratedf['country'].head(15),ratedf['ratio'].head(15))\n",
    "ax.set_title(\"Countries with highest Fraud:Total Transaction Ratio\",fontsize=18);"
   ]
  },
  {
   "cell_type": "code",
   "execution_count": 78,
   "metadata": {},
   "outputs": [
    {
     "data": {
      "text/html": [
       "<div>\n",
       "<style scoped>\n",
       "    .dataframe tbody tr th:only-of-type {\n",
       "        vertical-align: middle;\n",
       "    }\n",
       "\n",
       "    .dataframe tbody tr th {\n",
       "        vertical-align: top;\n",
       "    }\n",
       "\n",
       "    .dataframe thead th {\n",
       "        text-align: right;\n",
       "    }\n",
       "</style>\n",
       "<table border=\"1\" class=\"dataframe\">\n",
       "  <thead>\n",
       "    <tr style=\"text-align: right;\">\n",
       "      <th></th>\n",
       "      <th>country</th>\n",
       "      <th>Total_Transaction</th>\n",
       "      <th>fraud_Transaction</th>\n",
       "      <th>ratio</th>\n",
       "    </tr>\n",
       "  </thead>\n",
       "  <tbody>\n",
       "    <tr>\n",
       "      <th>110</th>\n",
       "      <td>US</td>\n",
       "      <td>56563</td>\n",
       "      <td>5390</td>\n",
       "      <td>0.095292</td>\n",
       "    </tr>\n",
       "    <tr>\n",
       "      <th>109</th>\n",
       "      <td>ZZ</td>\n",
       "      <td>21286</td>\n",
       "      <td>1822</td>\n",
       "      <td>0.085596</td>\n",
       "    </tr>\n",
       "    <tr>\n",
       "      <th>108</th>\n",
       "      <td>CN</td>\n",
       "      <td>12046</td>\n",
       "      <td>1044</td>\n",
       "      <td>0.086668</td>\n",
       "    </tr>\n",
       "    <tr>\n",
       "      <th>107</th>\n",
       "      <td>JP</td>\n",
       "      <td>7326</td>\n",
       "      <td>706</td>\n",
       "      <td>0.096369</td>\n",
       "    </tr>\n",
       "    <tr>\n",
       "      <th>106</th>\n",
       "      <td>GB</td>\n",
       "      <td>4534</td>\n",
       "      <td>474</td>\n",
       "      <td>0.104543</td>\n",
       "    </tr>\n",
       "    <tr>\n",
       "      <th>103</th>\n",
       "      <td>CA</td>\n",
       "      <td>3655</td>\n",
       "      <td>408</td>\n",
       "      <td>0.111628</td>\n",
       "    </tr>\n",
       "    <tr>\n",
       "      <th>105</th>\n",
       "      <td>KR</td>\n",
       "      <td>4089</td>\n",
       "      <td>376</td>\n",
       "      <td>0.091954</td>\n",
       "    </tr>\n",
       "    <tr>\n",
       "      <th>102</th>\n",
       "      <td>FR</td>\n",
       "      <td>3127</td>\n",
       "      <td>325</td>\n",
       "      <td>0.103933</td>\n",
       "    </tr>\n",
       "    <tr>\n",
       "      <th>101</th>\n",
       "      <td>BR</td>\n",
       "      <td>2964</td>\n",
       "      <td>279</td>\n",
       "      <td>0.094130</td>\n",
       "    </tr>\n",
       "    <tr>\n",
       "      <th>104</th>\n",
       "      <td>DE</td>\n",
       "      <td>3734</td>\n",
       "      <td>268</td>\n",
       "      <td>0.071773</td>\n",
       "    </tr>\n",
       "    <tr>\n",
       "      <th>100</th>\n",
       "      <td>AU</td>\n",
       "      <td>1991</td>\n",
       "      <td>181</td>\n",
       "      <td>0.090909</td>\n",
       "    </tr>\n",
       "    <tr>\n",
       "      <th>99</th>\n",
       "      <td>IT</td>\n",
       "      <td>1966</td>\n",
       "      <td>167</td>\n",
       "      <td>0.084944</td>\n",
       "    </tr>\n",
       "    <tr>\n",
       "      <th>96</th>\n",
       "      <td>IN</td>\n",
       "      <td>1394</td>\n",
       "      <td>156</td>\n",
       "      <td>0.111908</td>\n",
       "    </tr>\n",
       "    <tr>\n",
       "      <th>98</th>\n",
       "      <td>NL</td>\n",
       "      <td>1845</td>\n",
       "      <td>151</td>\n",
       "      <td>0.081843</td>\n",
       "    </tr>\n",
       "    <tr>\n",
       "      <th>94</th>\n",
       "      <td>MX</td>\n",
       "      <td>1115</td>\n",
       "      <td>142</td>\n",
       "      <td>0.127354</td>\n",
       "    </tr>\n",
       "    <tr>\n",
       "      <th>97</th>\n",
       "      <td>RU</td>\n",
       "      <td>1594</td>\n",
       "      <td>135</td>\n",
       "      <td>0.084693</td>\n",
       "    </tr>\n",
       "    <tr>\n",
       "      <th>92</th>\n",
       "      <td>SE</td>\n",
       "      <td>977</td>\n",
       "      <td>126</td>\n",
       "      <td>0.128966</td>\n",
       "    </tr>\n",
       "    <tr>\n",
       "      <th>95</th>\n",
       "      <td>TW</td>\n",
       "      <td>1229</td>\n",
       "      <td>98</td>\n",
       "      <td>0.079740</td>\n",
       "    </tr>\n",
       "    <tr>\n",
       "      <th>81</th>\n",
       "      <td>HK</td>\n",
       "      <td>485</td>\n",
       "      <td>81</td>\n",
       "      <td>0.167010</td>\n",
       "    </tr>\n",
       "    <tr>\n",
       "      <th>93</th>\n",
       "      <td>ES</td>\n",
       "      <td>1105</td>\n",
       "      <td>79</td>\n",
       "      <td>0.071493</td>\n",
       "    </tr>\n",
       "  </tbody>\n",
       "</table>\n",
       "</div>"
      ],
      "text/plain": [
       "    country  Total_Transaction  fraud_Transaction     ratio\n",
       "110      US              56563               5390  0.095292\n",
       "109      ZZ              21286               1822  0.085596\n",
       "108      CN              12046               1044  0.086668\n",
       "107      JP               7326                706  0.096369\n",
       "106      GB               4534                474  0.104543\n",
       "103      CA               3655                408  0.111628\n",
       "105      KR               4089                376  0.091954\n",
       "102      FR               3127                325  0.103933\n",
       "101      BR               2964                279  0.094130\n",
       "104      DE               3734                268  0.071773\n",
       "100      AU               1991                181  0.090909\n",
       "99       IT               1966                167  0.084944\n",
       "96       IN               1394                156  0.111908\n",
       "98       NL               1845                151  0.081843\n",
       "94       MX               1115                142  0.127354\n",
       "97       RU               1594                135  0.084693\n",
       "92       SE                977                126  0.128966\n",
       "95       TW               1229                 98  0.079740\n",
       "81       HK                485                 81  0.167010\n",
       "93       ES               1105                 79  0.071493"
      ]
     },
     "execution_count": 78,
     "metadata": {},
     "output_type": "execute_result"
    }
   ],
   "source": [
    "ratedf1=ratedf.sort_values('fraud_Transaction',ascending=False).head(20)\n",
    "ratedf1"
   ]
  },
  {
   "cell_type": "code",
   "execution_count": 81,
   "metadata": {},
   "outputs": [
    {
     "data": {
      "text/plain": [
       "Text(0.5, 1.0, 'Top fraud transaction countries')"
      ]
     },
     "execution_count": 81,
     "metadata": {},
     "output_type": "execute_result"
    },
    {
     "data": {
      "image/png": "[encoded data removed]",
      "text/plain": [
       "<Figure size 432x288 with 1 Axes>"
      ]
     },
     "metadata": {
      "needs_background": "light"
     },
     "output_type": "display_data"
    }
   ],
   "source": [
    "ax=sns.barplot(ratedf1['country'].head(20),ratedf1['fraud_Transaction'].head(20))\n",
    "ax.set_title(\"Top fraud transaction countries\")"
   ]
  },
  {
   "cell_type": "markdown",
   "metadata": {},
   "source": [
    "## Data transformation"
   ]
  },
  {
   "cell_type": "markdown",
   "metadata": {},
   "source": [
    "#### Ordinalize categorical Variable"
   ]
  },
  {
   "cell_type": "code",
   "execution_count": 3,
   "metadata": {},
   "outputs": [],
   "source": [
    "fraud=pd.read_csv('fraud_w_country.csv',index_col=0)"
   ]
  },
  {
   "cell_type": "code",
   "execution_count": null,
   "metadata": {},
   "outputs": [],
   "source": []
  },
  {
   "cell_type": "code",
   "execution_count": 4,
   "metadata": {},
   "outputs": [],
   "source": [
    "fraud1=fraud.copy()\n"
   ]
  },
  {
   "cell_type": "code",
   "execution_count": 5,
   "metadata": {},
   "outputs": [
    {
     "data": {
      "text/html": [
       "<div>\n",
       "<style scoped>\n",
       "    .dataframe tbody tr th:only-of-type {\n",
       "        vertical-align: middle;\n",
       "    }\n",
       "\n",
       "    .dataframe tbody tr th {\n",
       "        vertical-align: top;\n",
       "    }\n",
       "\n",
       "    .dataframe thead th {\n",
       "        text-align: right;\n",
       "    }\n",
       "</style>\n",
       "<table border=\"1\" class=\"dataframe\">\n",
       "  <thead>\n",
       "    <tr style=\"text-align: right;\">\n",
       "      <th></th>\n",
       "      <th>user_id</th>\n",
       "      <th>signup_datetime</th>\n",
       "      <th>datetime</th>\n",
       "      <th>amount</th>\n",
       "      <th>device_id</th>\n",
       "      <th>store</th>\n",
       "      <th>browser</th>\n",
       "      <th>sex</th>\n",
       "      <th>age</th>\n",
       "      <th>ip_address</th>\n",
       "      <th>fraud</th>\n",
       "      <th>country</th>\n",
       "    </tr>\n",
       "  </thead>\n",
       "  <tbody>\n",
       "    <tr>\n",
       "      <th>0</th>\n",
       "      <td>40630765</td>\n",
       "      <td>2016-03-22 09:11:01</td>\n",
       "      <td>2016-06-01 01:58:07</td>\n",
       "      <td>12.05</td>\n",
       "      <td>41974320</td>\n",
       "      <td>toys</td>\n",
       "      <td>IE</td>\n",
       "      <td>F</td>\n",
       "      <td>27</td>\n",
       "      <td>3924506326</td>\n",
       "      <td>0</td>\n",
       "      <td>ZZ</td>\n",
       "    </tr>\n",
       "    <tr>\n",
       "      <th>1</th>\n",
       "      <td>90517585</td>\n",
       "      <td>2016-05-17 14:45:10</td>\n",
       "      <td>2016-06-03 13:49:55</td>\n",
       "      <td>55.68</td>\n",
       "      <td>70879186</td>\n",
       "      <td>babies</td>\n",
       "      <td>IE</td>\n",
       "      <td>F</td>\n",
       "      <td>31</td>\n",
       "      <td>2432689644</td>\n",
       "      <td>0</td>\n",
       "      <td>CN</td>\n",
       "    </tr>\n",
       "    <tr>\n",
       "      <th>2</th>\n",
       "      <td>63383012</td>\n",
       "      <td>2016-09-02 14:15:02</td>\n",
       "      <td>2016-12-03 13:38:24</td>\n",
       "      <td>33.45</td>\n",
       "      <td>40697637</td>\n",
       "      <td>pets</td>\n",
       "      <td>Chrome</td>\n",
       "      <td>F</td>\n",
       "      <td>49</td>\n",
       "      <td>2093944038</td>\n",
       "      <td>0</td>\n",
       "      <td>CN</td>\n",
       "    </tr>\n",
       "    <tr>\n",
       "      <th>3</th>\n",
       "      <td>34695055</td>\n",
       "      <td>2016-08-03 01:51:47</td>\n",
       "      <td>2016-11-11 12:49:45</td>\n",
       "      <td>40.32</td>\n",
       "      <td>29544115</td>\n",
       "      <td>toys</td>\n",
       "      <td>FireFox</td>\n",
       "      <td>M</td>\n",
       "      <td>41</td>\n",
       "      <td>77751156</td>\n",
       "      <td>0</td>\n",
       "      <td>US</td>\n",
       "    </tr>\n",
       "    <tr>\n",
       "      <th>4</th>\n",
       "      <td>92152176</td>\n",
       "      <td>2016-07-17 04:58:30</td>\n",
       "      <td>2016-08-24 19:12:41</td>\n",
       "      <td>49.16</td>\n",
       "      <td>80967980</td>\n",
       "      <td>babies</td>\n",
       "      <td>Chrome</td>\n",
       "      <td>Not Provided</td>\n",
       "      <td>44</td>\n",
       "      <td>1520970714</td>\n",
       "      <td>0</td>\n",
       "      <td>ES</td>\n",
       "    </tr>\n",
       "  </tbody>\n",
       "</table>\n",
       "</div>"
      ],
      "text/plain": [
       "    user_id      signup_datetime             datetime  amount  device_id  \\\n",
       "0  40630765  2016-03-22 09:11:01  2016-06-01 01:58:07   12.05   41974320   \n",
       "1  90517585  2016-05-17 14:45:10  2016-06-03 13:49:55   55.68   70879186   \n",
       "2  63383012  2016-09-02 14:15:02  2016-12-03 13:38:24   33.45   40697637   \n",
       "3  34695055  2016-08-03 01:51:47  2016-11-11 12:49:45   40.32   29544115   \n",
       "4  92152176  2016-07-17 04:58:30  2016-08-24 19:12:41   49.16   80967980   \n",
       "\n",
       "    store  browser           sex  age  ip_address  fraud country  \n",
       "0    toys       IE             F   27  3924506326      0      ZZ  \n",
       "1  babies       IE             F   31  2432689644      0      CN  \n",
       "2    pets   Chrome             F   49  2093944038      0      CN  \n",
       "3    toys  FireFox             M   41    77751156      0      US  \n",
       "4  babies   Chrome  Not Provided   44  1520970714      0      ES  "
      ]
     },
     "execution_count": 5,
     "metadata": {},
     "output_type": "execute_result"
    }
   ],
   "source": [
    "fraud1.head()"
   ]
  },
  {
   "cell_type": "code",
   "execution_count": 6,
   "metadata": {},
   "outputs": [
    {
     "data": {
      "text/plain": [
       "array(['F', 'M', 'Not Provided'], dtype=object)"
      ]
     },
     "execution_count": 6,
     "metadata": {},
     "output_type": "execute_result"
    }
   ],
   "source": [
    "fraud1['sex'].unique()"
   ]
  },
  {
   "cell_type": "code",
   "execution_count": 6,
   "metadata": {},
   "outputs": [],
   "source": [
    "store_dict={'toys':0, 'babies':1, 'pets':2}\n",
    "browser_dict={'IE':0, 'Chrome':1, 'FireFox':2, 'Safari':3, 'Opera':4}\n",
    "sex_dict={'F':0, 'M':1, 'Not Provided':2}\n",
    "\n",
    "\n",
    "\n"
   ]
  },
  {
   "cell_type": "code",
   "execution_count": 7,
   "metadata": {},
   "outputs": [],
   "source": [
    "fraud1.store=fraud1.store.replace(store_dict)\n",
    "fraud1.browser=fraud1.browser.replace(browser_dict)\n",
    "fraud1.sex=fraud1.sex.replace(sex_dict)"
   ]
  },
  {
   "cell_type": "code",
   "execution_count": 8,
   "metadata": {},
   "outputs": [
    {
     "data": {
      "text/html": [
       "<div>\n",
       "<style scoped>\n",
       "    .dataframe tbody tr th:only-of-type {\n",
       "        vertical-align: middle;\n",
       "    }\n",
       "\n",
       "    .dataframe tbody tr th {\n",
       "        vertical-align: top;\n",
       "    }\n",
       "\n",
       "    .dataframe thead th {\n",
       "        text-align: right;\n",
       "    }\n",
       "</style>\n",
       "<table border=\"1\" class=\"dataframe\">\n",
       "  <thead>\n",
       "    <tr style=\"text-align: right;\">\n",
       "      <th></th>\n",
       "      <th>user_id</th>\n",
       "      <th>signup_datetime</th>\n",
       "      <th>datetime</th>\n",
       "      <th>amount</th>\n",
       "      <th>device_id</th>\n",
       "      <th>store</th>\n",
       "      <th>browser</th>\n",
       "      <th>sex</th>\n",
       "      <th>age</th>\n",
       "      <th>ip_address</th>\n",
       "      <th>fraud</th>\n",
       "      <th>country</th>\n",
       "    </tr>\n",
       "  </thead>\n",
       "  <tbody>\n",
       "    <tr>\n",
       "      <th>0</th>\n",
       "      <td>40630765</td>\n",
       "      <td>2016-03-22 09:11:01</td>\n",
       "      <td>2016-06-01 01:58:07</td>\n",
       "      <td>12.05</td>\n",
       "      <td>41974320</td>\n",
       "      <td>0</td>\n",
       "      <td>0</td>\n",
       "      <td>0</td>\n",
       "      <td>27</td>\n",
       "      <td>3924506326</td>\n",
       "      <td>0</td>\n",
       "      <td>ZZ</td>\n",
       "    </tr>\n",
       "    <tr>\n",
       "      <th>1</th>\n",
       "      <td>90517585</td>\n",
       "      <td>2016-05-17 14:45:10</td>\n",
       "      <td>2016-06-03 13:49:55</td>\n",
       "      <td>55.68</td>\n",
       "      <td>70879186</td>\n",
       "      <td>1</td>\n",
       "      <td>0</td>\n",
       "      <td>0</td>\n",
       "      <td>31</td>\n",
       "      <td>2432689644</td>\n",
       "      <td>0</td>\n",
       "      <td>CN</td>\n",
       "    </tr>\n",
       "    <tr>\n",
       "      <th>2</th>\n",
       "      <td>63383012</td>\n",
       "      <td>2016-09-02 14:15:02</td>\n",
       "      <td>2016-12-03 13:38:24</td>\n",
       "      <td>33.45</td>\n",
       "      <td>40697637</td>\n",
       "      <td>2</td>\n",
       "      <td>1</td>\n",
       "      <td>0</td>\n",
       "      <td>49</td>\n",
       "      <td>2093944038</td>\n",
       "      <td>0</td>\n",
       "      <td>CN</td>\n",
       "    </tr>\n",
       "    <tr>\n",
       "      <th>3</th>\n",
       "      <td>34695055</td>\n",
       "      <td>2016-08-03 01:51:47</td>\n",
       "      <td>2016-11-11 12:49:45</td>\n",
       "      <td>40.32</td>\n",
       "      <td>29544115</td>\n",
       "      <td>0</td>\n",
       "      <td>2</td>\n",
       "      <td>1</td>\n",
       "      <td>41</td>\n",
       "      <td>77751156</td>\n",
       "      <td>0</td>\n",
       "      <td>US</td>\n",
       "    </tr>\n",
       "    <tr>\n",
       "      <th>4</th>\n",
       "      <td>92152176</td>\n",
       "      <td>2016-07-17 04:58:30</td>\n",
       "      <td>2016-08-24 19:12:41</td>\n",
       "      <td>49.16</td>\n",
       "      <td>80967980</td>\n",
       "      <td>1</td>\n",
       "      <td>1</td>\n",
       "      <td>2</td>\n",
       "      <td>44</td>\n",
       "      <td>1520970714</td>\n",
       "      <td>0</td>\n",
       "      <td>ES</td>\n",
       "    </tr>\n",
       "  </tbody>\n",
       "</table>\n",
       "</div>"
      ],
      "text/plain": [
       "    user_id      signup_datetime             datetime  amount  device_id  \\\n",
       "0  40630765  2016-03-22 09:11:01  2016-06-01 01:58:07   12.05   41974320   \n",
       "1  90517585  2016-05-17 14:45:10  2016-06-03 13:49:55   55.68   70879186   \n",
       "2  63383012  2016-09-02 14:15:02  2016-12-03 13:38:24   33.45   40697637   \n",
       "3  34695055  2016-08-03 01:51:47  2016-11-11 12:49:45   40.32   29544115   \n",
       "4  92152176  2016-07-17 04:58:30  2016-08-24 19:12:41   49.16   80967980   \n",
       "\n",
       "   store  browser  sex  age  ip_address  fraud country  \n",
       "0      0        0    0   27  3924506326      0      ZZ  \n",
       "1      1        0    0   31  2432689644      0      CN  \n",
       "2      2        1    0   49  2093944038      0      CN  \n",
       "3      0        2    1   41    77751156      0      US  \n",
       "4      1        1    2   44  1520970714      0      ES  "
      ]
     },
     "execution_count": 8,
     "metadata": {},
     "output_type": "execute_result"
    }
   ],
   "source": [
    "fraud1.head()"
   ]
  },
  {
   "cell_type": "code",
   "execution_count": 9,
   "metadata": {},
   "outputs": [],
   "source": [
    "labels=fraud1['country'].astype('category').cat.categories.tolist()\n",
    "replace_map={'country':{k: v for k,v in zip(labels,list(range(1,len(labels)+1)))}}"
   ]
  },
  {
   "cell_type": "code",
   "execution_count": 10,
   "metadata": {},
   "outputs": [],
   "source": [
    "fraud1.replace(replace_map,inplace=True)\n",
    "fraud1['country'].fillna(0,inplace=True)"
   ]
  },
  {
   "cell_type": "markdown",
   "metadata": {},
   "source": [
    "## Under sampling"
   ]
  },
  {
   "cell_type": "code",
   "execution_count": 12,
   "metadata": {},
   "outputs": [
    {
     "data": {
      "text/plain": [
       "14043"
      ]
     },
     "execution_count": 12,
     "metadata": {},
     "output_type": "execute_result"
    }
   ],
   "source": [
    "len(fraud1[fraud1['fraud']==1])"
   ]
  },
  {
   "cell_type": "code",
   "execution_count": 12,
   "metadata": {},
   "outputs": [],
   "source": [
    "fraud_df=fraud1.loc[fraud1['fraud']==1]\n"
   ]
  },
  {
   "cell_type": "code",
   "execution_count": 13,
   "metadata": {},
   "outputs": [],
   "source": [
    "nonfraud_df=fraud1.loc[fraud1['fraud']==0].sample(n=14043,random_state=42)\n"
   ]
  },
  {
   "cell_type": "code",
   "execution_count": 14,
   "metadata": {},
   "outputs": [],
   "source": [
    "fraud2=pd.concat([fraud_df,nonfraud_df])"
   ]
  },
  {
   "cell_type": "code",
   "execution_count": 15,
   "metadata": {},
   "outputs": [
    {
     "data": {
      "text/plain": [
       "1    14043\n",
       "0    14043\n",
       "Name: fraud, dtype: int64"
      ]
     },
     "execution_count": 15,
     "metadata": {},
     "output_type": "execute_result"
    }
   ],
   "source": [
    "fraud2['fraud'].value_counts()"
   ]
  },
  {
   "cell_type": "markdown",
   "metadata": {},
   "source": [
    "## Modelling"
   ]
  },
  {
   "cell_type": "code",
   "execution_count": 16,
   "metadata": {},
   "outputs": [
    {
     "data": {
      "text/html": [
       "<div>\n",
       "<style scoped>\n",
       "    .dataframe tbody tr th:only-of-type {\n",
       "        vertical-align: middle;\n",
       "    }\n",
       "\n",
       "    .dataframe tbody tr th {\n",
       "        vertical-align: top;\n",
       "    }\n",
       "\n",
       "    .dataframe thead th {\n",
       "        text-align: right;\n",
       "    }\n",
       "</style>\n",
       "<table border=\"1\" class=\"dataframe\">\n",
       "  <thead>\n",
       "    <tr style=\"text-align: right;\">\n",
       "      <th></th>\n",
       "      <th>user_id</th>\n",
       "      <th>amount</th>\n",
       "      <th>device_id</th>\n",
       "      <th>store</th>\n",
       "      <th>browser</th>\n",
       "      <th>sex</th>\n",
       "      <th>age</th>\n",
       "      <th>ip_address</th>\n",
       "      <th>fraud</th>\n",
       "      <th>country</th>\n",
       "    </tr>\n",
       "  </thead>\n",
       "  <tbody>\n",
       "    <tr>\n",
       "      <th>16</th>\n",
       "      <td>8208463</td>\n",
       "      <td>28.01</td>\n",
       "      <td>19220930</td>\n",
       "      <td>2</td>\n",
       "      <td>1</td>\n",
       "      <td>1</td>\n",
       "      <td>29</td>\n",
       "      <td>2642967635</td>\n",
       "      <td>1</td>\n",
       "      <td>60.0</td>\n",
       "    </tr>\n",
       "    <tr>\n",
       "      <th>30</th>\n",
       "      <td>40941356</td>\n",
       "      <td>36.03</td>\n",
       "      <td>3208052</td>\n",
       "      <td>0</td>\n",
       "      <td>2</td>\n",
       "      <td>2</td>\n",
       "      <td>41</td>\n",
       "      <td>3426212580</td>\n",
       "      <td>1</td>\n",
       "      <td>180.0</td>\n",
       "    </tr>\n",
       "    <tr>\n",
       "      <th>45</th>\n",
       "      <td>39697648</td>\n",
       "      <td>9.19</td>\n",
       "      <td>12276401</td>\n",
       "      <td>1</td>\n",
       "      <td>0</td>\n",
       "      <td>0</td>\n",
       "      <td>36</td>\n",
       "      <td>3315175577</td>\n",
       "      <td>1</td>\n",
       "      <td>112.0</td>\n",
       "    </tr>\n",
       "    <tr>\n",
       "      <th>62</th>\n",
       "      <td>83725265</td>\n",
       "      <td>22.54</td>\n",
       "      <td>75109980</td>\n",
       "      <td>0</td>\n",
       "      <td>1</td>\n",
       "      <td>0</td>\n",
       "      <td>29</td>\n",
       "      <td>470897421</td>\n",
       "      <td>1</td>\n",
       "      <td>180.0</td>\n",
       "    </tr>\n",
       "    <tr>\n",
       "      <th>70</th>\n",
       "      <td>23442510</td>\n",
       "      <td>22.61</td>\n",
       "      <td>98021591</td>\n",
       "      <td>2</td>\n",
       "      <td>2</td>\n",
       "      <td>0</td>\n",
       "      <td>33</td>\n",
       "      <td>828416954</td>\n",
       "      <td>1</td>\n",
       "      <td>92.0</td>\n",
       "    </tr>\n",
       "  </tbody>\n",
       "</table>\n",
       "</div>"
      ],
      "text/plain": [
       "     user_id  amount  device_id  store  browser  sex  age  ip_address  fraud  \\\n",
       "16   8208463   28.01   19220930      2        1    1   29  2642967635      1   \n",
       "30  40941356   36.03    3208052      0        2    2   41  3426212580      1   \n",
       "45  39697648    9.19   12276401      1        0    0   36  3315175577      1   \n",
       "62  83725265   22.54   75109980      0        1    0   29   470897421      1   \n",
       "70  23442510   22.61   98021591      2        2    0   33   828416954      1   \n",
       "\n",
       "    country  \n",
       "16     60.0  \n",
       "30    180.0  \n",
       "45    112.0  \n",
       "62    180.0  \n",
       "70     92.0  "
      ]
     },
     "execution_count": 16,
     "metadata": {},
     "output_type": "execute_result"
    }
   ],
   "source": [
    "fraud2._get_numeric_data().head()"
   ]
  },
  {
   "cell_type": "code",
   "execution_count": 18,
   "metadata": {},
   "outputs": [
    {
     "data": {
      "text/plain": [
       "Index(['user_id', 'signup_datetime', 'datetime', 'amount', 'device_id',\n",
       "       'store', 'browser', 'sex', 'age', 'ip_address', 'fraud', 'country'],\n",
       "      dtype='object')"
      ]
     },
     "execution_count": 18,
     "metadata": {},
     "output_type": "execute_result"
    }
   ],
   "source": [
    "fraud2.columns"
   ]
  },
  {
   "cell_type": "code",
   "execution_count": 19,
   "metadata": {},
   "outputs": [
    {
     "data": {
      "text/html": [
       "<div>\n",
       "<style scoped>\n",
       "    .dataframe tbody tr th:only-of-type {\n",
       "        vertical-align: middle;\n",
       "    }\n",
       "\n",
       "    .dataframe tbody tr th {\n",
       "        vertical-align: top;\n",
       "    }\n",
       "\n",
       "    .dataframe thead th {\n",
       "        text-align: right;\n",
       "    }\n",
       "</style>\n",
       "<table border=\"1\" class=\"dataframe\">\n",
       "  <thead>\n",
       "    <tr style=\"text-align: right;\">\n",
       "      <th></th>\n",
       "      <th>index</th>\n",
       "      <th>user_id</th>\n",
       "      <th>signup_datetime</th>\n",
       "      <th>datetime</th>\n",
       "      <th>amount</th>\n",
       "      <th>device_id</th>\n",
       "      <th>store</th>\n",
       "      <th>browser</th>\n",
       "      <th>sex</th>\n",
       "      <th>age</th>\n",
       "      <th>ip_address</th>\n",
       "      <th>fraud</th>\n",
       "      <th>country</th>\n",
       "    </tr>\n",
       "  </thead>\n",
       "  <tbody>\n",
       "    <tr>\n",
       "      <th>0</th>\n",
       "      <td>16</td>\n",
       "      <td>8208463</td>\n",
       "      <td>2016-02-10 03:47:47</td>\n",
       "      <td>2016-02-10 03:47:48</td>\n",
       "      <td>28.01</td>\n",
       "      <td>19220930</td>\n",
       "      <td>2</td>\n",
       "      <td>1</td>\n",
       "      <td>1</td>\n",
       "      <td>29</td>\n",
       "      <td>2642967635</td>\n",
       "      <td>1</td>\n",
       "      <td>60.0</td>\n",
       "    </tr>\n",
       "    <tr>\n",
       "      <th>1</th>\n",
       "      <td>30</td>\n",
       "      <td>40941356</td>\n",
       "      <td>2016-09-07 21:55:12</td>\n",
       "      <td>2016-12-23 23:41:46</td>\n",
       "      <td>36.03</td>\n",
       "      <td>3208052</td>\n",
       "      <td>0</td>\n",
       "      <td>2</td>\n",
       "      <td>2</td>\n",
       "      <td>41</td>\n",
       "      <td>3426212580</td>\n",
       "      <td>1</td>\n",
       "      <td>180.0</td>\n",
       "    </tr>\n",
       "    <tr>\n",
       "      <th>2</th>\n",
       "      <td>45</td>\n",
       "      <td>39697648</td>\n",
       "      <td>2016-08-03 06:19:18</td>\n",
       "      <td>2016-11-10 22:31:46</td>\n",
       "      <td>9.19</td>\n",
       "      <td>12276401</td>\n",
       "      <td>1</td>\n",
       "      <td>0</td>\n",
       "      <td>0</td>\n",
       "      <td>36</td>\n",
       "      <td>3315175577</td>\n",
       "      <td>1</td>\n",
       "      <td>112.0</td>\n",
       "    </tr>\n",
       "    <tr>\n",
       "      <th>3</th>\n",
       "      <td>62</td>\n",
       "      <td>83725265</td>\n",
       "      <td>2016-02-19 13:34:03</td>\n",
       "      <td>2016-02-19 13:34:04</td>\n",
       "      <td>22.54</td>\n",
       "      <td>75109980</td>\n",
       "      <td>0</td>\n",
       "      <td>1</td>\n",
       "      <td>0</td>\n",
       "      <td>29</td>\n",
       "      <td>470897421</td>\n",
       "      <td>1</td>\n",
       "      <td>180.0</td>\n",
       "    </tr>\n",
       "    <tr>\n",
       "      <th>4</th>\n",
       "      <td>70</td>\n",
       "      <td>23442510</td>\n",
       "      <td>2016-02-14 00:24:50</td>\n",
       "      <td>2016-02-14 00:24:51</td>\n",
       "      <td>22.61</td>\n",
       "      <td>98021591</td>\n",
       "      <td>2</td>\n",
       "      <td>2</td>\n",
       "      <td>0</td>\n",
       "      <td>33</td>\n",
       "      <td>828416954</td>\n",
       "      <td>1</td>\n",
       "      <td>92.0</td>\n",
       "    </tr>\n",
       "    <tr>\n",
       "      <th>...</th>\n",
       "      <td>...</td>\n",
       "      <td>...</td>\n",
       "      <td>...</td>\n",
       "      <td>...</td>\n",
       "      <td>...</td>\n",
       "      <td>...</td>\n",
       "      <td>...</td>\n",
       "      <td>...</td>\n",
       "      <td>...</td>\n",
       "      <td>...</td>\n",
       "      <td>...</td>\n",
       "      <td>...</td>\n",
       "      <td>...</td>\n",
       "    </tr>\n",
       "    <tr>\n",
       "      <th>28081</th>\n",
       "      <td>116703</td>\n",
       "      <td>54725560</td>\n",
       "      <td>2016-06-06 18:08:02</td>\n",
       "      <td>2016-10-03 06:18:13</td>\n",
       "      <td>30.54</td>\n",
       "      <td>46379730</td>\n",
       "      <td>0</td>\n",
       "      <td>0</td>\n",
       "      <td>0</td>\n",
       "      <td>39</td>\n",
       "      <td>461418968</td>\n",
       "      <td>0</td>\n",
       "      <td>37.0</td>\n",
       "    </tr>\n",
       "    <tr>\n",
       "      <th>28082</th>\n",
       "      <td>117268</td>\n",
       "      <td>2480929</td>\n",
       "      <td>2016-04-24 00:25:06</td>\n",
       "      <td>2016-08-08 17:57:43</td>\n",
       "      <td>37.33</td>\n",
       "      <td>56439324</td>\n",
       "      <td>2</td>\n",
       "      <td>1</td>\n",
       "      <td>2</td>\n",
       "      <td>34</td>\n",
       "      <td>3005731004</td>\n",
       "      <td>0</td>\n",
       "      <td>7.0</td>\n",
       "    </tr>\n",
       "    <tr>\n",
       "      <th>28083</th>\n",
       "      <td>106573</td>\n",
       "      <td>62747697</td>\n",
       "      <td>2016-03-15 23:21:35</td>\n",
       "      <td>2016-03-26 10:16:37</td>\n",
       "      <td>12.80</td>\n",
       "      <td>28701480</td>\n",
       "      <td>0</td>\n",
       "      <td>3</td>\n",
       "      <td>2</td>\n",
       "      <td>28</td>\n",
       "      <td>1827122023</td>\n",
       "      <td>0</td>\n",
       "      <td>180.0</td>\n",
       "    </tr>\n",
       "    <tr>\n",
       "      <th>28084</th>\n",
       "      <td>101585</td>\n",
       "      <td>29686556</td>\n",
       "      <td>2016-08-27 03:18:00</td>\n",
       "      <td>2016-10-31 15:07:55</td>\n",
       "      <td>31.26</td>\n",
       "      <td>36332159</td>\n",
       "      <td>0</td>\n",
       "      <td>1</td>\n",
       "      <td>0</td>\n",
       "      <td>38</td>\n",
       "      <td>3752736099</td>\n",
       "      <td>0</td>\n",
       "      <td>98.0</td>\n",
       "    </tr>\n",
       "    <tr>\n",
       "      <th>28085</th>\n",
       "      <td>43695</td>\n",
       "      <td>44996440</td>\n",
       "      <td>2016-07-17 14:00:08</td>\n",
       "      <td>2016-10-19 04:28:08</td>\n",
       "      <td>39.87</td>\n",
       "      <td>1786110</td>\n",
       "      <td>0</td>\n",
       "      <td>1</td>\n",
       "      <td>2</td>\n",
       "      <td>22</td>\n",
       "      <td>614987593</td>\n",
       "      <td>0</td>\n",
       "      <td>37.0</td>\n",
       "    </tr>\n",
       "  </tbody>\n",
       "</table>\n",
       "<p>28086 rows × 13 columns</p>\n",
       "</div>"
      ],
      "text/plain": [
       "        index   user_id      signup_datetime             datetime  amount  \\\n",
       "0          16   8208463  2016-02-10 03:47:47  2016-02-10 03:47:48   28.01   \n",
       "1          30  40941356  2016-09-07 21:55:12  2016-12-23 23:41:46   36.03   \n",
       "2          45  39697648  2016-08-03 06:19:18  2016-11-10 22:31:46    9.19   \n",
       "3          62  83725265  2016-02-19 13:34:03  2016-02-19 13:34:04   22.54   \n",
       "4          70  23442510  2016-02-14 00:24:50  2016-02-14 00:24:51   22.61   \n",
       "...       ...       ...                  ...                  ...     ...   \n",
       "28081  116703  54725560  2016-06-06 18:08:02  2016-10-03 06:18:13   30.54   \n",
       "28082  117268   2480929  2016-04-24 00:25:06  2016-08-08 17:57:43   37.33   \n",
       "28083  106573  62747697  2016-03-15 23:21:35  2016-03-26 10:16:37   12.80   \n",
       "28084  101585  29686556  2016-08-27 03:18:00  2016-10-31 15:07:55   31.26   \n",
       "28085   43695  44996440  2016-07-17 14:00:08  2016-10-19 04:28:08   39.87   \n",
       "\n",
       "       device_id  store  browser  sex  age  ip_address  fraud  country  \n",
       "0       19220930      2        1    1   29  2642967635      1     60.0  \n",
       "1        3208052      0        2    2   41  3426212580      1    180.0  \n",
       "2       12276401      1        0    0   36  3315175577      1    112.0  \n",
       "3       75109980      0        1    0   29   470897421      1    180.0  \n",
       "4       98021591      2        2    0   33   828416954      1     92.0  \n",
       "...          ...    ...      ...  ...  ...         ...    ...      ...  \n",
       "28081   46379730      0        0    0   39   461418968      0     37.0  \n",
       "28082   56439324      2        1    2   34  3005731004      0      7.0  \n",
       "28083   28701480      0        3    2   28  1827122023      0    180.0  \n",
       "28084   36332159      0        1    0   38  3752736099      0     98.0  \n",
       "28085    1786110      0        1    2   22   614987593      0     37.0  \n",
       "\n",
       "[28086 rows x 13 columns]"
      ]
     },
     "execution_count": 19,
     "metadata": {},
     "output_type": "execute_result"
    }
   ],
   "source": [
    "fraud2.reset_index(inplace=False)"
   ]
  },
  {
   "cell_type": "code",
   "execution_count": 27,
   "metadata": {},
   "outputs": [],
   "source": [
    "features=['user_id','amount', 'device_id','store', 'browser', 'sex', 'age', 'country']"
   ]
  },
  {
   "cell_type": "code",
   "execution_count": 21,
   "metadata": {},
   "outputs": [],
   "source": [
    "X=fraud2[features]\n",
    "y=fraud2['fraud']"
   ]
  },
  {
   "cell_type": "code",
   "execution_count": 31,
   "metadata": {},
   "outputs": [],
   "source": [
    "from sklearn.ensemble import RandomForestClassifier, AdaBoostClassifier\n",
    "from sklearn.neighbors import KNeighborsClassifier\n",
    "from sklearn.tree import DecisionTreeClassifier\n",
    "from sklearn.model_selection import GridSearchCV,RandomizedSearchCV\n",
    "from sklearn.naive_bayes import MultinomialNB, BernoulliNB\n",
    "from sklearn import svm\n",
    "from sklearn.model_selection import cross_val_score, train_test_split\n",
    "from sklearn.metrics import precision_score, recall_score, f1_score,make_scorer,confusion_matrix\n",
    "from sklearn.model_selection import RandomizedSearchCV\n",
    " "
   ]
  },
  {
   "cell_type": "code",
   "execution_count": 32,
   "metadata": {},
   "outputs": [],
   "source": [
    "from sklearn.preprocessing import LabelEncoder\n",
    "from sklearn.linear_model import LinearRegression\n",
    "from sklearn.linear_model import LogisticRegression\n",
    "from sklearn.tree import DecisionTreeRegressor\n",
    "from sklearn.ensemble import RandomForestRegressor\n",
    "import xgboost as xgb\n",
    "from sklearn.model_selection import train_test_split\n",
    "from sklearn.metrics import r2_score\n",
    "from sklearn.metrics import mean_absolute_error\n",
    "from sklearn.metrics import mean_squared_error\n",
    "from sklearn.metrics import classification_report"
   ]
  },
  {
   "cell_type": "code",
   "execution_count": 269,
   "metadata": {},
   "outputs": [],
   "source": [
    "X_train,X_test,y_train,y_test = train_test_split(X,y,test_size=0.33,stratify=y)"
   ]
  },
  {
   "cell_type": "code",
   "execution_count": 274,
   "metadata": {},
   "outputs": [
    {
     "data": {
      "text/plain": [
       "user_id   amount  device_id  store  browser  sex  age  country\n",
       "99997555  44.20   81234050   1      3        2    34   37.0       1\n",
       "33319958  52.82   6908923    0      1        2    23   180.0      1\n",
       "33242543  38.25   9158721    1      1        2    41   180.0      1\n",
       "33242725  43.24   67925095   0      1        2    27   180.0      1\n",
       "33243664  45.52   59451888   2      1        2    35   98.0       1\n",
       "                                                                 ..\n",
       "66135776  52.04   66398937   1      1        2    43   180.0      1\n",
       "66136083  40.18   93360126   0      1        2    39   180.0      1\n",
       "66142683  40.31   9976882    0      1        2    25   45.0       1\n",
       "66143378  42.02   97887196   0      3        1    21   7.0        1\n",
       "9726      15.09   18177065   0      0        2    40   194.0      1\n",
       "Length: 18817, dtype: int64"
      ]
     },
     "execution_count": 274,
     "metadata": {},
     "output_type": "execute_result"
    }
   ],
   "source": [
    "X_train.value_counts()\n",
    "#X_test.value_counts()"
   ]
  },
  {
   "cell_type": "code",
   "execution_count": 38,
   "metadata": {},
   "outputs": [],
   "source": [
    "def model_performance(y_test, model):    \n",
    "    rf_cm_te = confusion_matrix(y_test,model)\n",
    "    print(rf_cm_te)\n",
    "    print(\"Precision:\",precision_score(y_test,model))\n",
    "    print(\"Recall\",recall_score(y_test,model))\n",
    "    print(\"Fl-Score\",f1_score(y_test,model))\n",
    "    \n",
    "    print('---------------------Test---------------------')\n",
    "    print(classification_report(y_test,model))\n",
    "    \n",
    "    #Confusion Matrix\n",
    "    \n",
    "    class_names=[0,1] # name  of classes\n",
    "    fig, ax = plt.subplots()\n",
    "    tick_marks = np.arange(len(class_names))\n",
    "    plt.xticks(tick_marks, class_names)\n",
    "    plt.yticks(tick_marks, class_names)\n",
    "    # create heatmap\n",
    "    sns.heatmap(pd.DataFrame(rf_cm_te), annot=True, cmap=\"YlGnBu\" ,fmt='g')\n",
    "    ax.xaxis.set_label_position(\"top\")\n",
    "    plt.tight_layout()\n",
    "    plt.title('Test Confusion matrix', y=1.1)\n",
    "    plt.ylabel('Actual label')\n",
    "    plt.xlabel('Predicted label')\n",
    "    \n",
    "    \n",
    "    \n",
    "     "
   ]
  },
  {
   "cell_type": "code",
   "execution_count": 43,
   "metadata": {},
   "outputs": [],
   "source": [
    "#set no of trees\n",
    "nestimators=[int(x) for x in np.linspace(start=100,stop=1000,num=10)]\n",
    "#Max features at every split\n",
    "max_ft=['auto','sqrt','log2']\n",
    "#max no of levels in each tree\n",
    "max_dep=[int(x) for x in np.linspace(start=5,stop=30,num=6)]\n",
    "#min no of sample to split a node\n",
    "min_samples_split=[2,5,10,15,100]\n",
    "\n",
    "#min no of sample to consider at each node\n",
    "min_sample_leaf=[1,2,5,10]"
   ]
  },
  {
   "cell_type": "code",
   "execution_count": 49,
   "metadata": {},
   "outputs": [],
   "source": [
    "tree_param={\n",
    "    #'max_features':max_ft,\n",
    "    'max_depth':max_dep,\n",
    "    'min_samples_split':min_samples_split,\n",
    "    'min_samples_leaf':min_sample_leaf\n",
    "}"
   ]
  },
  {
   "cell_type": "markdown",
   "metadata": {},
   "source": [
    "## Logistic Regression"
   ]
  },
  {
   "cell_type": "code",
   "execution_count": 281,
   "metadata": {},
   "outputs": [],
   "source": [
    "logreg2 = LogisticRegression(solver = 'lbfgs')\n",
    "\n",
    "# fit the model with data\n",
    "logreg2.fit(X_train,y_train.values.ravel())\n",
    "\n",
    "#\n",
    "y_pred=logreg2.predict(X_test)\n"
   ]
  },
  {
   "cell_type": "code",
   "execution_count": 282,
   "metadata": {},
   "outputs": [
    {
     "data": {
      "text/plain": [
       "<AxesSubplot:xlabel='fraud'>"
      ]
     },
     "execution_count": 282,
     "metadata": {},
     "output_type": "execute_result"
    },
    {
     "data": {
      "image/png": "[encoded data removed]",
      "text/plain": [
       "<Figure size 432x288 with 1 Axes>"
      ]
     },
     "metadata": {
      "needs_background": "light"
     },
     "output_type": "display_data"
    }
   ],
   "source": [
    "sns.distplot(y_test-y_pred)"
   ]
  },
  {
   "cell_type": "code",
   "execution_count": 283,
   "metadata": {},
   "outputs": [
    {
     "name": "stdout",
     "output_type": "stream",
     "text": [
      "[[1400 3235]\n",
      " [1382 3252]]\n",
      "Precision: 0.5013103129335594\n",
      "Recall 0.7017695295640914\n",
      "Fl-Score 0.5848394928513623\n",
      "---------------------Test---------------------\n",
      "              precision    recall  f1-score   support\n",
      "\n",
      "           0       0.50      0.30      0.38      4635\n",
      "           1       0.50      0.70      0.58      4634\n",
      "\n",
      "    accuracy                           0.50      9269\n",
      "   macro avg       0.50      0.50      0.48      9269\n",
      "weighted avg       0.50      0.50      0.48      9269\n",
      "\n"
     ]
    },
    {
     "data": {
      "image/png": "[encoded data removed]",
      "text/plain": [
       "<Figure size 432x288 with 2 Axes>"
      ]
     },
     "metadata": {
      "needs_background": "light"
     },
     "output_type": "display_data"
    }
   ],
   "source": [
    "model_performance(y_test,tree_p)"
   ]
  },
  {
   "cell_type": "markdown",
   "metadata": {},
   "source": [
    "### Decision Tree"
   ]
  },
  {
   "cell_type": "code",
   "execution_count": 257,
   "metadata": {},
   "outputs": [],
   "source": [
    "tree=DecisionTreeClassifier()\n"
   ]
  },
  {
   "cell_type": "code",
   "execution_count": 258,
   "metadata": {},
   "outputs": [],
   "source": [
    "tree_rand=RandomizedSearchCV(estimator=tree,param_distributions=tree_param,n_jobs=1,n_iter=10,cv=5,verbose=2,random_state=0)"
   ]
  },
  {
   "cell_type": "code",
   "execution_count": 259,
   "metadata": {},
   "outputs": [
    {
     "name": "stdout",
     "output_type": "stream",
     "text": [
      "Fitting 5 folds for each of 10 candidates, totalling 50 fits\n",
      "[CV] min_samples_split=5, min_samples_leaf=2, max_features=auto, max_depth=5 \n",
      "[CV]  min_samples_split=5, min_samples_leaf=2, max_features=auto, max_depth=5, total=   0.0s\n",
      "[CV] min_samples_split=5, min_samples_leaf=2, max_features=auto, max_depth=5 \n",
      "[CV]  min_samples_split=5, min_samples_leaf=2, max_features=auto, max_depth=5, total=   0.0s\n",
      "[CV] min_samples_split=5, min_samples_leaf=2, max_features=auto, max_depth=5 \n",
      "[CV]  min_samples_split=5, min_samples_leaf=2, max_features=auto, max_depth=5, total=   0.0s\n",
      "[CV] min_samples_split=5, min_samples_leaf=2, max_features=auto, max_depth=5 \n",
      "[CV]  min_samples_split=5, min_samples_leaf=2, max_features=auto, max_depth=5, total=   0.0s\n",
      "[CV] min_samples_split=5, min_samples_leaf=2, max_features=auto, max_depth=5 \n",
      "[CV]  min_samples_split=5, min_samples_leaf=2, max_features=auto, max_depth=5, total=   0.0s\n",
      "[CV] min_samples_split=15, min_samples_leaf=1, max_features=log2, max_depth=20 \n"
     ]
    },
    {
     "name": "stderr",
     "output_type": "stream",
     "text": [
      "[Parallel(n_jobs=1)]: Using backend SequentialBackend with 1 concurrent workers.\n",
      "[Parallel(n_jobs=1)]: Done   1 out of   1 | elapsed:    0.0s remaining:    0.0s\n"
     ]
    },
    {
     "name": "stdout",
     "output_type": "stream",
     "text": [
      "[CV]  min_samples_split=15, min_samples_leaf=1, max_features=log2, max_depth=20, total=   0.1s\n",
      "[CV] min_samples_split=15, min_samples_leaf=1, max_features=log2, max_depth=20 \n",
      "[CV]  min_samples_split=15, min_samples_leaf=1, max_features=log2, max_depth=20, total=   0.1s\n",
      "[CV] min_samples_split=15, min_samples_leaf=1, max_features=log2, max_depth=20 \n",
      "[CV]  min_samples_split=15, min_samples_leaf=1, max_features=log2, max_depth=20, total=   0.1s\n",
      "[CV] min_samples_split=15, min_samples_leaf=1, max_features=log2, max_depth=20 \n",
      "[CV]  min_samples_split=15, min_samples_leaf=1, max_features=log2, max_depth=20, total=   0.1s\n",
      "[CV] min_samples_split=15, min_samples_leaf=1, max_features=log2, max_depth=20 \n",
      "[CV]  min_samples_split=15, min_samples_leaf=1, max_features=log2, max_depth=20, total=   0.1s\n",
      "[CV] min_samples_split=5, min_samples_leaf=2, max_features=log2, max_depth=10 \n",
      "[CV]  min_samples_split=5, min_samples_leaf=2, max_features=log2, max_depth=10, total=   0.1s\n",
      "[CV] min_samples_split=5, min_samples_leaf=2, max_features=log2, max_depth=10 \n",
      "[CV]  min_samples_split=5, min_samples_leaf=2, max_features=log2, max_depth=10, total=   0.1s\n",
      "[CV] min_samples_split=5, min_samples_leaf=2, max_features=log2, max_depth=10 \n",
      "[CV]  min_samples_split=5, min_samples_leaf=2, max_features=log2, max_depth=10, total=   0.1s\n",
      "[CV] min_samples_split=5, min_samples_leaf=2, max_features=log2, max_depth=10 \n",
      "[CV]  min_samples_split=5, min_samples_leaf=2, max_features=log2, max_depth=10, total=   0.1s\n",
      "[CV] min_samples_split=5, min_samples_leaf=2, max_features=log2, max_depth=10 \n",
      "[CV]  min_samples_split=5, min_samples_leaf=2, max_features=log2, max_depth=10, total=   0.1s\n",
      "[CV] min_samples_split=5, min_samples_leaf=10, max_features=sqrt, max_depth=20 \n",
      "[CV]  min_samples_split=5, min_samples_leaf=10, max_features=sqrt, max_depth=20, total=   0.1s\n",
      "[CV] min_samples_split=5, min_samples_leaf=10, max_features=sqrt, max_depth=20 \n",
      "[CV]  min_samples_split=5, min_samples_leaf=10, max_features=sqrt, max_depth=20, total=   0.1s\n",
      "[CV] min_samples_split=5, min_samples_leaf=10, max_features=sqrt, max_depth=20 \n",
      "[CV]  min_samples_split=5, min_samples_leaf=10, max_features=sqrt, max_depth=20, total=   0.0s\n",
      "[CV] min_samples_split=5, min_samples_leaf=10, max_features=sqrt, max_depth=20 \n",
      "[CV]  min_samples_split=5, min_samples_leaf=10, max_features=sqrt, max_depth=20, total=   0.1s\n",
      "[CV] min_samples_split=5, min_samples_leaf=10, max_features=sqrt, max_depth=20 \n",
      "[CV]  min_samples_split=5, min_samples_leaf=10, max_features=sqrt, max_depth=20, total=   0.1s\n",
      "[CV] min_samples_split=2, min_samples_leaf=5, max_features=sqrt, max_depth=10 \n",
      "[CV]  min_samples_split=2, min_samples_leaf=5, max_features=sqrt, max_depth=10, total=   0.0s\n",
      "[CV] min_samples_split=2, min_samples_leaf=5, max_features=sqrt, max_depth=10 \n",
      "[CV]  min_samples_split=2, min_samples_leaf=5, max_features=sqrt, max_depth=10, total=   0.0s\n",
      "[CV] min_samples_split=2, min_samples_leaf=5, max_features=sqrt, max_depth=10 \n",
      "[CV]  min_samples_split=2, min_samples_leaf=5, max_features=sqrt, max_depth=10, total=   0.0s\n",
      "[CV] min_samples_split=2, min_samples_leaf=5, max_features=sqrt, max_depth=10 \n",
      "[CV]  min_samples_split=2, min_samples_leaf=5, max_features=sqrt, max_depth=10, total=   0.0s\n",
      "[CV] min_samples_split=2, min_samples_leaf=5, max_features=sqrt, max_depth=10 \n",
      "[CV]  min_samples_split=2, min_samples_leaf=5, max_features=sqrt, max_depth=10, total=   0.0s\n",
      "[CV] min_samples_split=5, min_samples_leaf=10, max_features=log2, max_depth=10 \n",
      "[CV]  min_samples_split=5, min_samples_leaf=10, max_features=log2, max_depth=10, total=   0.1s\n",
      "[CV] min_samples_split=5, min_samples_leaf=10, max_features=log2, max_depth=10 \n",
      "[CV]  min_samples_split=5, min_samples_leaf=10, max_features=log2, max_depth=10, total=   0.1s\n",
      "[CV] min_samples_split=5, min_samples_leaf=10, max_features=log2, max_depth=10 \n",
      "[CV]  min_samples_split=5, min_samples_leaf=10, max_features=log2, max_depth=10, total=   0.1s\n",
      "[CV] min_samples_split=5, min_samples_leaf=10, max_features=log2, max_depth=10 \n",
      "[CV]  min_samples_split=5, min_samples_leaf=10, max_features=log2, max_depth=10, total=   0.1s\n",
      "[CV] min_samples_split=5, min_samples_leaf=10, max_features=log2, max_depth=10 \n",
      "[CV]  min_samples_split=5, min_samples_leaf=10, max_features=log2, max_depth=10, total=   0.1s\n",
      "[CV] min_samples_split=10, min_samples_leaf=5, max_features=log2, max_depth=20 \n",
      "[CV]  min_samples_split=10, min_samples_leaf=5, max_features=log2, max_depth=20, total=   0.1s\n",
      "[CV] min_samples_split=10, min_samples_leaf=5, max_features=log2, max_depth=20 \n",
      "[CV]  min_samples_split=10, min_samples_leaf=5, max_features=log2, max_depth=20, total=   0.1s\n",
      "[CV] min_samples_split=10, min_samples_leaf=5, max_features=log2, max_depth=20 \n",
      "[CV]  min_samples_split=10, min_samples_leaf=5, max_features=log2, max_depth=20, total=   0.1s\n",
      "[CV] min_samples_split=10, min_samples_leaf=5, max_features=log2, max_depth=20 \n",
      "[CV]  min_samples_split=10, min_samples_leaf=5, max_features=log2, max_depth=20, total=   0.1s\n",
      "[CV] min_samples_split=10, min_samples_leaf=5, max_features=log2, max_depth=20 \n",
      "[CV]  min_samples_split=10, min_samples_leaf=5, max_features=log2, max_depth=20, total=   0.1s\n",
      "[CV] min_samples_split=2, min_samples_leaf=1, max_features=auto, max_depth=10 \n",
      "[CV]  min_samples_split=2, min_samples_leaf=1, max_features=auto, max_depth=10, total=   0.0s\n",
      "[CV] min_samples_split=2, min_samples_leaf=1, max_features=auto, max_depth=10 \n",
      "[CV]  min_samples_split=2, min_samples_leaf=1, max_features=auto, max_depth=10, total=   0.0s\n",
      "[CV] min_samples_split=2, min_samples_leaf=1, max_features=auto, max_depth=10 \n",
      "[CV]  min_samples_split=2, min_samples_leaf=1, max_features=auto, max_depth=10, total=   0.0s\n",
      "[CV] min_samples_split=2, min_samples_leaf=1, max_features=auto, max_depth=10 \n",
      "[CV]  min_samples_split=2, min_samples_leaf=1, max_features=auto, max_depth=10, total=   0.1s\n",
      "[CV] min_samples_split=2, min_samples_leaf=1, max_features=auto, max_depth=10 \n",
      "[CV]  min_samples_split=2, min_samples_leaf=1, max_features=auto, max_depth=10, total=   0.1s\n",
      "[CV] min_samples_split=10, min_samples_leaf=10, max_features=sqrt, max_depth=5 \n",
      "[CV]  min_samples_split=10, min_samples_leaf=10, max_features=sqrt, max_depth=5, total=   0.0s\n",
      "[CV] min_samples_split=10, min_samples_leaf=10, max_features=sqrt, max_depth=5 \n",
      "[CV]  min_samples_split=10, min_samples_leaf=10, max_features=sqrt, max_depth=5, total=   0.0s\n",
      "[CV] min_samples_split=10, min_samples_leaf=10, max_features=sqrt, max_depth=5 \n",
      "[CV]  min_samples_split=10, min_samples_leaf=10, max_features=sqrt, max_depth=5, total=   0.0s\n",
      "[CV] min_samples_split=10, min_samples_leaf=10, max_features=sqrt, max_depth=5 \n",
      "[CV]  min_samples_split=10, min_samples_leaf=10, max_features=sqrt, max_depth=5, total=   0.0s\n",
      "[CV] min_samples_split=10, min_samples_leaf=10, max_features=sqrt, max_depth=5 \n",
      "[CV]  min_samples_split=10, min_samples_leaf=10, max_features=sqrt, max_depth=5, total=   0.0s\n",
      "[CV] min_samples_split=2, min_samples_leaf=1, max_features=auto, max_depth=15 \n",
      "[CV]  min_samples_split=2, min_samples_leaf=1, max_features=auto, max_depth=15, total=   0.1s\n",
      "[CV] min_samples_split=2, min_samples_leaf=1, max_features=auto, max_depth=15 \n",
      "[CV]  min_samples_split=2, min_samples_leaf=1, max_features=auto, max_depth=15, total=   0.0s\n",
      "[CV] min_samples_split=2, min_samples_leaf=1, max_features=auto, max_depth=15 \n",
      "[CV]  min_samples_split=2, min_samples_leaf=1, max_features=auto, max_depth=15, total=   0.1s\n",
      "[CV] min_samples_split=2, min_samples_leaf=1, max_features=auto, max_depth=15 \n",
      "[CV]  min_samples_split=2, min_samples_leaf=1, max_features=auto, max_depth=15, total=   0.1s\n",
      "[CV] min_samples_split=2, min_samples_leaf=1, max_features=auto, max_depth=15 \n",
      "[CV]  min_samples_split=2, min_samples_leaf=1, max_features=auto, max_depth=15, total=   0.1s\n"
     ]
    },
    {
     "name": "stderr",
     "output_type": "stream",
     "text": [
      "[Parallel(n_jobs=1)]: Done  50 out of  50 | elapsed:    2.9s finished\n"
     ]
    },
    {
     "data": {
      "text/plain": [
       "RandomizedSearchCV(cv=5, error_score='raise-deprecating',\n",
       "                   estimator=DecisionTreeClassifier(class_weight=None,\n",
       "                                                    criterion='gini',\n",
       "                                                    max_depth=None,\n",
       "                                                    max_features=None,\n",
       "                                                    max_leaf_nodes=None,\n",
       "                                                    min_impurity_decrease=0.0,\n",
       "                                                    min_impurity_split=None,\n",
       "                                                    min_samples_leaf=1,\n",
       "                                                    min_samples_split=2,\n",
       "                                                    min_weight_fraction_leaf=0.0,\n",
       "                                                    presort=False,\n",
       "                                                    random_state=None,\n",
       "                                                    splitter='best'),\n",
       "                   iid='warn', n_iter=10, n_jobs=1,\n",
       "                   param_distributions={'max_depth': [5, 10, 15, 20, 25, 30],\n",
       "                                        'max_features': ['auto', 'sqrt',\n",
       "                                                         'log2'],\n",
       "                                        'min_samples_leaf': [1, 2, 5, 10],\n",
       "                                        'min_samples_split': [2, 5, 10, 15,\n",
       "                                                              100]},\n",
       "                   pre_dispatch='2*n_jobs', random_state=0, refit=True,\n",
       "                   return_train_score=False, scoring=None, verbose=2)"
      ]
     },
     "execution_count": 259,
     "metadata": {},
     "output_type": "execute_result"
    }
   ],
   "source": [
    "tree_rand.fit(X_train,y_train)"
   ]
  },
  {
   "cell_type": "code",
   "execution_count": 260,
   "metadata": {},
   "outputs": [],
   "source": [
    "tree_p=tree_rand.predict(X_test)"
   ]
  },
  {
   "cell_type": "code",
   "execution_count": 261,
   "metadata": {},
   "outputs": [
    {
     "data": {
      "text/plain": [
       "<AxesSubplot:xlabel='fraud'>"
      ]
     },
     "execution_count": 261,
     "metadata": {},
     "output_type": "execute_result"
    },
    {
     "data": {
      "image/png": "[encoded data removed]",
      "text/plain": [
       "<Figure size 432x288 with 1 Axes>"
      ]
     },
     "metadata": {
      "needs_background": "light"
     },
     "output_type": "display_data"
    }
   ],
   "source": [
    "sns.distplot(y_test-tree_p)"
   ]
  },
  {
   "cell_type": "code",
   "execution_count": 264,
   "metadata": {},
   "outputs": [
    {
     "name": "stdout",
     "output_type": "stream",
     "text": [
      "[[1706 2929]\n",
      " [1076 3558]]\n",
      "---------------------Test---------------------\n",
      "              precision    recall  f1-score   support\n",
      "\n",
      "           0       0.61      0.37      0.46      4635\n",
      "           1       0.55      0.77      0.64      4634\n",
      "\n",
      "    accuracy                           0.57      9269\n",
      "   macro avg       0.58      0.57      0.55      9269\n",
      "weighted avg       0.58      0.57      0.55      9269\n",
      "\n"
     ]
    },
    {
     "data": {
      "image/png": "[encoded data removed]",
      "text/plain": [
       "<Figure size 432x288 with 2 Axes>"
      ]
     },
     "metadata": {
      "needs_background": "light"
     },
     "output_type": "display_data"
    }
   ],
   "source": [
    "model_performance(y_test,tree_p)"
   ]
  },
  {
   "cell_type": "markdown",
   "metadata": {},
   "source": [
    "## Random Forest"
   ]
  },
  {
   "cell_type": "code",
   "execution_count": 285,
   "metadata": {},
   "outputs": [
    {
     "name": "stdout",
     "output_type": "stream",
     "text": [
      "RF with default estimators and max_depth\n",
      "Precision: 0.6781029263370333\n",
      "Recall 0.5800604229607251\n",
      "Fl-Score 0.625261688764829\n",
      "Confusion Matrix [[3359 1276]\n",
      " [1946 2688]]\n"
     ]
    }
   ],
   "source": [
    "rf = RandomForestClassifier(n_estimators=10) \n",
    "rf.fit(X_train,y_train)\n",
    "rf_preds= rf.predict(X_test)\n",
    "print(\"RF with default estimators and max_depth\")\n",
    "print(\"Precision:\",precision_score(y_test,rf_preds))\n",
    "print(\"Recall\",recall_score(y_test,rf_preds))\n",
    "print(\"Fl-Score\",f1_score(y_test,rf_preds));\n",
    "print(\"Confusion Matrix\",confusion_matrix(y_test,rf_preds))"
   ]
  },
  {
   "cell_type": "code",
   "execution_count": 287,
   "metadata": {},
   "outputs": [
    {
     "name": "stdout",
     "output_type": "stream",
     "text": [
      "RF with 50 estimators  and max_depth of 20 and min_sample_split 2\n",
      "Precision: 0.6739670354481825\n",
      "Recall 0.6441519205869659\n",
      "Fl-Score 0.6587222773915922\n",
      "RF with 50 estimators  and max_depth of 20 and min_sample_split 5\n",
      "Precision: 0.6760854583046175\n",
      "Recall 0.6350884764782045\n",
      "Fl-Score 0.6549460331590076\n",
      "RF with 50 estimators  and max_depth of 30 and min_sample_split 2\n",
      "Precision: 0.6737540009144948\n",
      "Recall 0.6359516616314199\n",
      "Fl-Score 0.6543072824156306\n",
      "RF with 50 estimators  and max_depth of 30 and min_sample_split 5\n",
      "Precision: 0.678793460741423\n",
      "Recall 0.6361674579197237\n",
      "Fl-Score 0.6567895733541271\n",
      "RF with 100 estimators  and max_depth of 20 and min_sample_split 2\n",
      "Precision: 0.6875868457619269\n",
      "Recall 0.6406991799741044\n",
      "Fl-Score 0.6633154602323502\n",
      "RF with 100 estimators  and max_depth of 20 and min_sample_split 5\n",
      "Precision: 0.6877037727061015\n",
      "Recall 0.637246439361243\n",
      "Fl-Score 0.6615143369175628\n",
      "RF with 100 estimators  and max_depth of 30 and min_sample_split 2\n",
      "Precision: 0.6977347805568664\n",
      "Recall 0.6381096245144584\n",
      "Fl-Score 0.6665915238954013\n",
      "RF with 100 estimators  and max_depth of 30 and min_sample_split 5\n",
      "Precision: 0.6899573661771672\n",
      "Recall 0.6286145878290893\n",
      "Fl-Score 0.6578590785907859\n",
      "RF with 150 estimators  and max_depth of 20 and min_sample_split 2\n",
      "Precision: 0.6840277777777778\n",
      "Recall 0.6376780319378507\n",
      "Fl-Score 0.660040205494751\n",
      "RF with 150 estimators  and max_depth of 20 and min_sample_split 5\n",
      "Precision: 0.6892707849512308\n",
      "Recall 0.6404833836858006\n",
      "Fl-Score 0.6639821029082774\n",
      "RF with 150 estimators  and max_depth of 30 and min_sample_split 2\n",
      "Precision: 0.6966185859541263\n",
      "Recall 0.6357358653431161\n",
      "Fl-Score 0.6647861897777277\n",
      "RF with 150 estimators  and max_depth of 30 and min_sample_split 5\n",
      "Precision: 0.7022771317829457\n",
      "Recall 0.6255934397928355\n",
      "Fl-Score 0.6617210682492581\n"
     ]
    }
   ],
   "source": [
    "for i in [50,100,150]:\n",
    "    for j in [20,30]:\n",
    "        for k in [2,5]:\n",
    "            rf = RandomForestClassifier(n_estimators=i,max_depth=j,min_samples_split=k)\n",
    "            rf.fit(X_train,y_train)\n",
    "            rf_preds= rf.predict(X_test)\n",
    "\n",
    "            print(\"RF with \"+str(i) +\" estimators\", \" and max_depth of \"+ str(j)+\" and min_sample_split \"+str(k))\n",
    "            print(\"Precision:\",precision_score(y_test,rf_preds))\n",
    "            print(\"Recall\",recall_score(y_test,rf_preds))\n",
    "            print(\"Fl-Score\",f1_score(y_test,rf_preds))\n"
   ]
  },
  {
   "cell_type": "code",
   "execution_count": 289,
   "metadata": {},
   "outputs": [],
   "source": [
    "param={\n",
    "    'n_estimators':nestimators,\n",
    "    'max_features':max_ft,\n",
    "    'max_depth':max_dep,\n",
    "    'min_samples_split':min_samples_split,\n",
    "    'min_samples_leaf':min_sample_leaf\n",
    "}"
   ]
  },
  {
   "cell_type": "code",
   "execution_count": 297,
   "metadata": {},
   "outputs": [
    {
     "name": "stdout",
     "output_type": "stream",
     "text": [
      "Fitting 5 folds for each of 10 candidates, totalling 50 fits\n",
      "[CV] n_estimators=300, min_samples_split=15, min_samples_leaf=5, max_features=sqrt, max_depth=25 \n"
     ]
    },
    {
     "name": "stderr",
     "output_type": "stream",
     "text": [
      "[Parallel(n_jobs=1)]: Using backend SequentialBackend with 1 concurrent workers.\n"
     ]
    },
    {
     "name": "stdout",
     "output_type": "stream",
     "text": [
      "[CV]  n_estimators=300, min_samples_split=15, min_samples_leaf=5, max_features=sqrt, max_depth=25, total=   9.5s\n",
      "[CV] n_estimators=300, min_samples_split=15, min_samples_leaf=5, max_features=sqrt, max_depth=25 \n"
     ]
    },
    {
     "name": "stderr",
     "output_type": "stream",
     "text": [
      "[Parallel(n_jobs=1)]: Done   1 out of   1 | elapsed:    9.4s remaining:    0.0s\n"
     ]
    },
    {
     "name": "stdout",
     "output_type": "stream",
     "text": [
      "[CV]  n_estimators=300, min_samples_split=15, min_samples_leaf=5, max_features=sqrt, max_depth=25, total=   9.9s\n",
      "[CV] n_estimators=300, min_samples_split=15, min_samples_leaf=5, max_features=sqrt, max_depth=25 \n",
      "[CV]  n_estimators=300, min_samples_split=15, min_samples_leaf=5, max_features=sqrt, max_depth=25, total=   9.8s\n",
      "[CV] n_estimators=300, min_samples_split=15, min_samples_leaf=5, max_features=sqrt, max_depth=25 \n",
      "[CV]  n_estimators=300, min_samples_split=15, min_samples_leaf=5, max_features=sqrt, max_depth=25, total=  10.2s\n",
      "[CV] n_estimators=300, min_samples_split=15, min_samples_leaf=5, max_features=sqrt, max_depth=25 \n",
      "[CV]  n_estimators=300, min_samples_split=15, min_samples_leaf=5, max_features=sqrt, max_depth=25, total=   9.2s\n",
      "[CV] n_estimators=800, min_samples_split=2, min_samples_leaf=1, max_features=sqrt, max_depth=25 \n",
      "[CV]  n_estimators=800, min_samples_split=2, min_samples_leaf=1, max_features=sqrt, max_depth=25, total=  29.9s\n",
      "[CV] n_estimators=800, min_samples_split=2, min_samples_leaf=1, max_features=sqrt, max_depth=25 \n",
      "[CV]  n_estimators=800, min_samples_split=2, min_samples_leaf=1, max_features=sqrt, max_depth=25, total=  29.2s\n",
      "[CV] n_estimators=800, min_samples_split=2, min_samples_leaf=1, max_features=sqrt, max_depth=25 \n",
      "[CV]  n_estimators=800, min_samples_split=2, min_samples_leaf=1, max_features=sqrt, max_depth=25, total=  30.1s\n",
      "[CV] n_estimators=800, min_samples_split=2, min_samples_leaf=1, max_features=sqrt, max_depth=25 \n",
      "[CV]  n_estimators=800, min_samples_split=2, min_samples_leaf=1, max_features=sqrt, max_depth=25, total=  29.3s\n",
      "[CV] n_estimators=800, min_samples_split=2, min_samples_leaf=1, max_features=sqrt, max_depth=25 \n",
      "[CV]  n_estimators=800, min_samples_split=2, min_samples_leaf=1, max_features=sqrt, max_depth=25, total=  29.8s\n",
      "[CV] n_estimators=400, min_samples_split=2, min_samples_leaf=2, max_features=log2, max_depth=15 \n",
      "[CV]  n_estimators=400, min_samples_split=2, min_samples_leaf=2, max_features=log2, max_depth=15, total=  15.5s\n",
      "[CV] n_estimators=400, min_samples_split=2, min_samples_leaf=2, max_features=log2, max_depth=15 \n",
      "[CV]  n_estimators=400, min_samples_split=2, min_samples_leaf=2, max_features=log2, max_depth=15, total=  15.1s\n",
      "[CV] n_estimators=400, min_samples_split=2, min_samples_leaf=2, max_features=log2, max_depth=15 \n",
      "[CV]  n_estimators=400, min_samples_split=2, min_samples_leaf=2, max_features=log2, max_depth=15, total=  15.3s\n",
      "[CV] n_estimators=400, min_samples_split=2, min_samples_leaf=2, max_features=log2, max_depth=15 \n",
      "[CV]  n_estimators=400, min_samples_split=2, min_samples_leaf=2, max_features=log2, max_depth=15, total=  16.0s\n",
      "[CV] n_estimators=400, min_samples_split=2, min_samples_leaf=2, max_features=log2, max_depth=15 \n",
      "[CV]  n_estimators=400, min_samples_split=2, min_samples_leaf=2, max_features=log2, max_depth=15, total=  15.3s\n",
      "[CV] n_estimators=500, min_samples_split=5, min_samples_leaf=2, max_features=sqrt, max_depth=30 \n",
      "[CV]  n_estimators=500, min_samples_split=5, min_samples_leaf=2, max_features=sqrt, max_depth=30, total=  17.6s\n",
      "[CV] n_estimators=500, min_samples_split=5, min_samples_leaf=2, max_features=sqrt, max_depth=30 \n",
      "[CV]  n_estimators=500, min_samples_split=5, min_samples_leaf=2, max_features=sqrt, max_depth=30, total=  17.6s\n",
      "[CV] n_estimators=500, min_samples_split=5, min_samples_leaf=2, max_features=sqrt, max_depth=30 \n",
      "[CV]  n_estimators=500, min_samples_split=5, min_samples_leaf=2, max_features=sqrt, max_depth=30, total=  18.0s\n",
      "[CV] n_estimators=500, min_samples_split=5, min_samples_leaf=2, max_features=sqrt, max_depth=30 \n",
      "[CV]  n_estimators=500, min_samples_split=5, min_samples_leaf=2, max_features=sqrt, max_depth=30, total=  17.7s\n",
      "[CV] n_estimators=500, min_samples_split=5, min_samples_leaf=2, max_features=sqrt, max_depth=30 \n",
      "[CV]  n_estimators=500, min_samples_split=5, min_samples_leaf=2, max_features=sqrt, max_depth=30, total=  17.3s\n",
      "[CV] n_estimators=600, min_samples_split=15, min_samples_leaf=1, max_features=sqrt, max_depth=10 \n",
      "[CV]  n_estimators=600, min_samples_split=15, min_samples_leaf=1, max_features=sqrt, max_depth=10, total=  13.3s\n",
      "[CV] n_estimators=600, min_samples_split=15, min_samples_leaf=1, max_features=sqrt, max_depth=10 \n",
      "[CV]  n_estimators=600, min_samples_split=15, min_samples_leaf=1, max_features=sqrt, max_depth=10, total=  14.4s\n",
      "[CV] n_estimators=600, min_samples_split=15, min_samples_leaf=1, max_features=sqrt, max_depth=10 \n",
      "[CV]  n_estimators=600, min_samples_split=15, min_samples_leaf=1, max_features=sqrt, max_depth=10, total=  12.5s\n",
      "[CV] n_estimators=600, min_samples_split=15, min_samples_leaf=1, max_features=sqrt, max_depth=10 \n",
      "[CV]  n_estimators=600, min_samples_split=15, min_samples_leaf=1, max_features=sqrt, max_depth=10, total=  12.4s\n",
      "[CV] n_estimators=600, min_samples_split=15, min_samples_leaf=1, max_features=sqrt, max_depth=10 \n",
      "[CV]  n_estimators=600, min_samples_split=15, min_samples_leaf=1, max_features=sqrt, max_depth=10, total=  12.3s\n",
      "[CV] n_estimators=400, min_samples_split=5, min_samples_leaf=10, max_features=auto, max_depth=10 \n",
      "[CV]  n_estimators=400, min_samples_split=5, min_samples_leaf=10, max_features=auto, max_depth=10, total=   8.1s\n",
      "[CV] n_estimators=400, min_samples_split=5, min_samples_leaf=10, max_features=auto, max_depth=10 \n",
      "[CV]  n_estimators=400, min_samples_split=5, min_samples_leaf=10, max_features=auto, max_depth=10, total=   8.2s\n",
      "[CV] n_estimators=400, min_samples_split=5, min_samples_leaf=10, max_features=auto, max_depth=10 \n",
      "[CV]  n_estimators=400, min_samples_split=5, min_samples_leaf=10, max_features=auto, max_depth=10, total=   8.7s\n",
      "[CV] n_estimators=400, min_samples_split=5, min_samples_leaf=10, max_features=auto, max_depth=10 \n",
      "[CV]  n_estimators=400, min_samples_split=5, min_samples_leaf=10, max_features=auto, max_depth=10, total=   8.5s\n",
      "[CV] n_estimators=400, min_samples_split=5, min_samples_leaf=10, max_features=auto, max_depth=10 \n",
      "[CV]  n_estimators=400, min_samples_split=5, min_samples_leaf=10, max_features=auto, max_depth=10, total=   8.1s\n",
      "[CV] n_estimators=200, min_samples_split=15, min_samples_leaf=5, max_features=log2, max_depth=15 \n",
      "[CV]  n_estimators=200, min_samples_split=15, min_samples_leaf=5, max_features=log2, max_depth=15, total=   7.4s\n",
      "[CV] n_estimators=200, min_samples_split=15, min_samples_leaf=5, max_features=log2, max_depth=15 \n",
      "[CV]  n_estimators=200, min_samples_split=15, min_samples_leaf=5, max_features=log2, max_depth=15, total=   7.4s\n",
      "[CV] n_estimators=200, min_samples_split=15, min_samples_leaf=5, max_features=log2, max_depth=15 \n",
      "[CV]  n_estimators=200, min_samples_split=15, min_samples_leaf=5, max_features=log2, max_depth=15, total=   7.4s\n",
      "[CV] n_estimators=200, min_samples_split=15, min_samples_leaf=5, max_features=log2, max_depth=15 \n",
      "[CV]  n_estimators=200, min_samples_split=15, min_samples_leaf=5, max_features=log2, max_depth=15, total=   7.4s\n",
      "[CV] n_estimators=200, min_samples_split=15, min_samples_leaf=5, max_features=log2, max_depth=15 \n",
      "[CV]  n_estimators=200, min_samples_split=15, min_samples_leaf=5, max_features=log2, max_depth=15, total=   7.3s\n",
      "[CV] n_estimators=200, min_samples_split=15, min_samples_leaf=1, max_features=log2, max_depth=30 \n",
      "[CV]  n_estimators=200, min_samples_split=15, min_samples_leaf=1, max_features=log2, max_depth=30, total=   9.3s\n",
      "[CV] n_estimators=200, min_samples_split=15, min_samples_leaf=1, max_features=log2, max_depth=30 \n",
      "[CV]  n_estimators=200, min_samples_split=15, min_samples_leaf=1, max_features=log2, max_depth=30, total=   9.7s\n",
      "[CV] n_estimators=200, min_samples_split=15, min_samples_leaf=1, max_features=log2, max_depth=30 \n",
      "[CV]  n_estimators=200, min_samples_split=15, min_samples_leaf=1, max_features=log2, max_depth=30, total=   9.3s\n",
      "[CV] n_estimators=200, min_samples_split=15, min_samples_leaf=1, max_features=log2, max_depth=30 \n",
      "[CV]  n_estimators=200, min_samples_split=15, min_samples_leaf=1, max_features=log2, max_depth=30, total=   9.5s\n",
      "[CV] n_estimators=200, min_samples_split=15, min_samples_leaf=1, max_features=log2, max_depth=30 \n",
      "[CV]  n_estimators=200, min_samples_split=15, min_samples_leaf=1, max_features=log2, max_depth=30, total=   9.3s\n",
      "[CV] n_estimators=400, min_samples_split=15, min_samples_leaf=1, max_features=log2, max_depth=10 \n"
     ]
    },
    {
     "name": "stdout",
     "output_type": "stream",
     "text": [
      "[CV]  n_estimators=400, min_samples_split=15, min_samples_leaf=1, max_features=log2, max_depth=10, total=  11.0s\n",
      "[CV] n_estimators=400, min_samples_split=15, min_samples_leaf=1, max_features=log2, max_depth=10 \n",
      "[CV]  n_estimators=400, min_samples_split=15, min_samples_leaf=1, max_features=log2, max_depth=10, total=  11.2s\n",
      "[CV] n_estimators=400, min_samples_split=15, min_samples_leaf=1, max_features=log2, max_depth=10 \n",
      "[CV]  n_estimators=400, min_samples_split=15, min_samples_leaf=1, max_features=log2, max_depth=10, total=  11.8s\n",
      "[CV] n_estimators=400, min_samples_split=15, min_samples_leaf=1, max_features=log2, max_depth=10 \n",
      "[CV]  n_estimators=400, min_samples_split=15, min_samples_leaf=1, max_features=log2, max_depth=10, total=  11.2s\n",
      "[CV] n_estimators=400, min_samples_split=15, min_samples_leaf=1, max_features=log2, max_depth=10 \n",
      "[CV]  n_estimators=400, min_samples_split=15, min_samples_leaf=1, max_features=log2, max_depth=10, total=  11.2s\n",
      "[CV] n_estimators=800, min_samples_split=10, min_samples_leaf=2, max_features=sqrt, max_depth=5 \n",
      "[CV]  n_estimators=800, min_samples_split=10, min_samples_leaf=2, max_features=sqrt, max_depth=5, total=  10.3s\n",
      "[CV] n_estimators=800, min_samples_split=10, min_samples_leaf=2, max_features=sqrt, max_depth=5 \n",
      "[CV]  n_estimators=800, min_samples_split=10, min_samples_leaf=2, max_features=sqrt, max_depth=5, total=  10.1s\n",
      "[CV] n_estimators=800, min_samples_split=10, min_samples_leaf=2, max_features=sqrt, max_depth=5 \n",
      "[CV]  n_estimators=800, min_samples_split=10, min_samples_leaf=2, max_features=sqrt, max_depth=5, total=  10.1s\n",
      "[CV] n_estimators=800, min_samples_split=10, min_samples_leaf=2, max_features=sqrt, max_depth=5 \n",
      "[CV]  n_estimators=800, min_samples_split=10, min_samples_leaf=2, max_features=sqrt, max_depth=5, total=  10.5s\n",
      "[CV] n_estimators=800, min_samples_split=10, min_samples_leaf=2, max_features=sqrt, max_depth=5 \n",
      "[CV]  n_estimators=800, min_samples_split=10, min_samples_leaf=2, max_features=sqrt, max_depth=5, total=  10.3s\n"
     ]
    },
    {
     "name": "stderr",
     "output_type": "stream",
     "text": [
      "[Parallel(n_jobs=1)]: Done  50 out of  50 | elapsed: 11.0min finished\n"
     ]
    },
    {
     "name": "stdout",
     "output_type": "stream",
     "text": [
      "[[3488 1147]\n",
      " [1748 2886]]\n",
      "Precision: 0.7155963302752294\n",
      "Recall 0.6227880880448856\n",
      "Fl-Score 0.6659743856005539\n",
      "---------------------Test---------------------\n",
      "              precision    recall  f1-score   support\n",
      "\n",
      "           0       0.67      0.75      0.71      4635\n",
      "           1       0.72      0.62      0.67      4634\n",
      "\n",
      "    accuracy                           0.69      9269\n",
      "   macro avg       0.69      0.69      0.69      9269\n",
      "weighted avg       0.69      0.69      0.69      9269\n",
      "\n"
     ]
    },
    {
     "data": {
      "image/png": "[encoded data removed]",
      "text/plain": [
       "<Figure size 432x288 with 2 Axes>"
      ]
     },
     "metadata": {
      "needs_background": "light"
     },
     "output_type": "display_data"
    }
   ],
   "source": [
    "rf=RandomForestClassifier()\n",
    "rf_R=RandomizedSearchCV(estimator=rf,param_distributions=param,n_jobs=1,n_iter=10,cv=5,verbose=2,random_state=0)\n",
    "rf_R.fit(X_train,y_train)\n",
    "rf_P=rf_R.predict(X_test)\n",
    "model_performance(y_test,rf_P)"
   ]
  },
  {
   "cell_type": "code",
   "execution_count": 298,
   "metadata": {},
   "outputs": [
    {
     "name": "stdout",
     "output_type": "stream",
     "text": [
      "[[3488 1147]\n",
      " [1748 2886]]\n",
      "Precision: 0.7155963302752294\n",
      "Recall 0.6227880880448856\n",
      "Fl-Score 0.6659743856005539\n",
      "---------------------Test---------------------\n",
      "              precision    recall  f1-score   support\n",
      "\n",
      "           0       0.67      0.75      0.71      4635\n",
      "           1       0.72      0.62      0.67      4634\n",
      "\n",
      "    accuracy                           0.69      9269\n",
      "   macro avg       0.69      0.69      0.69      9269\n",
      "weighted avg       0.69      0.69      0.69      9269\n",
      "\n"
     ]
    },
    {
     "data": {
      "image/png": "[encoded data removed]",
      "text/plain": [
       "<Figure size 432x288 with 2 Axes>"
      ]
     },
     "metadata": {
      "needs_background": "light"
     },
     "output_type": "display_data"
    }
   ],
   "source": [
    "model_performance(y_test,rf_P)"
   ]
  },
  {
   "cell_type": "code",
   "execution_count": 52,
   "metadata": {},
   "outputs": [
    {
     "data": {
      "text/plain": [
       "Index(['Unnamed: 0', 'user_id', 'signup_datetime', 'datetime', 'amount',\n",
       "       'device_id', 'store', 'browser', 'sex', 'age', 'ip_address', 'fraud',\n",
       "       'country'],\n",
       "      dtype='object')"
      ]
     },
     "execution_count": 52,
     "metadata": {},
     "output_type": "execute_result"
    }
   ],
   "source": [
    "fraud.columns"
   ]
  },
  {
   "cell_type": "markdown",
   "metadata": {},
   "source": [
    "## SMOTE"
   ]
  },
  {
   "cell_type": "code",
   "execution_count": 28,
   "metadata": {},
   "outputs": [],
   "source": [
    "fraud3=fraud1.copy()"
   ]
  },
  {
   "cell_type": "code",
   "execution_count": 40,
   "metadata": {},
   "outputs": [
    {
     "data": {
      "text/plain": [
       "150000"
      ]
     },
     "execution_count": 40,
     "metadata": {},
     "output_type": "execute_result"
    }
   ],
   "source": [
    "len(fraud1)"
   ]
  },
  {
   "cell_type": "code",
   "execution_count": 29,
   "metadata": {},
   "outputs": [],
   "source": [
    "X=fraud3[features]\n",
    "y=fraud3['fraud']"
   ]
  },
  {
   "cell_type": "code",
   "execution_count": 33,
   "metadata": {},
   "outputs": [],
   "source": [
    "from imblearn.over_sampling import SMOTE\n",
    "\n",
    "method = SMOTE(random_state = 2) \n",
    "X_train, X_test, y_train, y_test = train_test_split(X, y, train_size=0.8, random_state=0)\n",
    "\n",
    "# Apply resampling to the training data only\n",
    "X_resampled, y_resampled = method.fit_sample(X_train, y_train)\n"
   ]
  },
  {
   "cell_type": "code",
   "execution_count": 41,
   "metadata": {},
   "outputs": [
    {
     "data": {
      "text/plain": [
       "217598"
      ]
     },
     "execution_count": 41,
     "metadata": {},
     "output_type": "execute_result"
    }
   ],
   "source": [
    "len(X_resampled)"
   ]
  },
  {
   "cell_type": "markdown",
   "metadata": {},
   "source": [
    "### Logistic regression"
   ]
  },
  {
   "cell_type": "code",
   "execution_count": 35,
   "metadata": {},
   "outputs": [],
   "source": [
    "logreg2 = LogisticRegression(solver = 'lbfgs')\n",
    "\n",
    "# fit the model with data\n",
    "logreg2.fit(X_resampled,y_resampled.values.ravel())\n",
    "\n",
    "#\n",
    "y_pred=logreg2.predict(X_test)\n"
   ]
  },
  {
   "cell_type": "code",
   "execution_count": 36,
   "metadata": {},
   "outputs": [
    {
     "name": "stdout",
     "output_type": "stream",
     "text": [
      "              precision    recall  f1-score   support\n",
      "\n",
      "           0       0.91      0.20      0.33     27158\n",
      "           1       0.10      0.80      0.17      2842\n",
      "\n",
      "    accuracy                           0.26     30000\n",
      "   macro avg       0.50      0.50      0.25     30000\n",
      "weighted avg       0.83      0.26      0.32     30000\n",
      "\n"
     ]
    }
   ],
   "source": [
    "print(classification_report(y_test,y_pred))"
   ]
  },
  {
   "cell_type": "code",
   "execution_count": 39,
   "metadata": {},
   "outputs": [
    {
     "name": "stdout",
     "output_type": "stream",
     "text": [
      "[[ 5539 21619]\n",
      " [  560  2282]]\n",
      "Precision: 0.0954771766871679\n",
      "Recall 0.8029556650246306\n",
      "Fl-Score 0.17066148150917995\n",
      "---------------------Test---------------------\n",
      "              precision    recall  f1-score   support\n",
      "\n",
      "           0       0.91      0.20      0.33     27158\n",
      "           1       0.10      0.80      0.17      2842\n",
      "\n",
      "    accuracy                           0.26     30000\n",
      "   macro avg       0.50      0.50      0.25     30000\n",
      "weighted avg       0.83      0.26      0.32     30000\n",
      "\n"
     ]
    },
    {
     "data": {
      "image/png": "[encoded data removed]",
      "text/plain": [
       "<Figure size 432x288 with 2 Axes>"
      ]
     },
     "metadata": {
      "needs_background": "light"
     },
     "output_type": "display_data"
    }
   ],
   "source": [
    "model_performance(y_test,y_pred)"
   ]
  },
  {
   "cell_type": "markdown",
   "metadata": {},
   "source": [
    "## Decision Tree"
   ]
  },
  {
   "cell_type": "code",
   "execution_count": 50,
   "metadata": {},
   "outputs": [
    {
     "name": "stdout",
     "output_type": "stream",
     "text": [
      "Fitting 5 folds for each of 10 candidates, totalling 50 fits\n",
      "[CV] min_samples_split=15, min_samples_leaf=2, max_depth=15 ..........\n"
     ]
    },
    {
     "name": "stderr",
     "output_type": "stream",
     "text": [
      "[Parallel(n_jobs=1)]: Using backend SequentialBackend with 1 concurrent workers.\n"
     ]
    },
    {
     "name": "stdout",
     "output_type": "stream",
     "text": [
      "[CV]  min_samples_split=15, min_samples_leaf=2, max_depth=15, total=   2.6s\n",
      "[CV] min_samples_split=15, min_samples_leaf=2, max_depth=15 ..........\n"
     ]
    },
    {
     "name": "stderr",
     "output_type": "stream",
     "text": [
      "[Parallel(n_jobs=1)]: Done   1 out of   1 | elapsed:    2.5s remaining:    0.0s\n"
     ]
    },
    {
     "name": "stdout",
     "output_type": "stream",
     "text": [
      "[CV]  min_samples_split=15, min_samples_leaf=2, max_depth=15, total=   2.6s\n",
      "[CV] min_samples_split=15, min_samples_leaf=2, max_depth=15 ..........\n",
      "[CV]  min_samples_split=15, min_samples_leaf=2, max_depth=15, total=   2.8s\n",
      "[CV] min_samples_split=15, min_samples_leaf=2, max_depth=15 ..........\n",
      "[CV]  min_samples_split=15, min_samples_leaf=2, max_depth=15, total=   3.0s\n",
      "[CV] min_samples_split=15, min_samples_leaf=2, max_depth=15 ..........\n",
      "[CV]  min_samples_split=15, min_samples_leaf=2, max_depth=15, total=   2.7s\n",
      "[CV] min_samples_split=100, min_samples_leaf=5, max_depth=25 .........\n",
      "[CV]  min_samples_split=100, min_samples_leaf=5, max_depth=25, total=   2.8s\n",
      "[CV] min_samples_split=100, min_samples_leaf=5, max_depth=25 .........\n",
      "[CV]  min_samples_split=100, min_samples_leaf=5, max_depth=25, total=   2.9s\n",
      "[CV] min_samples_split=100, min_samples_leaf=5, max_depth=25 .........\n",
      "[CV]  min_samples_split=100, min_samples_leaf=5, max_depth=25, total=   3.0s\n",
      "[CV] min_samples_split=100, min_samples_leaf=5, max_depth=25 .........\n",
      "[CV]  min_samples_split=100, min_samples_leaf=5, max_depth=25, total=   2.8s\n",
      "[CV] min_samples_split=100, min_samples_leaf=5, max_depth=25 .........\n",
      "[CV]  min_samples_split=100, min_samples_leaf=5, max_depth=25, total=   2.8s\n",
      "[CV] min_samples_split=2, min_samples_leaf=10, max_depth=25 ..........\n",
      "[CV]  min_samples_split=2, min_samples_leaf=10, max_depth=25, total=   2.8s\n",
      "[CV] min_samples_split=2, min_samples_leaf=10, max_depth=25 ..........\n",
      "[CV]  min_samples_split=2, min_samples_leaf=10, max_depth=25, total=   3.0s\n",
      "[CV] min_samples_split=2, min_samples_leaf=10, max_depth=25 ..........\n",
      "[CV]  min_samples_split=2, min_samples_leaf=10, max_depth=25, total=   3.0s\n",
      "[CV] min_samples_split=2, min_samples_leaf=10, max_depth=25 ..........\n",
      "[CV]  min_samples_split=2, min_samples_leaf=10, max_depth=25, total=   2.9s\n",
      "[CV] min_samples_split=2, min_samples_leaf=10, max_depth=25 ..........\n",
      "[CV]  min_samples_split=2, min_samples_leaf=10, max_depth=25, total=   3.0s\n",
      "[CV] min_samples_split=15, min_samples_leaf=2, max_depth=5 ...........\n",
      "[CV]  min_samples_split=15, min_samples_leaf=2, max_depth=5, total=   1.3s\n",
      "[CV] min_samples_split=15, min_samples_leaf=2, max_depth=5 ...........\n",
      "[CV]  min_samples_split=15, min_samples_leaf=2, max_depth=5, total=   1.2s\n",
      "[CV] min_samples_split=15, min_samples_leaf=2, max_depth=5 ...........\n",
      "[CV]  min_samples_split=15, min_samples_leaf=2, max_depth=5, total=   1.2s\n",
      "[CV] min_samples_split=15, min_samples_leaf=2, max_depth=5 ...........\n",
      "[CV]  min_samples_split=15, min_samples_leaf=2, max_depth=5, total=   1.1s\n",
      "[CV] min_samples_split=15, min_samples_leaf=2, max_depth=5 ...........\n",
      "[CV]  min_samples_split=15, min_samples_leaf=2, max_depth=5, total=   1.1s\n",
      "[CV] min_samples_split=10, min_samples_leaf=10, max_depth=25 .........\n",
      "[CV]  min_samples_split=10, min_samples_leaf=10, max_depth=25, total=   3.2s\n",
      "[CV] min_samples_split=10, min_samples_leaf=10, max_depth=25 .........\n",
      "[CV]  min_samples_split=10, min_samples_leaf=10, max_depth=25, total=   3.0s\n",
      "[CV] min_samples_split=10, min_samples_leaf=10, max_depth=25 .........\n",
      "[CV]  min_samples_split=10, min_samples_leaf=10, max_depth=25, total=   2.9s\n",
      "[CV] min_samples_split=10, min_samples_leaf=10, max_depth=25 .........\n",
      "[CV]  min_samples_split=10, min_samples_leaf=10, max_depth=25, total=   2.8s\n",
      "[CV] min_samples_split=10, min_samples_leaf=10, max_depth=25 .........\n",
      "[CV]  min_samples_split=10, min_samples_leaf=10, max_depth=25, total=   3.0s\n",
      "[CV] min_samples_split=10, min_samples_leaf=1, max_depth=10 ..........\n",
      "[CV]  min_samples_split=10, min_samples_leaf=1, max_depth=10, total=   2.1s\n",
      "[CV] min_samples_split=10, min_samples_leaf=1, max_depth=10 ..........\n",
      "[CV]  min_samples_split=10, min_samples_leaf=1, max_depth=10, total=   2.1s\n",
      "[CV] min_samples_split=10, min_samples_leaf=1, max_depth=10 ..........\n",
      "[CV]  min_samples_split=10, min_samples_leaf=1, max_depth=10, total=   2.0s\n",
      "[CV] min_samples_split=10, min_samples_leaf=1, max_depth=10 ..........\n",
      "[CV]  min_samples_split=10, min_samples_leaf=1, max_depth=10, total=   2.0s\n",
      "[CV] min_samples_split=10, min_samples_leaf=1, max_depth=10 ..........\n",
      "[CV]  min_samples_split=10, min_samples_leaf=1, max_depth=10, total=   2.3s\n",
      "[CV] min_samples_split=10, min_samples_leaf=2, max_depth=5 ...........\n",
      "[CV]  min_samples_split=10, min_samples_leaf=2, max_depth=5, total=   1.4s\n",
      "[CV] min_samples_split=10, min_samples_leaf=2, max_depth=5 ...........\n",
      "[CV]  min_samples_split=10, min_samples_leaf=2, max_depth=5, total=   1.4s\n",
      "[CV] min_samples_split=10, min_samples_leaf=2, max_depth=5 ...........\n",
      "[CV]  min_samples_split=10, min_samples_leaf=2, max_depth=5, total=   1.4s\n",
      "[CV] min_samples_split=10, min_samples_leaf=2, max_depth=5 ...........\n",
      "[CV]  min_samples_split=10, min_samples_leaf=2, max_depth=5, total=   1.4s\n",
      "[CV] min_samples_split=10, min_samples_leaf=2, max_depth=5 ...........\n",
      "[CV]  min_samples_split=10, min_samples_leaf=2, max_depth=5, total=   1.2s\n",
      "[CV] min_samples_split=2, min_samples_leaf=5, max_depth=5 ............\n",
      "[CV]  min_samples_split=2, min_samples_leaf=5, max_depth=5, total=   1.2s\n",
      "[CV] min_samples_split=2, min_samples_leaf=5, max_depth=5 ............\n",
      "[CV]  min_samples_split=2, min_samples_leaf=5, max_depth=5, total=   1.2s\n",
      "[CV] min_samples_split=2, min_samples_leaf=5, max_depth=5 ............\n",
      "[CV]  min_samples_split=2, min_samples_leaf=5, max_depth=5, total=   1.3s\n",
      "[CV] min_samples_split=2, min_samples_leaf=5, max_depth=5 ............\n",
      "[CV]  min_samples_split=2, min_samples_leaf=5, max_depth=5, total=   1.3s\n",
      "[CV] min_samples_split=2, min_samples_leaf=5, max_depth=5 ............\n",
      "[CV]  min_samples_split=2, min_samples_leaf=5, max_depth=5, total=   1.2s\n",
      "[CV] min_samples_split=2, min_samples_leaf=2, max_depth=15 ...........\n",
      "[CV]  min_samples_split=2, min_samples_leaf=2, max_depth=15, total=   2.6s\n",
      "[CV] min_samples_split=2, min_samples_leaf=2, max_depth=15 ...........\n",
      "[CV]  min_samples_split=2, min_samples_leaf=2, max_depth=15, total=   2.6s\n",
      "[CV] min_samples_split=2, min_samples_leaf=2, max_depth=15 ...........\n",
      "[CV]  min_samples_split=2, min_samples_leaf=2, max_depth=15, total=   2.6s\n",
      "[CV] min_samples_split=2, min_samples_leaf=2, max_depth=15 ...........\n",
      "[CV]  min_samples_split=2, min_samples_leaf=2, max_depth=15, total=   2.6s\n",
      "[CV] min_samples_split=2, min_samples_leaf=2, max_depth=15 ...........\n",
      "[CV]  min_samples_split=2, min_samples_leaf=2, max_depth=15, total=   2.6s\n",
      "[CV] min_samples_split=100, min_samples_leaf=2, max_depth=25 .........\n",
      "[CV]  min_samples_split=100, min_samples_leaf=2, max_depth=25, total=   2.8s\n",
      "[CV] min_samples_split=100, min_samples_leaf=2, max_depth=25 .........\n",
      "[CV]  min_samples_split=100, min_samples_leaf=2, max_depth=25, total=   2.8s\n",
      "[CV] min_samples_split=100, min_samples_leaf=2, max_depth=25 .........\n",
      "[CV]  min_samples_split=100, min_samples_leaf=2, max_depth=25, total=   2.8s\n",
      "[CV] min_samples_split=100, min_samples_leaf=2, max_depth=25 .........\n",
      "[CV]  min_samples_split=100, min_samples_leaf=2, max_depth=25, total=   2.8s\n",
      "[CV] min_samples_split=100, min_samples_leaf=2, max_depth=25 .........\n",
      "[CV]  min_samples_split=100, min_samples_leaf=2, max_depth=25, total=   2.8s\n"
     ]
    },
    {
     "name": "stderr",
     "output_type": "stream",
     "text": [
      "[Parallel(n_jobs=1)]: Done  50 out of  50 | elapsed:  1.9min finished\n"
     ]
    },
    {
     "data": {
      "text/plain": [
       "RandomizedSearchCV(cv=5, estimator=DecisionTreeClassifier(), n_jobs=1,\n",
       "                   param_distributions={'max_depth': [5, 10, 15, 20, 25, 30],\n",
       "                                        'min_samples_leaf': [1, 2, 5, 10],\n",
       "                                        'min_samples_split': [2, 5, 10, 15,\n",
       "                                                              100]},\n",
       "                   random_state=0, verbose=2)"
      ]
     },
     "execution_count": 50,
     "metadata": {},
     "output_type": "execute_result"
    }
   ],
   "source": [
    "tree=DecisionTreeClassifier()\n",
    "tree_rand=RandomizedSearchCV(estimator=tree,param_distributions=tree_param,n_jobs=1,n_iter=10,cv=5,verbose=2,random_state=0)\n",
    "tree_rand.fit(X_resampled,y_resampled)"
   ]
  },
  {
   "cell_type": "code",
   "execution_count": 51,
   "metadata": {},
   "outputs": [],
   "source": [
    "tree_p=tree_rand.predict(X_test)"
   ]
  },
  {
   "cell_type": "code",
   "execution_count": 52,
   "metadata": {},
   "outputs": [
    {
     "name": "stdout",
     "output_type": "stream",
     "text": [
      "[[24544  2614]\n",
      " [ 1954   888]]\n",
      "Precision: 0.2535693889206168\n",
      "Recall 0.3124560168895144\n",
      "Fl-Score 0.27994955863808324\n",
      "---------------------Test---------------------\n",
      "              precision    recall  f1-score   support\n",
      "\n",
      "           0       0.93      0.90      0.91     27158\n",
      "           1       0.25      0.31      0.28      2842\n",
      "\n",
      "    accuracy                           0.85     30000\n",
      "   macro avg       0.59      0.61      0.60     30000\n",
      "weighted avg       0.86      0.85      0.85     30000\n",
      "\n"
     ]
    },
    {
     "data": {
      "image/png": "[encoded data removed]",
      "text/plain": [
       "<Figure size 432x288 with 2 Axes>"
      ]
     },
     "metadata": {
      "needs_background": "light"
     },
     "output_type": "display_data"
    }
   ],
   "source": [
    "model_performance(y_test,tree_p)"
   ]
  },
  {
   "cell_type": "markdown",
   "metadata": {},
   "source": [
    "## Random Forest"
   ]
  },
  {
   "cell_type": "code",
   "execution_count": 59,
   "metadata": {},
   "outputs": [],
   "source": [
    "param={\n",
    "    'n_estimators':nestimators,\n",
    "    'max_features':max_ft,\n",
    "    'max_depth':max_dep,\n",
    "    'min_samples_split':min_samples_split,\n",
    "    'min_samples_leaf':min_sample_leaf\n",
    "}"
   ]
  },
  {
   "cell_type": "code",
   "execution_count": 60,
   "metadata": {},
   "outputs": [
    {
     "name": "stdout",
     "output_type": "stream",
     "text": [
      "Fitting 5 folds for each of 10 candidates, totalling 50 fits\n",
      "[CV] n_estimators=300, min_samples_split=15, min_samples_leaf=5, max_features=sqrt, max_depth=25 \n"
     ]
    },
    {
     "name": "stderr",
     "output_type": "stream",
     "text": [
      "[Parallel(n_jobs=1)]: Using backend SequentialBackend with 1 concurrent workers.\n"
     ]
    },
    {
     "name": "stdout",
     "output_type": "stream",
     "text": [
      "[CV]  n_estimators=300, min_samples_split=15, min_samples_leaf=5, max_features=sqrt, max_depth=25, total= 3.4min\n",
      "[CV] n_estimators=300, min_samples_split=15, min_samples_leaf=5, max_features=sqrt, max_depth=25 \n"
     ]
    },
    {
     "name": "stderr",
     "output_type": "stream",
     "text": [
      "[Parallel(n_jobs=1)]: Done   1 out of   1 | elapsed:  3.4min remaining:    0.0s\n"
     ]
    },
    {
     "name": "stdout",
     "output_type": "stream",
     "text": [
      "[CV]  n_estimators=300, min_samples_split=15, min_samples_leaf=5, max_features=sqrt, max_depth=25, total= 3.4min\n",
      "[CV] n_estimators=300, min_samples_split=15, min_samples_leaf=5, max_features=sqrt, max_depth=25 \n",
      "[CV]  n_estimators=300, min_samples_split=15, min_samples_leaf=5, max_features=sqrt, max_depth=25, total= 3.4min\n",
      "[CV] n_estimators=300, min_samples_split=15, min_samples_leaf=5, max_features=sqrt, max_depth=25 \n",
      "[CV]  n_estimators=300, min_samples_split=15, min_samples_leaf=5, max_features=sqrt, max_depth=25, total= 3.4min\n",
      "[CV] n_estimators=300, min_samples_split=15, min_samples_leaf=5, max_features=sqrt, max_depth=25 \n",
      "[CV]  n_estimators=300, min_samples_split=15, min_samples_leaf=5, max_features=sqrt, max_depth=25, total= 3.5min\n",
      "[CV] n_estimators=800, min_samples_split=2, min_samples_leaf=1, max_features=sqrt, max_depth=25 \n",
      "[CV]  n_estimators=800, min_samples_split=2, min_samples_leaf=1, max_features=sqrt, max_depth=25, total= 9.7min\n",
      "[CV] n_estimators=800, min_samples_split=2, min_samples_leaf=1, max_features=sqrt, max_depth=25 \n",
      "[CV]  n_estimators=800, min_samples_split=2, min_samples_leaf=1, max_features=sqrt, max_depth=25, total=19.0min\n",
      "[CV] n_estimators=800, min_samples_split=2, min_samples_leaf=1, max_features=sqrt, max_depth=25 \n",
      "[CV]  n_estimators=800, min_samples_split=2, min_samples_leaf=1, max_features=sqrt, max_depth=25, total= 9.7min\n",
      "[CV] n_estimators=800, min_samples_split=2, min_samples_leaf=1, max_features=sqrt, max_depth=25 \n",
      "[CV]  n_estimators=800, min_samples_split=2, min_samples_leaf=1, max_features=sqrt, max_depth=25, total= 9.8min\n",
      "[CV] n_estimators=800, min_samples_split=2, min_samples_leaf=1, max_features=sqrt, max_depth=25 \n",
      "[CV]  n_estimators=800, min_samples_split=2, min_samples_leaf=1, max_features=sqrt, max_depth=25, total= 9.6min\n",
      "[CV] n_estimators=400, min_samples_split=2, min_samples_leaf=2, max_features=log2, max_depth=15 \n",
      "[CV]  n_estimators=400, min_samples_split=2, min_samples_leaf=2, max_features=log2, max_depth=15, total= 5.2min\n",
      "[CV] n_estimators=400, min_samples_split=2, min_samples_leaf=2, max_features=log2, max_depth=15 \n",
      "[CV]  n_estimators=400, min_samples_split=2, min_samples_leaf=2, max_features=log2, max_depth=15, total= 5.0min\n",
      "[CV] n_estimators=400, min_samples_split=2, min_samples_leaf=2, max_features=log2, max_depth=15 \n",
      "[CV]  n_estimators=400, min_samples_split=2, min_samples_leaf=2, max_features=log2, max_depth=15, total= 5.0min\n",
      "[CV] n_estimators=400, min_samples_split=2, min_samples_leaf=2, max_features=log2, max_depth=15 \n",
      "[CV]  n_estimators=400, min_samples_split=2, min_samples_leaf=2, max_features=log2, max_depth=15, total= 4.9min\n",
      "[CV] n_estimators=400, min_samples_split=2, min_samples_leaf=2, max_features=log2, max_depth=15 \n",
      "[CV]  n_estimators=400, min_samples_split=2, min_samples_leaf=2, max_features=log2, max_depth=15, total= 5.1min\n",
      "[CV] n_estimators=500, min_samples_split=5, min_samples_leaf=2, max_features=sqrt, max_depth=30 \n",
      "[CV]  n_estimators=500, min_samples_split=5, min_samples_leaf=2, max_features=sqrt, max_depth=30, total= 5.4min\n",
      "[CV] n_estimators=500, min_samples_split=5, min_samples_leaf=2, max_features=sqrt, max_depth=30 \n",
      "[CV]  n_estimators=500, min_samples_split=5, min_samples_leaf=2, max_features=sqrt, max_depth=30, total= 4.6min\n",
      "[CV] n_estimators=500, min_samples_split=5, min_samples_leaf=2, max_features=sqrt, max_depth=30 \n",
      "[CV]  n_estimators=500, min_samples_split=5, min_samples_leaf=2, max_features=sqrt, max_depth=30, total= 4.7min\n",
      "[CV] n_estimators=500, min_samples_split=5, min_samples_leaf=2, max_features=sqrt, max_depth=30 \n",
      "[CV]  n_estimators=500, min_samples_split=5, min_samples_leaf=2, max_features=sqrt, max_depth=30, total= 4.8min\n",
      "[CV] n_estimators=500, min_samples_split=5, min_samples_leaf=2, max_features=sqrt, max_depth=30 \n",
      "[CV]  n_estimators=500, min_samples_split=5, min_samples_leaf=2, max_features=sqrt, max_depth=30, total= 4.8min\n",
      "[CV] n_estimators=600, min_samples_split=15, min_samples_leaf=1, max_features=sqrt, max_depth=10 \n",
      "[CV]  n_estimators=600, min_samples_split=15, min_samples_leaf=1, max_features=sqrt, max_depth=10, total= 3.3min\n",
      "[CV] n_estimators=600, min_samples_split=15, min_samples_leaf=1, max_features=sqrt, max_depth=10 \n",
      "[CV]  n_estimators=600, min_samples_split=15, min_samples_leaf=1, max_features=sqrt, max_depth=10, total= 3.3min\n",
      "[CV] n_estimators=600, min_samples_split=15, min_samples_leaf=1, max_features=sqrt, max_depth=10 \n",
      "[CV]  n_estimators=600, min_samples_split=15, min_samples_leaf=1, max_features=sqrt, max_depth=10, total= 3.3min\n",
      "[CV] n_estimators=600, min_samples_split=15, min_samples_leaf=1, max_features=sqrt, max_depth=10 \n",
      "[CV]  n_estimators=600, min_samples_split=15, min_samples_leaf=1, max_features=sqrt, max_depth=10, total= 3.3min\n",
      "[CV] n_estimators=600, min_samples_split=15, min_samples_leaf=1, max_features=sqrt, max_depth=10 \n",
      "[CV]  n_estimators=600, min_samples_split=15, min_samples_leaf=1, max_features=sqrt, max_depth=10, total= 3.2min\n",
      "[CV] n_estimators=400, min_samples_split=5, min_samples_leaf=10, max_features=auto, max_depth=10 \n",
      "[CV]  n_estimators=400, min_samples_split=5, min_samples_leaf=10, max_features=auto, max_depth=10, total= 2.2min\n",
      "[CV] n_estimators=400, min_samples_split=5, min_samples_leaf=10, max_features=auto, max_depth=10 \n",
      "[CV]  n_estimators=400, min_samples_split=5, min_samples_leaf=10, max_features=auto, max_depth=10, total= 2.1min\n",
      "[CV] n_estimators=400, min_samples_split=5, min_samples_leaf=10, max_features=auto, max_depth=10 \n",
      "[CV]  n_estimators=400, min_samples_split=5, min_samples_leaf=10, max_features=auto, max_depth=10, total= 2.2min\n",
      "[CV] n_estimators=400, min_samples_split=5, min_samples_leaf=10, max_features=auto, max_depth=10 \n",
      "[CV]  n_estimators=400, min_samples_split=5, min_samples_leaf=10, max_features=auto, max_depth=10, total= 2.1min\n",
      "[CV] n_estimators=400, min_samples_split=5, min_samples_leaf=10, max_features=auto, max_depth=10 \n",
      "[CV]  n_estimators=400, min_samples_split=5, min_samples_leaf=10, max_features=auto, max_depth=10, total= 2.1min\n",
      "[CV] n_estimators=200, min_samples_split=15, min_samples_leaf=5, max_features=log2, max_depth=15 \n",
      "[CV]  n_estimators=200, min_samples_split=15, min_samples_leaf=5, max_features=log2, max_depth=15, total= 1.9min\n",
      "[CV] n_estimators=200, min_samples_split=15, min_samples_leaf=5, max_features=log2, max_depth=15 \n",
      "[CV]  n_estimators=200, min_samples_split=15, min_samples_leaf=5, max_features=log2, max_depth=15, total= 1.9min\n",
      "[CV] n_estimators=200, min_samples_split=15, min_samples_leaf=5, max_features=log2, max_depth=15 \n",
      "[CV]  n_estimators=200, min_samples_split=15, min_samples_leaf=5, max_features=log2, max_depth=15, total= 1.9min\n",
      "[CV] n_estimators=200, min_samples_split=15, min_samples_leaf=5, max_features=log2, max_depth=15 \n",
      "[CV]  n_estimators=200, min_samples_split=15, min_samples_leaf=5, max_features=log2, max_depth=15, total= 1.9min\n",
      "[CV] n_estimators=200, min_samples_split=15, min_samples_leaf=5, max_features=log2, max_depth=15 \n",
      "[CV]  n_estimators=200, min_samples_split=15, min_samples_leaf=5, max_features=log2, max_depth=15, total= 1.9min\n",
      "[CV] n_estimators=200, min_samples_split=15, min_samples_leaf=1, max_features=log2, max_depth=30 \n",
      "[CV]  n_estimators=200, min_samples_split=15, min_samples_leaf=1, max_features=log2, max_depth=30, total= 2.4min\n",
      "[CV] n_estimators=200, min_samples_split=15, min_samples_leaf=1, max_features=log2, max_depth=30 \n",
      "[CV]  n_estimators=200, min_samples_split=15, min_samples_leaf=1, max_features=log2, max_depth=30, total= 2.3min\n",
      "[CV] n_estimators=200, min_samples_split=15, min_samples_leaf=1, max_features=log2, max_depth=30 \n",
      "[CV]  n_estimators=200, min_samples_split=15, min_samples_leaf=1, max_features=log2, max_depth=30, total= 2.4min\n",
      "[CV] n_estimators=200, min_samples_split=15, min_samples_leaf=1, max_features=log2, max_depth=30 \n",
      "[CV]  n_estimators=200, min_samples_split=15, min_samples_leaf=1, max_features=log2, max_depth=30, total= 2.4min\n",
      "[CV] n_estimators=200, min_samples_split=15, min_samples_leaf=1, max_features=log2, max_depth=30 \n",
      "[CV]  n_estimators=200, min_samples_split=15, min_samples_leaf=1, max_features=log2, max_depth=30, total= 2.5min\n",
      "[CV] n_estimators=400, min_samples_split=15, min_samples_leaf=1, max_features=log2, max_depth=10 \n"
     ]
    },
    {
     "name": "stdout",
     "output_type": "stream",
     "text": [
      "[CV]  n_estimators=400, min_samples_split=15, min_samples_leaf=1, max_features=log2, max_depth=10, total= 3.0min\n",
      "[CV] n_estimators=400, min_samples_split=15, min_samples_leaf=1, max_features=log2, max_depth=10 \n",
      "[CV]  n_estimators=400, min_samples_split=15, min_samples_leaf=1, max_features=log2, max_depth=10, total= 2.9min\n",
      "[CV] n_estimators=400, min_samples_split=15, min_samples_leaf=1, max_features=log2, max_depth=10 \n",
      "[CV]  n_estimators=400, min_samples_split=15, min_samples_leaf=1, max_features=log2, max_depth=10, total= 2.9min\n",
      "[CV] n_estimators=400, min_samples_split=15, min_samples_leaf=1, max_features=log2, max_depth=10 \n",
      "[CV]  n_estimators=400, min_samples_split=15, min_samples_leaf=1, max_features=log2, max_depth=10, total= 2.9min\n",
      "[CV] n_estimators=400, min_samples_split=15, min_samples_leaf=1, max_features=log2, max_depth=10 \n",
      "[CV]  n_estimators=400, min_samples_split=15, min_samples_leaf=1, max_features=log2, max_depth=10, total= 2.9min\n",
      "[CV] n_estimators=800, min_samples_split=10, min_samples_leaf=2, max_features=sqrt, max_depth=5 \n",
      "[CV]  n_estimators=800, min_samples_split=10, min_samples_leaf=2, max_features=sqrt, max_depth=5, total= 2.6min\n",
      "[CV] n_estimators=800, min_samples_split=10, min_samples_leaf=2, max_features=sqrt, max_depth=5 \n",
      "[CV]  n_estimators=800, min_samples_split=10, min_samples_leaf=2, max_features=sqrt, max_depth=5, total= 2.6min\n",
      "[CV] n_estimators=800, min_samples_split=10, min_samples_leaf=2, max_features=sqrt, max_depth=5 \n",
      "[CV]  n_estimators=800, min_samples_split=10, min_samples_leaf=2, max_features=sqrt, max_depth=5, total= 2.6min\n",
      "[CV] n_estimators=800, min_samples_split=10, min_samples_leaf=2, max_features=sqrt, max_depth=5 \n",
      "[CV]  n_estimators=800, min_samples_split=10, min_samples_leaf=2, max_features=sqrt, max_depth=5, total= 2.7min\n",
      "[CV] n_estimators=800, min_samples_split=10, min_samples_leaf=2, max_features=sqrt, max_depth=5 \n",
      "[CV]  n_estimators=800, min_samples_split=10, min_samples_leaf=2, max_features=sqrt, max_depth=5, total= 2.6min\n"
     ]
    },
    {
     "name": "stderr",
     "output_type": "stream",
     "text": [
      "[Parallel(n_jobs=1)]: Done  50 out of  50 | elapsed: 201.1min finished\n"
     ]
    }
   ],
   "source": [
    "rf=RandomForestClassifier()\n",
    "rf_R=RandomizedSearchCV(estimator=rf,param_distributions=param,n_jobs=1,n_iter=10,cv=5,verbose=2,random_state=0)\n",
    "rf_R.fit(X_resampled,y_resampled)\n",
    "rf_P=rf_R.predict(X_test)"
   ]
  },
  {
   "cell_type": "code",
   "execution_count": 61,
   "metadata": {},
   "outputs": [
    {
     "name": "stdout",
     "output_type": "stream",
     "text": [
      "[[24693  2465]\n",
      " [ 1876   966]]\n",
      "Precision: 0.2815505683474206\n",
      "Recall 0.3399014778325123\n",
      "Fl-Score 0.3079866092778575\n",
      "---------------------Test---------------------\n",
      "              precision    recall  f1-score   support\n",
      "\n",
      "           0       0.93      0.91      0.92     27158\n",
      "           1       0.28      0.34      0.31      2842\n",
      "\n",
      "    accuracy                           0.86     30000\n",
      "   macro avg       0.61      0.62      0.61     30000\n",
      "weighted avg       0.87      0.86      0.86     30000\n",
      "\n"
     ]
    },
    {
     "data": {
      "image/png": "[encoded data removed]",
      "text/plain": [
       "<Figure size 432x288 with 2 Axes>"
      ]
     },
     "metadata": {
      "needs_background": "light"
     },
     "output_type": "display_data"
    }
   ],
   "source": [
    "model_performance(y_test,rf_P)"
   ]
  },
  {
   "cell_type": "code",
   "execution_count": 63,
   "metadata": {},
   "outputs": [],
   "source": []
  },
  {
   "cell_type": "code",
   "execution_count": null,
   "metadata": {},
   "outputs": [],
   "source": []
  },
  {
   "cell_type": "code",
   "execution_count": null,
   "metadata": {},
   "outputs": [],
   "source": [
    "X=fraud2[features]\n",
    "y=fraud2['fraud']"
   ]
  },
  {
   "cell_type": "code",
   "execution_count": 19,
   "metadata": {},
   "outputs": [
    {
     "data": {
      "text/plain": [
       "150000"
      ]
     },
     "execution_count": 19,
     "metadata": {},
     "output_type": "execute_result"
    }
   ],
   "source": [
    "len(fraud1)"
   ]
  }
 ],
 "metadata": {
  "kernelspec": {
   "display_name": "Python 3",
   "language": "python",
   "name": "python3"
  },
  "language_info": {
   "codemirror_mode": {
    "name": "ipython",
    "version": 3
   },
   "file_extension": ".py",
   "mimetype": "text/x-python",
   "name": "python",
   "nbconvert_exporter": "python",
   "pygments_lexer": "ipython3",
   "version": "3.7.4"
  }
 },
 "nbformat": 4,
 "nbformat_minor": 4
}
